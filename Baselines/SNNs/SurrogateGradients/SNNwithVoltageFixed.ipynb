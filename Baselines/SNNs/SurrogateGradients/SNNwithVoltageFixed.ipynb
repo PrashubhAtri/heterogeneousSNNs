{
  "nbformat": 4,
  "nbformat_minor": 0,
  "metadata": {
    "colab": {
      "provenance": [],
      "authorship_tag": "ABX9TyNDk02brrfeBQWSTNx96c5V",
      "include_colab_link": true
    },
    "kernelspec": {
      "name": "python3",
      "display_name": "Python 3"
    },
    "language_info": {
      "name": "python"
    }
  },
  "cells": [
    {
      "cell_type": "markdown",
      "metadata": {
        "id": "view-in-github",
        "colab_type": "text"
      },
      "source": [
        "<a href=\"https://colab.research.google.com/github/PrashubhAtri/heterogeneousSNNs/blob/main/Baselines/SNNs/SurrogateGradients/SNNwithVoltageFixed.ipynb\" target=\"_parent\"><img src=\"https://colab.research.google.com/assets/colab-badge.svg\" alt=\"Open In Colab\"/></a>"
      ]
    },
    {
      "cell_type": "code",
      "execution_count": 1,
      "metadata": {
        "colab": {
          "base_uri": "https://localhost:8080/"
        },
        "id": "TxR1B4hnWgAt",
        "outputId": "b3ef5696-c1db-4274-e02a-c8ff59801469"
      },
      "outputs": [
        {
          "output_type": "stream",
          "name": "stdout",
          "text": [
            "Collecting snntorch\n",
            "  Downloading snntorch-0.9.4-py2.py3-none-any.whl.metadata (15 kB)\n",
            "Downloading snntorch-0.9.4-py2.py3-none-any.whl (125 kB)\n",
            "\u001b[?25l   \u001b[90m━━━━━━━━━━━━━━━━━━━━━━━━━━━━━━━━━━━━━━━━\u001b[0m \u001b[32m0.0/125.6 kB\u001b[0m \u001b[31m?\u001b[0m eta \u001b[36m-:--:--\u001b[0m\r\u001b[2K   \u001b[90m━━━━━━━━━━━━━━━━━━━━━━━━━━━━━━━━━━━━━━━━\u001b[0m \u001b[32m125.6/125.6 kB\u001b[0m \u001b[31m3.4 MB/s\u001b[0m eta \u001b[36m0:00:00\u001b[0m\n",
            "\u001b[?25hInstalling collected packages: snntorch\n",
            "Successfully installed snntorch-0.9.4\n"
          ]
        }
      ],
      "source": [
        "! pip install snntorch"
      ]
    },
    {
      "cell_type": "code",
      "source": [
        "!git clone https://github.com/fzenke/randman"
      ],
      "metadata": {
        "colab": {
          "base_uri": "https://localhost:8080/"
        },
        "id": "COs_AU2bbVFP",
        "outputId": "15d6811c-70df-4adb-fa55-bbe213b51e5c"
      },
      "execution_count": 2,
      "outputs": [
        {
          "output_type": "stream",
          "name": "stdout",
          "text": [
            "Cloning into 'randman'...\n",
            "remote: Enumerating objects: 104, done.\u001b[K\n",
            "remote: Counting objects: 100% (45/45), done.\u001b[K\n",
            "remote: Compressing objects: 100% (35/35), done.\u001b[K\n",
            "remote: Total 104 (delta 16), reused 34 (delta 8), pack-reused 59 (from 1)\u001b[K\n",
            "Receiving objects: 100% (104/104), 683.31 KiB | 2.98 MiB/s, done.\n",
            "Resolving deltas: 100% (31/31), done.\n"
          ]
        }
      ]
    },
    {
      "cell_type": "code",
      "source": [
        "import sys\n",
        "sys.path.append('/content/randman')"
      ],
      "metadata": {
        "id": "cQ7AjswvdNAV"
      },
      "execution_count": 5,
      "outputs": []
    },
    {
      "cell_type": "code",
      "source": [
        "import numpy as np\n",
        "import torch\n",
        "import torch.nn as nn\n",
        "import snntorch as snn\n",
        "from snntorch import surrogate\n",
        "import torch.optim.lr_scheduler as lr_scheduler\n",
        "import pandas as pd\n",
        "import randman\n",
        "from randman import Randman\n",
        "from torch.utils.data import TensorDataset, DataLoader\n",
        "from sklearn.model_selection import train_test_split"
      ],
      "metadata": {
        "id": "NTn9_PTdWkUt"
      },
      "execution_count": 4,
      "outputs": []
    },
    {
      "cell_type": "code",
      "source": [
        "device = torch.device(\"cuda\") if torch.cuda.is_available() else torch.device(\"cpu\")"
      ],
      "metadata": {
        "id": "UNLAszk4dYWW"
      },
      "execution_count": 6,
      "outputs": []
    },
    {
      "cell_type": "code",
      "source": [
        "# Constants for data generation\n",
        "nb_inputs  = 100\n",
        "nb_hidden  = 4\n",
        "nb_outputs = 2\n",
        "time_step = 1e-3\n",
        "nb_steps  = 200\n",
        "batch_size = 256\n",
        "n_samples = 1000\n",
        "SEED = 42"
      ],
      "metadata": {
        "id": "hr_J65_vaDZl"
      },
      "execution_count": 7,
      "outputs": []
    },
    {
      "cell_type": "code",
      "source": [
        "def standardize(x,eps=1e-7):\n",
        "    # x's (which is actually y in the following code) shape will be [samples, units]\n",
        "    # Therefore, 0-axis shows that the author standardize across all samples for each units\n",
        "    mi,_ = x.min(0)\n",
        "    ma,_ = x.max(0)\n",
        "    return (x-mi)/(ma-mi+eps)"
      ],
      "metadata": {
        "id": "KG0Rc_djW3__"
      },
      "execution_count": 8,
      "outputs": []
    },
    {
      "cell_type": "code",
      "source": [
        "def make_spiking_dataset(nb_classes=10, nb_units=100, nb_steps=100, step_frac=1.0, dim_manifold=2, nb_spikes=1, nb_samples=1000, alpha=2.0, shuffle=True, classification=True, seed=None):\n",
        "    \"\"\" Generates event-based generalized spiking randman classification/regression dataset.\n",
        "    In this dataset each unit fires a fixed number of spikes. So ratebased or spike count based decoding won't work.\n",
        "    All the information is stored in the relative timing between spikes.\n",
        "    For regression datasets the intrinsic manifold coordinates are returned for each target.\n",
        "    Args:\n",
        "        nb_classes: The number of classes to generate\n",
        "        nb_units: The number of units to assume\n",
        "        nb_steps: The number of time steps to assume\n",
        "        step_frac: Fraction of time steps from beginning of each to contain spikes (default 1.0)\n",
        "        nb_spikes: The number of spikes per unit\n",
        "        nb_samples: Number of samples from each manifold per class\n",
        "        alpha: Randman smoothness parameter\n",
        "        shuffe: Whether to shuffle the dataset\n",
        "        classification: Whether to generate a classification (default) or regression dataset\n",
        "        seed: The random seed (default: None)\n",
        "    Returns:\n",
        "        A tuple of data,labels. The data is structured as numpy array\n",
        "        (sample x event x 2 ) where the last dimension contains\n",
        "        the relative [0,1] (time,unit) coordinates and labels.\n",
        "    \"\"\"\n",
        "\n",
        "    data = []\n",
        "    labels = []\n",
        "    targets = []\n",
        "\n",
        "    if SEED is not None:\n",
        "        np.random.seed(SEED)\n",
        "\n",
        "    max_value = np.iinfo(int).max\n",
        "    randman_seeds = np.random.randint(max_value, size=(nb_classes,nb_spikes) )\n",
        "\n",
        "    for k in range(nb_classes):\n",
        "        x = np.random.rand(nb_samples,dim_manifold)\n",
        "\n",
        "        # The following code shows that if more than one spike, different spikes, even for the same unit, are generated by independent mappings\n",
        "        submans = [ randman.Randman(nb_units, dim_manifold, alpha=alpha, seed=randman_seeds[k,i]) for i in range(nb_spikes) ]\n",
        "        units = []\n",
        "        times = []\n",
        "        for i,rm in enumerate(submans):\n",
        "            y = rm.eval_manifold(x)\n",
        "            y = standardize(y)\n",
        "            units.append(np.repeat(np.arange(nb_units).reshape(1,-1),nb_samples,axis=0))\n",
        "            times.append(y.numpy())\n",
        "\n",
        "        units = np.concatenate(units,axis=1)\n",
        "        times = np.concatenate(times,axis=1)\n",
        "        events = np.stack([times,units],axis=2)\n",
        "        data.append(events)\n",
        "        labels.append(k*np.ones(len(units)))\n",
        "        targets.append(x)\n",
        "\n",
        "    data = np.concatenate(data, axis=0)\n",
        "    labels = np.array(np.concatenate(labels, axis=0), dtype=int)\n",
        "    targets = np.concatenate(targets, axis=0)\n",
        "\n",
        "    if shuffle:\n",
        "        idx = np.arange(len(data))\n",
        "        np.random.shuffle(idx)\n",
        "        data = data[idx]\n",
        "        labels = labels[idx]\n",
        "        targets = targets[idx]\n",
        "\n",
        "    data[:,:,0] *= nb_steps*step_frac\n",
        "    # data = np.array(data, dtype=int)\n",
        "\n",
        "    if classification:\n",
        "        return data, labels\n",
        "    else:\n",
        "        return data, targets"
      ],
      "metadata": {
        "id": "fgM4VZv6W_dI"
      },
      "execution_count": 9,
      "outputs": []
    },
    {
      "cell_type": "code",
      "source": [
        "def events_to_spike_train(data):\n",
        "    \"\"\"convert the data generated from manifold to spike train form\n",
        "\n",
        "    Args:\n",
        "        data (array): shape is [samples, nb_events, 2]\n",
        "\n",
        "    Returns:\n",
        "        spike_train: shape is [nb_samples, nb_time_steps, units]\n",
        "    \"\"\"\n",
        "\n",
        "    # astyle() will discard the decimal to give integer timestep\n",
        "    spike_steps = data[:, :, 0].astype(int)\n",
        "    spike_units = data[:, :, 1].astype(int)\n",
        "    # These will be the indices to entrices in the spike train to be set to 1\n",
        "\n",
        "    # Use the index on spike train matrix [samples, steps, units]\n",
        "    spike_train = np.zeros((data.shape[0], nb_steps, nb_inputs))\n",
        "    sample_indicies = np.expand_dims(np.arange(data.shape[0]), -1)\n",
        "    spike_train[sample_indicies, spike_steps, spike_units] = 1\n",
        "\n",
        "    return spike_train"
      ],
      "metadata": {
        "id": "1YXDm2hyXCpw"
      },
      "execution_count": 10,
      "outputs": []
    },
    {
      "cell_type": "code",
      "source": [
        "def get_randman_dataset():\n",
        "    \"\"\"generate a TensorDataset encapsulated x and y, where x is spike trains\n",
        "\n",
        "    Returns:\n",
        "        TensorDataset: [nb_samples, time_steps, units] and [nb_samples]\n",
        "    \"\"\"\n",
        "    data, label = make_spiking_dataset(nb_classes=nb_outputs, nb_units=nb_inputs, nb_steps=nb_steps, dim_manifold=3, seed=42, nb_samples=n_samples)\n",
        "    spike_train = events_to_spike_train(data)\n",
        "\n",
        "    spike_train = torch.Tensor(spike_train).to(device)\n",
        "    label = torch.Tensor(label).to(device)\n",
        "\n",
        "    # encapulate using Torch.Dataset\n",
        "    dataset = TensorDataset(spike_train, label)\n",
        "\n",
        "    return dataset"
      ],
      "metadata": {
        "id": "glHckWSHXG0X"
      },
      "execution_count": 11,
      "outputs": []
    },
    {
      "cell_type": "code",
      "source": [
        "# Hyperparameters\n",
        "NB_HIDDEN_UNITS = int(nb_outputs * 1.5)\n",
        "BETA = 0.85 # This can also be obtained using exp(-delta_t / tau)"
      ],
      "metadata": {
        "id": "LH96VsByXSpx"
      },
      "execution_count": 12,
      "outputs": []
    },
    {
      "cell_type": "code",
      "source": [
        "spike_trains = get_randman_dataset()"
      ],
      "metadata": {
        "id": "HE_jYj9-Z_rW"
      },
      "execution_count": 13,
      "outputs": []
    },
    {
      "cell_type": "code",
      "source": [
        "sample, label = spike_trains[0]  # Access the first sample\n",
        "print(f\"Sample shape: {sample.shape}\")\n",
        "print(f\"Label: {label}\")"
      ],
      "metadata": {
        "colab": {
          "base_uri": "https://localhost:8080/"
        },
        "id": "csaf0dxCbKbE",
        "outputId": "3cb550c9-3038-46c0-e420-4caadfb6370d"
      },
      "execution_count": 14,
      "outputs": [
        {
          "output_type": "stream",
          "name": "stdout",
          "text": [
            "Sample shape: torch.Size([200, 100])\n",
            "Label: 1.0\n"
          ]
        }
      ]
    },
    {
      "cell_type": "code",
      "source": [
        "len(spike_trains)"
      ],
      "metadata": {
        "colab": {
          "base_uri": "https://localhost:8080/"
        },
        "id": "2c1SEYzUKnyC",
        "outputId": "cde899d4-3f33-460d-af36-860f117d9ae2"
      },
      "execution_count": 15,
      "outputs": [
        {
          "output_type": "execute_result",
          "data": {
            "text/plain": [
              "2000"
            ]
          },
          "metadata": {},
          "execution_count": 15
        }
      ]
    },
    {
      "cell_type": "code",
      "source": [
        "# Split into ttv sets\n",
        "train, test, validation = 0.8, 0.1, 0.1\n",
        "\n",
        "all_labels = [spike_trains[i][1] for i in range(len(spike_trains))]\n",
        "\n",
        "# First split: train (80%) and temp (20%)\n",
        "train_idx, temp_idx = train_test_split(\n",
        "    np.arange(len(spike_trains)),\n",
        "    test_size=test,\n",
        "    stratify=all_labels,\n",
        "    random_state=SEED\n",
        ")\n",
        "\n",
        "# Second split: val (10%) and test (10%) from temp\n",
        "val_idx, test_idx = train_test_split(\n",
        "    temp_idx,\n",
        "    test_size=0.5,\n",
        "    stratify=[all_labels[i] for i in temp_idx],\n",
        "    random_state=SEED\n",
        ")\n",
        "\n",
        "from torch.utils.data import Subset\n",
        "train_dataset = Subset(spike_trains, train_idx)\n",
        "val_dataset = Subset(spike_trains, val_idx)\n",
        "test_dataset = Subset(spike_trains, test_idx)\n",
        "\n",
        "#Batch_size = 32\n",
        "batch_size = 32\n",
        "\n",
        "train_loader = DataLoader(train_dataset,batch_size=batch_size,shuffle=True)\n",
        "val_loader = DataLoader(val_dataset, batch_size=batch_size)\n",
        "test_loader = DataLoader(test_dataset, batch_size=batch_size)\n",
        "\n",
        "train_labels = [spike_trains[i][1] for i in train_dataset.indices]\n",
        "test_labels = [spike_trains[i][1] for i in test_dataset.indices]\n",
        "val_labels = [spike_trains[i][1] for i in val_dataset.indices]"
      ],
      "metadata": {
        "id": "yCDWVxp0eHdI"
      },
      "execution_count": 16,
      "outputs": []
    },
    {
      "cell_type": "code",
      "source": [
        "len(train_idx), len(val_idx), len(test_idx)"
      ],
      "metadata": {
        "colab": {
          "base_uri": "https://localhost:8080/"
        },
        "id": "5YmZ9Ku0Kufw",
        "outputId": "02a10109-b59e-4d73-b596-c31f606fb996"
      },
      "execution_count": 17,
      "outputs": [
        {
          "output_type": "execute_result",
          "data": {
            "text/plain": [
              "(1800, 100, 100)"
            ]
          },
          "metadata": {},
          "execution_count": 17
        }
      ]
    },
    {
      "cell_type": "code",
      "source": [
        "# Example: Iterate through the training DataLoader\n",
        "for batch_data, batch_labels in train_loader:\n",
        "    print(f\"Batch data shape: {batch_data.shape}\")\n",
        "    print(f\"Batch labels: {batch_labels}\")\n",
        "    break"
      ],
      "metadata": {
        "colab": {
          "base_uri": "https://localhost:8080/"
        },
        "id": "pPxAh_lahBYS",
        "outputId": "66433e42-e312-44e1-e552-7d5fc9949b8f"
      },
      "execution_count": 18,
      "outputs": [
        {
          "output_type": "stream",
          "name": "stdout",
          "text": [
            "Batch data shape: torch.Size([32, 200, 100])\n",
            "Batch labels: tensor([0., 0., 1., 1., 1., 1., 0., 0., 0., 1., 1., 0., 0., 0., 1., 1., 1., 0.,\n",
            "        1., 0., 1., 1., 0., 0., 0., 1., 1., 0., 1., 1., 0., 1.])\n"
          ]
        }
      ]
    },
    {
      "cell_type": "code",
      "source": [
        "# class SNN(nn.Module):\n",
        "#     def __init__(self, num_inputs=NB_STEPS, num_hidden=100, num_outputs=NB_CLASSES, beta=0.95):\n",
        "#         super(SNN, self).__init__()\n",
        "#         self.fc1 = nn.Linear(num_inputs, num_hidden)\n",
        "#         self.lif1 = snn.Leaky(beta=beta,\n",
        "#                               learn_beta=True,\n",
        "#                               # threshold=0.5,\n",
        "#                               # reset_mechanism=\"subtract\",\n",
        "#                               # init_hidden=True,\n",
        "#                               spike_grad=surrogate.fast_sigmoid(slope=100))\n",
        "\n",
        "#         self.fc2 = nn.Linear(num_hidden, num_outputs)\n",
        "#         self.lif2 = snn.Leaky(beta=beta,\n",
        "#                               learn_beta=True,\n",
        "#                               # threshold=0.5,\n",
        "#                               reset_mechanism=\"none\",\n",
        "#                               # init_hidden=True,\n",
        "#                               spike_grad=surrogate.fast_sigmoid(slope=100))\n",
        "\n",
        "#         # Xavier Uniform Initialization for Stability\n",
        "#         for m in self.modules():\n",
        "#             if isinstance(m, nn.Linear):\n",
        "#                 nn.init.xavier_uniform_(m.weight)\n",
        "#                 nn.init.zeros_(m.bias)\n",
        "\n",
        "#     def forward(self, x):\n",
        "#         batch_size, num_neurons, time_steps = x.shape\n",
        "#         x = x.permute(2, 0, 1)  # (time, batch, neurons)\n",
        "\n",
        "#         # Remove if hidden_state not set\n",
        "#         # mem1, mem2 = [torch.zeros(batch_size, layer.out_features, device=x.device)\n",
        "#         #                      for layer in [self.fc1, self.fc2]]\n",
        "#         # Store output membrane potentials over time\n",
        "#         spk2_sum = 0\n",
        "#         mem2_sum = 0\n",
        "#         mem2_rec = []\n",
        "#         mem1_state = self.lif1.init_leaky()\n",
        "#         mem2 = self.lif2.init_leaky()\n",
        "\n",
        "#         for t in range(time_steps):\n",
        "#             spk1, mem1_state = self.lif1(self.fc1(x[t]), mem1_state)\n",
        "#             # spk1, mem1 = self.lif1(self.fc1(x[t], mem1)) # remove hidden_state\n",
        "#             _, mem2 = self.lif2(self.fc2(spk1), mem2)\n",
        "#             # spk2, mem2 = self.lif2(self.fc2(spk1, mem2)) # remove hidden_state\n",
        "#             # spk2_sum += spk2\n",
        "#             mem2_sum += mem2\n",
        "#             mem2_rec.append(mem2)\n",
        "\n",
        "#         mem2_rec = torch.stack(mem2_rec)\n",
        "\n",
        "#         # Aggregate membrane potentials over time (sum)\n",
        "#         # mem2_rec = torch.stack(mem2_rec, dim=0).sum(dim=0)\n",
        "#         return spk2_sum / time_steps, mem2_sum / time_steps"
      ],
      "metadata": {
        "id": "Dk9YQ8dddiON"
      },
      "execution_count": 19,
      "outputs": []
    },
    {
      "cell_type": "code",
      "source": [
        "# # Instantiate Model with voltage aggregation\n",
        "# model = SNN()\n",
        "# criterion = nn.CrossEntropyLoss()\n",
        "# optimizer = torch.optim.Adam(model.parameters(), lr=0.01)\n",
        "# scheduler = lr_scheduler.CosineAnnealingLR(optimizer, T_max=50)\n",
        "\n",
        "# # Training Loop with Validation\n",
        "# num_epochs = 10\n",
        "# best_val_accuracy = 0.0\n",
        "# torch.autograd.set_detect_anomaly(True)\n",
        "\n",
        "# for epoch in range(num_epochs):\n",
        "#     # Training Phase\n",
        "#     model.train()\n",
        "#     running_loss = 0.0\n",
        "#     correct, total = 0, 0\n",
        "#     for inputs, labels in train_loader:\n",
        "#         optimizer.zero_grad()\n",
        "#         spike_out, mem_out = model(inputs)\n",
        "#         # loss = criterion(mem_out, labels)\n",
        "#         # predicted = torch.argmax(mem_out, dim=1)\n",
        "#         labels = labels.long()\n",
        "#         loss = criterion(mem_out, labels)\n",
        "#         loss.backward()\n",
        "#         torch.nn.utils.clip_grad_norm_(model.parameters(), max_norm=1.0)\n",
        "#         optimizer.step()\n",
        "#         running_loss += loss.item()\n",
        "#         predicted = torch.argmax(mem_out, dim=1)\n",
        "#         total += labels.size(0)\n",
        "#         correct += (predicted == labels).sum().item()\n",
        "\n",
        "#     train_loss = running_loss / len(train_loader)\n",
        "#     train_accuracy = correct / total\n",
        "\n",
        "#     # Validation Phase\n",
        "#     model.eval()\n",
        "#     val_loss = 0.0\n",
        "#     correct = 0\n",
        "#     total = 0\n",
        "#     with torch.no_grad():\n",
        "#         for inputs, labels in val_loader:\n",
        "#             spike_out, mem_out = model(inputs)\n",
        "#             labels = labels.long()\n",
        "#             loss = criterion(mem_out, labels)\n",
        "#             val_loss += loss.item()\n",
        "\n",
        "#             _, predicted = torch.max(mem_out, 1)\n",
        "#             total += labels.size(0)\n",
        "#             correct += (predicted == labels).sum().item()\n",
        "\n",
        "#     val_loss /= len(val_loader)\n",
        "#     val_accuracy = correct / total\n",
        "\n",
        "#     # Update learning rate\n",
        "#     scheduler.step()\n",
        "\n",
        "#     # Save best model\n",
        "#     if val_accuracy > best_val_accuracy:\n",
        "#         best_val_accuracy = val_accuracy\n",
        "#         torch.save(model.state_dict(), 'best_model.pth')\n",
        "\n",
        "#     print(f\"Epoch [{epoch+1}/{num_epochs}]\")\n",
        "#     print(f\"Train Accuracy: {train_accuracy*100:.2f}% | Train Loss: {train_loss:.4f} | Val Loss: {val_loss:.4f} | Val Acc: {val_accuracy*100:.2f}%\")\n",
        "\n",
        "# # Load best model for testing\n",
        "# model.load_state_dict(torch.load('best_model.pth'))\n",
        "\n",
        "# # Testing Loop\n",
        "# model.eval()\n",
        "# test_loss = 0.0\n",
        "# correct = 0\n",
        "# total = 0\n",
        "# with torch.no_grad():\n",
        "#     for inputs, labels in test_loader:\n",
        "#         spk_out, mem_out = model(inputs)\n",
        "#         labels = labels.long()\n",
        "#         loss = criterion(mem_out, labels)\n",
        "#         test_loss += loss.item()\n",
        "\n",
        "#         _, predicted = torch.max(mem_out, 1)\n",
        "#         total += labels.size(0)\n",
        "#         correct += (predicted == labels).sum().item()\n",
        "\n",
        "# test_loss /= len(test_loader)\n",
        "# test_accuracy = correct / total\n",
        "\n",
        "# print(f\"\\nFinal Test Results:\")\n",
        "# print(f\"Test Loss: {test_loss:.4f} | Test Accuracy: {test_accuracy*100:.2f}%\")"
      ],
      "metadata": {
        "id": "2vhwI18vhX4V"
      },
      "execution_count": 20,
      "outputs": []
    },
    {
      "cell_type": "code",
      "source": [
        "len(test_loader), len(train_loader), len(val_loader)"
      ],
      "metadata": {
        "id": "RxdCHoCrCzAg",
        "colab": {
          "base_uri": "https://localhost:8080/"
        },
        "outputId": "6331cf3a-0733-4fc6-cb8c-80539e5834ef"
      },
      "execution_count": 21,
      "outputs": [
        {
          "output_type": "execute_result",
          "data": {
            "text/plain": [
              "(4, 57, 4)"
            ]
          },
          "metadata": {},
          "execution_count": 21
        }
      ]
    },
    {
      "cell_type": "code",
      "source": [
        "# Visualize class distribution\n",
        "from collections import Counter\n",
        "labels = [int(label) for label in train_labels]\n",
        "print(Counter(labels))\n",
        "labels = [int(label) for label in test_labels]\n",
        "print(Counter(labels))\n",
        "labels = [int(label) for label in val_labels]\n",
        "print(Counter(labels))"
      ],
      "metadata": {
        "id": "HRaoVRONCy1y",
        "colab": {
          "base_uri": "https://localhost:8080/"
        },
        "outputId": "47bb09de-0af1-4596-867b-12b229bc3f45"
      },
      "execution_count": 22,
      "outputs": [
        {
          "output_type": "stream",
          "name": "stdout",
          "text": [
            "Counter({1: 900, 0: 900})\n",
            "Counter({1: 50, 0: 50})\n",
            "Counter({0: 50, 1: 50})\n"
          ]
        }
      ]
    },
    {
      "cell_type": "code",
      "source": [
        "class SNN(nn.Module):\n",
        "    def __init__(self, num_inputs=nb_inputs, num_hidden=100, num_outputs=nb_outputs, beta=0.95):\n",
        "        super(SNN, self).__init__()\n",
        "        self.fc1 = nn.Linear(num_inputs, num_hidden)\n",
        "        self.lif1 = snn.Leaky(beta=beta, spike_grad=surrogate.fast_sigmoid(slope=100))\n",
        "\n",
        "        self.fc2 = nn.Linear(num_hidden, num_outputs)\n",
        "        self.lif2 = snn.Leaky(beta=beta, spike_grad=surrogate.fast_sigmoid(slope=100))\n",
        "\n",
        "        for m in self.modules():\n",
        "            if isinstance(m, nn.Linear):\n",
        "                nn.init.xavier_uniform_(m.weight)\n",
        "                nn.init.zeros_(m.bias)\n",
        "\n",
        "    def forward(self, x):\n",
        "        # import pdb; pdb.set_trace()\n",
        "        batch_size, time_steps, num_neurons = x.shape\n",
        "        x = x.permute(1, 0, 2)  # (time, batch, neurons)\n",
        "\n",
        "        mem1, mem2 = [torch.zeros(batch_size, layer.out_features, device=x.device)\n",
        "                      for layer in [self.fc1, self.fc2]]\n",
        "\n",
        "        mem2_rec = []\n",
        "\n",
        "        for t in range(time_steps):\n",
        "            spk1, mem1 = self.lif1(self.fc1(x[t]), mem1)\n",
        "            _, mem2 = self.lif2(self.fc2(spk1), mem2)\n",
        "            mem2_rec.append(mem2)\n",
        "\n",
        "        return torch.stack(mem2_rec, dim=0)  # (time_steps, batch_size, num_outputs)"
      ],
      "metadata": {
        "id": "a6EIrrl6CyzL"
      },
      "execution_count": 23,
      "outputs": []
    },
    {
      "cell_type": "code",
      "source": [],
      "metadata": {
        "id": "gll6cb8bEkpq"
      },
      "execution_count": 23,
      "outputs": []
    },
    {
      "cell_type": "code",
      "source": [
        "def losscustom(mem, labels):\n",
        "  # batch, classes, time_steps\n",
        "  # import pdb; pdb.set_trace()\n",
        "  labels = labels.long()\n",
        "  non_labels = 1-labels\n",
        "\n",
        "  batch_idx = torch.arange(mem.shape[0])\n",
        "\n",
        "  correct = mem[batch_idx, labels]\n",
        "  non_correct = mem[batch_idx, non_labels]\n",
        "\n",
        "  diff = non_correct - correct\n",
        "  diff_activated = torch.where(diff > 0, diff, torch.zeros_like(diff))\n",
        "  return (diff_activated).mean()\n"
      ],
      "metadata": {
        "id": "22QGqJDtNIZ5"
      },
      "execution_count": 101,
      "outputs": []
    },
    {
      "cell_type": "code",
      "source": [
        "from tqdm import tqdm"
      ],
      "metadata": {
        "id": "_wtxeXFL_66P"
      },
      "execution_count": 102,
      "outputs": []
    },
    {
      "cell_type": "code",
      "source": [
        "mem_out_cache = None"
      ],
      "metadata": {
        "id": "0skVU-1REtGR"
      },
      "execution_count": 103,
      "outputs": []
    },
    {
      "cell_type": "code",
      "source": [
        "# Initialize model, loss, and optimizer\n",
        "model = SNN()\n",
        "criterion = nn.CrossEntropyLoss()\n",
        "optimizer = torch.optim.Adam(model.parameters(), lr=0.001)\n",
        "scheduler = lr_scheduler.CosineAnnealingLR(optimizer, T_max=50)\n",
        "\n",
        "# Training Loop\n",
        "num_epochs = 5\n",
        "best_val_accuracy = 0.0\n",
        "\n",
        "for epoch in range(num_epochs):\n",
        "    # Training Phase\n",
        "    model.train()\n",
        "    running_loss = 0.0\n",
        "    correct, total = 0, 0\n",
        "\n",
        "    for inputs, labels in tqdm(train_loader, total = len(train_loader)):\n",
        "        # import pdb; pdb.set_trace()\n",
        "        optimizer.zero_grad()\n",
        "        mem_out = model(inputs)  # Shape: (time_steps, batch_size, num_outputs)\n",
        "\n",
        "\n",
        "        # mem_out = mem_out.permute(1,2, 0)\n",
        "        # mem_out = torch.max(mem_out, dim = -1)[0]\n",
        "\n",
        "\n",
        "        # labels = labels.long()\n",
        "        # loss = criterion(mem_out, labels)\n",
        "\n",
        "        mem_out = mem_out.permute(1, 2, 0)\n",
        "        loss = losscustom(mem_out, labels)\n",
        "        loss.backward()\n",
        "\n",
        "        torch.nn.utils.clip_grad_norm_(model.parameters(), max_norm=1.0)\n",
        "        optimizer.step()\n",
        "\n",
        "        running_loss += loss.item()\n",
        "        mem_out_aux = torch.max(mem_out, dim = -1)[0]\n",
        "        predicted = torch.argmax(mem_out_aux, dim=1)\n",
        "        total += labels.size(0)\n",
        "\n",
        "        correct += (predicted == labels).sum().item()\n",
        "\n",
        "    train_loss = running_loss / len(train_loader)\n",
        "    train_accuracy = correct / total\n",
        "\n",
        "    # Validation Phase\n",
        "    model.eval()\n",
        "    val_loss = 0.0\n",
        "    correct, total = 0, 0\n",
        "    with torch.no_grad():\n",
        "        for inputs, labels in val_loader:\n",
        "            # import pdb; pdb.set_trace()\n",
        "            mem_out = model(inputs)\n",
        "            # mem_out = mem_out.permute(1,2, 0)\n",
        "            # mem_out = torch.max(mem_out, dim = -1)[0]\n",
        "            # labels = labels.long()\n",
        "            # loss = criterion(mem_out, labels)\n",
        "\n",
        "            mem_out = mem_out.permute(1, 2, 0)\n",
        "            loss = losscustom(mem_out, labels)\n",
        "            val_loss += loss.item()\n",
        "\n",
        "            mem_out_aux = torch.max(mem_out, dim = -1)[0]\n",
        "\n",
        "            predicted = torch.argmax(mem_out_aux, dim=1)\n",
        "            total += labels.size(0)\n",
        "            correct += (predicted == labels).sum().item()\n",
        "\n",
        "    val_loss /= len(val_loader)\n",
        "    val_accuracy = correct / total\n",
        "\n",
        "    # Save best model\n",
        "    if val_accuracy > best_val_accuracy:\n",
        "        best_val_accuracy = val_accuracy\n",
        "        torch.save(model.state_dict(), 'best_model.pth')\n",
        "\n",
        "    print(f\"Epoch [{epoch+1}/{num_epochs}]\")\n",
        "    print(f\"Train Acc: {train_accuracy*100:.2f}% | Train Loss: {train_loss:.4f} | Val Loss: {val_loss:.4f} | Val Acc: {val_accuracy*100:.2f}%\")\n",
        "\n",
        "# Load best model for testing\n",
        "model.load_state_dict(torch.load('best_model.pth'))\n",
        "\n",
        "# Testing Loop\n",
        "model.eval()\n",
        "test_loss, correct, total = 0.0, 0, 0\n",
        "with torch.no_grad():\n",
        "    for inputs, labels in test_loader:\n",
        "        mem_out = model(inputs)\n",
        "        mem_out = mem_out.permute(1,2, 0)\n",
        "        # mem_out = torch.max(mem_out, dim = -1)[0]\n",
        "        # labels = labels.long()\n",
        "        # loss = criterion(mem_out, labels)\n",
        "        loss = losscustom(mem_out, labels)\n",
        "        test_loss += loss.item()\n",
        "\n",
        "        mem_out_aux = torch.max(mem_out, dim = -1)[0]\n",
        "\n",
        "        predicted = torch.argmax(mem_out_aux, dim=1)\n",
        "        total += labels.size(0)\n",
        "        correct += (predicted == labels).sum().item()\n",
        "\n",
        "test_loss /= len(test_loader)\n",
        "test_accuracy = correct / total\n",
        "\n",
        "print(f\"\\nFinal Test Results:\")\n",
        "print(f\"Test Loss: {test_loss:.4f} | Test Accuracy: {test_accuracy*100:.2f}%\")\n"
      ],
      "metadata": {
        "id": "xObcMQSpCywU",
        "colab": {
          "base_uri": "https://localhost:8080/"
        },
        "outputId": "4e9468b6-4835-47ec-85ec-f6623696cb1b"
      },
      "execution_count": 104,
      "outputs": [
        {
          "output_type": "stream",
          "name": "stderr",
          "text": [
            "100%|██████████| 57/57 [00:15<00:00,  3.60it/s]\n"
          ]
        },
        {
          "output_type": "stream",
          "name": "stdout",
          "text": [
            "Epoch [1/5]\n",
            "Train Acc: 81.61% | Train Loss: 0.0064 | Val Loss: 0.0033 | Val Acc: 95.00%\n"
          ]
        },
        {
          "output_type": "stream",
          "name": "stderr",
          "text": [
            "100%|██████████| 57/57 [00:15<00:00,  3.67it/s]\n"
          ]
        },
        {
          "output_type": "stream",
          "name": "stdout",
          "text": [
            "Epoch [2/5]\n",
            "Train Acc: 97.67% | Train Loss: 0.0024 | Val Loss: 0.0025 | Val Acc: 98.00%\n"
          ]
        },
        {
          "output_type": "stream",
          "name": "stderr",
          "text": [
            "100%|██████████| 57/57 [00:15<00:00,  3.67it/s]\n"
          ]
        },
        {
          "output_type": "stream",
          "name": "stdout",
          "text": [
            "Epoch [3/5]\n",
            "Train Acc: 99.28% | Train Loss: 0.0014 | Val Loss: 0.0013 | Val Acc: 97.00%\n"
          ]
        },
        {
          "output_type": "stream",
          "name": "stderr",
          "text": [
            "100%|██████████| 57/57 [00:16<00:00,  3.54it/s]\n"
          ]
        },
        {
          "output_type": "stream",
          "name": "stdout",
          "text": [
            "Epoch [4/5]\n",
            "Train Acc: 99.11% | Train Loss: 0.0010 | Val Loss: 0.0012 | Val Acc: 98.00%\n"
          ]
        },
        {
          "output_type": "stream",
          "name": "stderr",
          "text": [
            "100%|██████████| 57/57 [00:15<00:00,  3.67it/s]\n"
          ]
        },
        {
          "output_type": "stream",
          "name": "stdout",
          "text": [
            "Epoch [5/5]\n",
            "Train Acc: 99.50% | Train Loss: 0.0009 | Val Loss: 0.0015 | Val Acc: 100.00%\n",
            "\n",
            "Final Test Results:\n",
            "Test Loss: 0.0012 | Test Accuracy: 100.00%\n"
          ]
        }
      ]
    },
    {
      "cell_type": "code",
      "source": [
        "for batch in train_loader:\n",
        "    break"
      ],
      "metadata": {
        "id": "8D5FD4HkErVz"
      },
      "execution_count": 105,
      "outputs": []
    },
    {
      "cell_type": "code",
      "source": [
        "batch[0].shape, batch[1].shape"
      ],
      "metadata": {
        "colab": {
          "base_uri": "https://localhost:8080/"
        },
        "id": "ti4te-86Ezqi",
        "outputId": "8c9b5936-0e6f-4f93-94ce-68a02e2ae461"
      },
      "execution_count": 106,
      "outputs": [
        {
          "output_type": "execute_result",
          "data": {
            "text/plain": [
              "(torch.Size([32, 200, 100]), torch.Size([32]))"
            ]
          },
          "metadata": {},
          "execution_count": 106
        }
      ]
    },
    {
      "cell_type": "code",
      "source": [
        "model_temp = SNN()"
      ],
      "metadata": {
        "id": "vhmJPc9tFx3B"
      },
      "execution_count": 50,
      "outputs": []
    },
    {
      "cell_type": "code",
      "source": [
        "aux_out = model_temp(batch[0])"
      ],
      "metadata": {
        "id": "3LlIu-quE7De"
      },
      "execution_count": 51,
      "outputs": []
    },
    {
      "cell_type": "code",
      "source": [
        "aux_out.shape\n",
        "aux_out= aux_out.permute(1, 2, 0)\n",
        "aux_out.shape"
      ],
      "metadata": {
        "colab": {
          "base_uri": "https://localhost:8080/"
        },
        "id": "BPgF8YJ8E99J",
        "outputId": "e96dd4a2-af5e-4ea8-d0da-8126a9ec9ce6"
      },
      "execution_count": 52,
      "outputs": [
        {
          "output_type": "execute_result",
          "data": {
            "text/plain": [
              "torch.Size([32, 2, 200])"
            ]
          },
          "metadata": {},
          "execution_count": 52
        }
      ]
    },
    {
      "cell_type": "code",
      "source": [
        "losscustom(aux_out, batch[1])"
      ],
      "metadata": {
        "colab": {
          "base_uri": "https://localhost:8080/"
        },
        "id": "5Tgw4ftWrg9l",
        "outputId": "840c6638-0f52-4212-af8b-36ee786ffb97"
      },
      "execution_count": 53,
      "outputs": [
        {
          "output_type": "stream",
          "name": "stderr",
          "text": [
            "\n",
            "PYDEV DEBUGGER WARNING:\n",
            "sys.settrace() should not be used when the debugger is being used.\n",
            "This may cause the debugger to stop working correctly.\n",
            "If this is needed, please check: \n",
            "http://pydev.blogspot.com/2007/06/why-cant-pydev-debugger-work-with.html\n",
            "to see how to restore the debug tracing back correctly.\n",
            "Call Location:\n",
            "  File \"/usr/lib/python3.11/bdb.py\", line 336, in set_trace\n",
            "    sys.settrace(self.trace_dispatch)\n",
            "\n"
          ]
        },
        {
          "name": "stdout",
          "output_type": "stream",
          "text": [
            "> \u001b[0;32m<ipython-input-47-07f91724df8f>\u001b[0m(4)\u001b[0;36mlosscustom\u001b[0;34m()\u001b[0m\n",
            "\u001b[0;32m      2 \u001b[0;31m  \u001b[0;31m# batch, classes, time_steps\u001b[0m\u001b[0;34m\u001b[0m\u001b[0;34m\u001b[0m\u001b[0m\n",
            "\u001b[0m\u001b[0;32m      3 \u001b[0;31m  \u001b[0;32mimport\u001b[0m \u001b[0mpdb\u001b[0m\u001b[0;34m;\u001b[0m \u001b[0mpdb\u001b[0m\u001b[0;34m.\u001b[0m\u001b[0mset_trace\u001b[0m\u001b[0;34m(\u001b[0m\u001b[0;34m)\u001b[0m\u001b[0;34m\u001b[0m\u001b[0;34m\u001b[0m\u001b[0m\n",
            "\u001b[0m\u001b[0;32m----> 4 \u001b[0;31m  \u001b[0mlabels\u001b[0m \u001b[0;34m=\u001b[0m \u001b[0mlabels\u001b[0m\u001b[0;34m.\u001b[0m\u001b[0mlong\u001b[0m\u001b[0;34m(\u001b[0m\u001b[0;34m)\u001b[0m\u001b[0;34m\u001b[0m\u001b[0;34m\u001b[0m\u001b[0m\n",
            "\u001b[0m\u001b[0;32m      5 \u001b[0;31m  \u001b[0mnon_labels\u001b[0m \u001b[0;34m=\u001b[0m \u001b[0;36m1\u001b[0m\u001b[0;34m-\u001b[0m\u001b[0mlabels\u001b[0m\u001b[0;34m\u001b[0m\u001b[0;34m\u001b[0m\u001b[0m\n",
            "\u001b[0m\u001b[0;32m      6 \u001b[0;31m\u001b[0;34m\u001b[0m\u001b[0m\n",
            "\u001b[0m\n",
            "ipdb> n\n",
            "> \u001b[0;32m<ipython-input-47-07f91724df8f>\u001b[0m(5)\u001b[0;36mlosscustom\u001b[0;34m()\u001b[0m\n",
            "\u001b[0;32m      3 \u001b[0;31m  \u001b[0;32mimport\u001b[0m \u001b[0mpdb\u001b[0m\u001b[0;34m;\u001b[0m \u001b[0mpdb\u001b[0m\u001b[0;34m.\u001b[0m\u001b[0mset_trace\u001b[0m\u001b[0;34m(\u001b[0m\u001b[0;34m)\u001b[0m\u001b[0;34m\u001b[0m\u001b[0;34m\u001b[0m\u001b[0m\n",
            "\u001b[0m\u001b[0;32m      4 \u001b[0;31m  \u001b[0mlabels\u001b[0m \u001b[0;34m=\u001b[0m \u001b[0mlabels\u001b[0m\u001b[0;34m.\u001b[0m\u001b[0mlong\u001b[0m\u001b[0;34m(\u001b[0m\u001b[0;34m)\u001b[0m\u001b[0;34m\u001b[0m\u001b[0;34m\u001b[0m\u001b[0m\n",
            "\u001b[0m\u001b[0;32m----> 5 \u001b[0;31m  \u001b[0mnon_labels\u001b[0m \u001b[0;34m=\u001b[0m \u001b[0;36m1\u001b[0m\u001b[0;34m-\u001b[0m\u001b[0mlabels\u001b[0m\u001b[0;34m\u001b[0m\u001b[0;34m\u001b[0m\u001b[0m\n",
            "\u001b[0m\u001b[0;32m      6 \u001b[0;31m\u001b[0;34m\u001b[0m\u001b[0m\n",
            "\u001b[0m\u001b[0;32m      7 \u001b[0;31m  \u001b[0mbatch_idx\u001b[0m \u001b[0;34m=\u001b[0m \u001b[0mtorch\u001b[0m\u001b[0;34m.\u001b[0m\u001b[0marange\u001b[0m\u001b[0;34m(\u001b[0m\u001b[0mmem\u001b[0m\u001b[0;34m.\u001b[0m\u001b[0mshape\u001b[0m\u001b[0;34m[\u001b[0m\u001b[0;36m0\u001b[0m\u001b[0;34m]\u001b[0m\u001b[0;34m)\u001b[0m\u001b[0;34m\u001b[0m\u001b[0;34m\u001b[0m\u001b[0m\n",
            "\u001b[0m\n",
            "ipdb> n\n",
            "> \u001b[0;32m<ipython-input-47-07f91724df8f>\u001b[0m(7)\u001b[0;36mlosscustom\u001b[0;34m()\u001b[0m\n",
            "\u001b[0;32m      5 \u001b[0;31m  \u001b[0mnon_labels\u001b[0m \u001b[0;34m=\u001b[0m \u001b[0;36m1\u001b[0m\u001b[0;34m-\u001b[0m\u001b[0mlabels\u001b[0m\u001b[0;34m\u001b[0m\u001b[0;34m\u001b[0m\u001b[0m\n",
            "\u001b[0m\u001b[0;32m      6 \u001b[0;31m\u001b[0;34m\u001b[0m\u001b[0m\n",
            "\u001b[0m\u001b[0;32m----> 7 \u001b[0;31m  \u001b[0mbatch_idx\u001b[0m \u001b[0;34m=\u001b[0m \u001b[0mtorch\u001b[0m\u001b[0;34m.\u001b[0m\u001b[0marange\u001b[0m\u001b[0;34m(\u001b[0m\u001b[0mmem\u001b[0m\u001b[0;34m.\u001b[0m\u001b[0mshape\u001b[0m\u001b[0;34m[\u001b[0m\u001b[0;36m0\u001b[0m\u001b[0;34m]\u001b[0m\u001b[0;34m)\u001b[0m\u001b[0;34m\u001b[0m\u001b[0;34m\u001b[0m\u001b[0m\n",
            "\u001b[0m\u001b[0;32m      8 \u001b[0;31m\u001b[0;34m\u001b[0m\u001b[0m\n",
            "\u001b[0m\u001b[0;32m      9 \u001b[0;31m  \u001b[0mcorrect\u001b[0m \u001b[0;34m=\u001b[0m \u001b[0mmem\u001b[0m\u001b[0;34m[\u001b[0m\u001b[0mbatch_idx\u001b[0m\u001b[0;34m,\u001b[0m \u001b[0mlabels\u001b[0m\u001b[0;34m]\u001b[0m\u001b[0;34m\u001b[0m\u001b[0;34m\u001b[0m\u001b[0m\n",
            "\u001b[0m\n",
            "ipdb> n\n",
            "> \u001b[0;32m<ipython-input-47-07f91724df8f>\u001b[0m(9)\u001b[0;36mlosscustom\u001b[0;34m()\u001b[0m\n",
            "\u001b[0;32m      7 \u001b[0;31m  \u001b[0mbatch_idx\u001b[0m \u001b[0;34m=\u001b[0m \u001b[0mtorch\u001b[0m\u001b[0;34m.\u001b[0m\u001b[0marange\u001b[0m\u001b[0;34m(\u001b[0m\u001b[0mmem\u001b[0m\u001b[0;34m.\u001b[0m\u001b[0mshape\u001b[0m\u001b[0;34m[\u001b[0m\u001b[0;36m0\u001b[0m\u001b[0;34m]\u001b[0m\u001b[0;34m)\u001b[0m\u001b[0;34m\u001b[0m\u001b[0;34m\u001b[0m\u001b[0m\n",
            "\u001b[0m\u001b[0;32m      8 \u001b[0;31m\u001b[0;34m\u001b[0m\u001b[0m\n",
            "\u001b[0m\u001b[0;32m----> 9 \u001b[0;31m  \u001b[0mcorrect\u001b[0m \u001b[0;34m=\u001b[0m \u001b[0mmem\u001b[0m\u001b[0;34m[\u001b[0m\u001b[0mbatch_idx\u001b[0m\u001b[0;34m,\u001b[0m \u001b[0mlabels\u001b[0m\u001b[0;34m]\u001b[0m\u001b[0;34m\u001b[0m\u001b[0;34m\u001b[0m\u001b[0m\n",
            "\u001b[0m\u001b[0;32m     10 \u001b[0;31m  \u001b[0mnon_correct\u001b[0m \u001b[0;34m=\u001b[0m \u001b[0mmem\u001b[0m\u001b[0;34m[\u001b[0m\u001b[0mbatch_idx\u001b[0m\u001b[0;34m,\u001b[0m \u001b[0mnon_labels\u001b[0m\u001b[0;34m]\u001b[0m\u001b[0;34m\u001b[0m\u001b[0;34m\u001b[0m\u001b[0m\n",
            "\u001b[0m\u001b[0;32m     11 \u001b[0;31m  \u001b[0mprint\u001b[0m\u001b[0;34m(\u001b[0m\u001b[0mcorrect\u001b[0m\u001b[0;34m.\u001b[0m\u001b[0mshape\u001b[0m\u001b[0;34m,\u001b[0m \u001b[0mnon_correct\u001b[0m\u001b[0;34m.\u001b[0m\u001b[0mshape\u001b[0m\u001b[0;34m)\u001b[0m\u001b[0;34m\u001b[0m\u001b[0;34m\u001b[0m\u001b[0m\n",
            "\u001b[0m\n",
            "ipdb> n\n",
            "> \u001b[0;32m<ipython-input-47-07f91724df8f>\u001b[0m(10)\u001b[0;36mlosscustom\u001b[0;34m()\u001b[0m\n",
            "\u001b[0;32m      7 \u001b[0;31m  \u001b[0mbatch_idx\u001b[0m \u001b[0;34m=\u001b[0m \u001b[0mtorch\u001b[0m\u001b[0;34m.\u001b[0m\u001b[0marange\u001b[0m\u001b[0;34m(\u001b[0m\u001b[0mmem\u001b[0m\u001b[0;34m.\u001b[0m\u001b[0mshape\u001b[0m\u001b[0;34m[\u001b[0m\u001b[0;36m0\u001b[0m\u001b[0;34m]\u001b[0m\u001b[0;34m)\u001b[0m\u001b[0;34m\u001b[0m\u001b[0;34m\u001b[0m\u001b[0m\n",
            "\u001b[0m\u001b[0;32m      8 \u001b[0;31m\u001b[0;34m\u001b[0m\u001b[0m\n",
            "\u001b[0m\u001b[0;32m      9 \u001b[0;31m  \u001b[0mcorrect\u001b[0m \u001b[0;34m=\u001b[0m \u001b[0mmem\u001b[0m\u001b[0;34m[\u001b[0m\u001b[0mbatch_idx\u001b[0m\u001b[0;34m,\u001b[0m \u001b[0mlabels\u001b[0m\u001b[0;34m]\u001b[0m\u001b[0;34m\u001b[0m\u001b[0;34m\u001b[0m\u001b[0m\n",
            "\u001b[0m\u001b[0;32m---> 10 \u001b[0;31m  \u001b[0mnon_correct\u001b[0m \u001b[0;34m=\u001b[0m \u001b[0mmem\u001b[0m\u001b[0;34m[\u001b[0m\u001b[0mbatch_idx\u001b[0m\u001b[0;34m,\u001b[0m \u001b[0mnon_labels\u001b[0m\u001b[0;34m]\u001b[0m\u001b[0;34m\u001b[0m\u001b[0;34m\u001b[0m\u001b[0m\n",
            "\u001b[0m\u001b[0;32m     11 \u001b[0;31m  \u001b[0mprint\u001b[0m\u001b[0;34m(\u001b[0m\u001b[0mcorrect\u001b[0m\u001b[0;34m.\u001b[0m\u001b[0mshape\u001b[0m\u001b[0;34m,\u001b[0m \u001b[0mnon_correct\u001b[0m\u001b[0;34m.\u001b[0m\u001b[0mshape\u001b[0m\u001b[0;34m)\u001b[0m\u001b[0;34m\u001b[0m\u001b[0;34m\u001b[0m\u001b[0m\n",
            "\u001b[0m\n",
            "ipdb> n\n",
            "> \u001b[0;32m<ipython-input-47-07f91724df8f>\u001b[0m(11)\u001b[0;36mlosscustom\u001b[0;34m()\u001b[0m\n",
            "\u001b[0;32m      7 \u001b[0;31m  \u001b[0mbatch_idx\u001b[0m \u001b[0;34m=\u001b[0m \u001b[0mtorch\u001b[0m\u001b[0;34m.\u001b[0m\u001b[0marange\u001b[0m\u001b[0;34m(\u001b[0m\u001b[0mmem\u001b[0m\u001b[0;34m.\u001b[0m\u001b[0mshape\u001b[0m\u001b[0;34m[\u001b[0m\u001b[0;36m0\u001b[0m\u001b[0;34m]\u001b[0m\u001b[0;34m)\u001b[0m\u001b[0;34m\u001b[0m\u001b[0;34m\u001b[0m\u001b[0m\n",
            "\u001b[0m\u001b[0;32m      8 \u001b[0;31m\u001b[0;34m\u001b[0m\u001b[0m\n",
            "\u001b[0m\u001b[0;32m      9 \u001b[0;31m  \u001b[0mcorrect\u001b[0m \u001b[0;34m=\u001b[0m \u001b[0mmem\u001b[0m\u001b[0;34m[\u001b[0m\u001b[0mbatch_idx\u001b[0m\u001b[0;34m,\u001b[0m \u001b[0mlabels\u001b[0m\u001b[0;34m]\u001b[0m\u001b[0;34m\u001b[0m\u001b[0;34m\u001b[0m\u001b[0m\n",
            "\u001b[0m\u001b[0;32m     10 \u001b[0;31m  \u001b[0mnon_correct\u001b[0m \u001b[0;34m=\u001b[0m \u001b[0mmem\u001b[0m\u001b[0;34m[\u001b[0m\u001b[0mbatch_idx\u001b[0m\u001b[0;34m,\u001b[0m \u001b[0mnon_labels\u001b[0m\u001b[0;34m]\u001b[0m\u001b[0;34m\u001b[0m\u001b[0;34m\u001b[0m\u001b[0m\n",
            "\u001b[0m\u001b[0;32m---> 11 \u001b[0;31m  \u001b[0mprint\u001b[0m\u001b[0;34m(\u001b[0m\u001b[0mcorrect\u001b[0m\u001b[0;34m.\u001b[0m\u001b[0mshape\u001b[0m\u001b[0;34m,\u001b[0m \u001b[0mnon_correct\u001b[0m\u001b[0;34m.\u001b[0m\u001b[0mshape\u001b[0m\u001b[0;34m)\u001b[0m\u001b[0;34m\u001b[0m\u001b[0;34m\u001b[0m\u001b[0m\n",
            "\u001b[0m\n",
            "ipdb> n\n",
            "torch.Size([32, 200]) torch.Size([32, 200])\n",
            "--Return--\n",
            "None\n",
            "> \u001b[0;32m<ipython-input-47-07f91724df8f>\u001b[0m(11)\u001b[0;36mlosscustom\u001b[0;34m()\u001b[0m\n",
            "\u001b[0;32m      7 \u001b[0;31m  \u001b[0mbatch_idx\u001b[0m \u001b[0;34m=\u001b[0m \u001b[0mtorch\u001b[0m\u001b[0;34m.\u001b[0m\u001b[0marange\u001b[0m\u001b[0;34m(\u001b[0m\u001b[0mmem\u001b[0m\u001b[0;34m.\u001b[0m\u001b[0mshape\u001b[0m\u001b[0;34m[\u001b[0m\u001b[0;36m0\u001b[0m\u001b[0;34m]\u001b[0m\u001b[0;34m)\u001b[0m\u001b[0;34m\u001b[0m\u001b[0;34m\u001b[0m\u001b[0m\n",
            "\u001b[0m\u001b[0;32m      8 \u001b[0;31m\u001b[0;34m\u001b[0m\u001b[0m\n",
            "\u001b[0m\u001b[0;32m      9 \u001b[0;31m  \u001b[0mcorrect\u001b[0m \u001b[0;34m=\u001b[0m \u001b[0mmem\u001b[0m\u001b[0;34m[\u001b[0m\u001b[0mbatch_idx\u001b[0m\u001b[0;34m,\u001b[0m \u001b[0mlabels\u001b[0m\u001b[0;34m]\u001b[0m\u001b[0;34m\u001b[0m\u001b[0;34m\u001b[0m\u001b[0m\n",
            "\u001b[0m\u001b[0;32m     10 \u001b[0;31m  \u001b[0mnon_correct\u001b[0m \u001b[0;34m=\u001b[0m \u001b[0mmem\u001b[0m\u001b[0;34m[\u001b[0m\u001b[0mbatch_idx\u001b[0m\u001b[0;34m,\u001b[0m \u001b[0mnon_labels\u001b[0m\u001b[0;34m]\u001b[0m\u001b[0;34m\u001b[0m\u001b[0;34m\u001b[0m\u001b[0m\n",
            "\u001b[0m\u001b[0;32m---> 11 \u001b[0;31m  \u001b[0mprint\u001b[0m\u001b[0;34m(\u001b[0m\u001b[0mcorrect\u001b[0m\u001b[0;34m.\u001b[0m\u001b[0mshape\u001b[0m\u001b[0;34m,\u001b[0m \u001b[0mnon_correct\u001b[0m\u001b[0;34m.\u001b[0m\u001b[0mshape\u001b[0m\u001b[0;34m)\u001b[0m\u001b[0;34m\u001b[0m\u001b[0;34m\u001b[0m\u001b[0m\n",
            "\u001b[0m\n",
            "ipdb> n\n",
            "--Call--\n",
            "> \u001b[0;32m/usr/local/lib/python3.11/dist-packages/IPython/core/displayhook.py\u001b[0m(252)\u001b[0;36m__call__\u001b[0;34m()\u001b[0m\n",
            "\u001b[0;32m    250 \u001b[0;31m        \u001b[0msys\u001b[0m\u001b[0;34m.\u001b[0m\u001b[0mstdout\u001b[0m\u001b[0;34m.\u001b[0m\u001b[0mflush\u001b[0m\u001b[0;34m(\u001b[0m\u001b[0;34m)\u001b[0m\u001b[0;34m\u001b[0m\u001b[0;34m\u001b[0m\u001b[0m\n",
            "\u001b[0m\u001b[0;32m    251 \u001b[0;31m\u001b[0;34m\u001b[0m\u001b[0m\n",
            "\u001b[0m\u001b[0;32m--> 252 \u001b[0;31m    \u001b[0;32mdef\u001b[0m \u001b[0m__call__\u001b[0m\u001b[0;34m(\u001b[0m\u001b[0mself\u001b[0m\u001b[0;34m,\u001b[0m \u001b[0mresult\u001b[0m\u001b[0;34m=\u001b[0m\u001b[0;32mNone\u001b[0m\u001b[0;34m)\u001b[0m\u001b[0;34m:\u001b[0m\u001b[0;34m\u001b[0m\u001b[0;34m\u001b[0m\u001b[0m\n",
            "\u001b[0m\u001b[0;32m    253 \u001b[0;31m        \"\"\"Printing with history cache management.\n",
            "\u001b[0m\u001b[0;32m    254 \u001b[0;31m\u001b[0;34m\u001b[0m\u001b[0m\n",
            "\u001b[0m\n",
            "ipdb> q\n"
          ]
        },
        {
          "output_type": "stream",
          "name": "stderr",
          "text": [
            "\n",
            "PYDEV DEBUGGER WARNING:\n",
            "sys.settrace() should not be used when the debugger is being used.\n",
            "This may cause the debugger to stop working correctly.\n",
            "If this is needed, please check: \n",
            "http://pydev.blogspot.com/2007/06/why-cant-pydev-debugger-work-with.html\n",
            "to see how to restore the debug tracing back correctly.\n",
            "Call Location:\n",
            "  File \"/usr/lib/python3.11/bdb.py\", line 361, in set_quit\n",
            "    sys.settrace(None)\n",
            "\n"
          ]
        }
      ]
    },
    {
      "cell_type": "code",
      "source": [
        "aux_out[torch.arange(aux_out.shape[0]), labels].shape"
      ],
      "metadata": {
        "colab": {
          "base_uri": "https://localhost:8080/"
        },
        "id": "6B5IEae_rueX",
        "outputId": "0a5c70aa-0cca-4157-bf6c-fd278f994d14"
      },
      "execution_count": 46,
      "outputs": [
        {
          "output_type": "execute_result",
          "data": {
            "text/plain": [
              "torch.Size([32, 200])"
            ]
          },
          "metadata": {},
          "execution_count": 46
        }
      ]
    },
    {
      "cell_type": "code",
      "source": [
        "losscustom(aux_out, batch[1])"
      ],
      "metadata": {
        "colab": {
          "base_uri": "https://localhost:8080/"
        },
        "id": "q8pNIBv5NyFw",
        "outputId": "500bfd78-38e6-44b7-fa70-0919d229b907"
      },
      "execution_count": 84,
      "outputs": [
        {
          "name": "stdout",
          "output_type": "stream",
          "text": [
            "> \u001b[0;32m<ipython-input-83-e7180c5232d6>\u001b[0m(4)\u001b[0;36mlosscustom\u001b[0;34m()\u001b[0m\n",
            "\u001b[0;32m      2 \u001b[0;31m  \u001b[0;31m# batch, classes, time_steps\u001b[0m\u001b[0;34m\u001b[0m\u001b[0;34m\u001b[0m\u001b[0m\n",
            "\u001b[0m\u001b[0;32m      3 \u001b[0;31m  \u001b[0;32mimport\u001b[0m \u001b[0mpdb\u001b[0m\u001b[0;34m;\u001b[0m \u001b[0mpdb\u001b[0m\u001b[0;34m.\u001b[0m\u001b[0mset_trace\u001b[0m\u001b[0;34m(\u001b[0m\u001b[0;34m)\u001b[0m\u001b[0;34m\u001b[0m\u001b[0;34m\u001b[0m\u001b[0m\n",
            "\u001b[0m\u001b[0;32m----> 4 \u001b[0;31m  \u001b[0mnon_labels\u001b[0m \u001b[0;34m=\u001b[0m \u001b[0;36m1\u001b[0m\u001b[0;34m-\u001b[0m\u001b[0mlabels\u001b[0m\u001b[0;34m.\u001b[0m\u001b[0mlong\u001b[0m\u001b[0;34m(\u001b[0m\u001b[0;34m)\u001b[0m\u001b[0;34m\u001b[0m\u001b[0;34m\u001b[0m\u001b[0m\n",
            "\u001b[0m\u001b[0;32m      5 \u001b[0;31m\u001b[0;34m\u001b[0m\u001b[0m\n",
            "\u001b[0m\u001b[0;32m      6 \u001b[0;31m  \u001b[0mcorrect\u001b[0m \u001b[0;34m=\u001b[0m \u001b[0mmem\u001b[0m\u001b[0;34m[\u001b[0m\u001b[0mlabels\u001b[0m\u001b[0;34m,\u001b[0m \u001b[0;34m:\u001b[0m\u001b[0;34m,\u001b[0m \u001b[0;34m:\u001b[0m\u001b[0;34m]\u001b[0m\u001b[0;34m\u001b[0m\u001b[0;34m\u001b[0m\u001b[0m\n",
            "\u001b[0m\n",
            "ipdb> n\n",
            "> \u001b[0;32m<ipython-input-83-e7180c5232d6>\u001b[0m(6)\u001b[0;36mlosscustom\u001b[0;34m()\u001b[0m\n",
            "\u001b[0;32m      4 \u001b[0;31m  \u001b[0mnon_labels\u001b[0m \u001b[0;34m=\u001b[0m \u001b[0;36m1\u001b[0m\u001b[0;34m-\u001b[0m\u001b[0mlabels\u001b[0m\u001b[0;34m.\u001b[0m\u001b[0mlong\u001b[0m\u001b[0;34m(\u001b[0m\u001b[0;34m)\u001b[0m\u001b[0;34m\u001b[0m\u001b[0;34m\u001b[0m\u001b[0m\n",
            "\u001b[0m\u001b[0;32m      5 \u001b[0;31m\u001b[0;34m\u001b[0m\u001b[0m\n",
            "\u001b[0m\u001b[0;32m----> 6 \u001b[0;31m  \u001b[0mcorrect\u001b[0m \u001b[0;34m=\u001b[0m \u001b[0mmem\u001b[0m\u001b[0;34m[\u001b[0m\u001b[0mlabels\u001b[0m\u001b[0;34m,\u001b[0m \u001b[0;34m:\u001b[0m\u001b[0;34m,\u001b[0m \u001b[0;34m:\u001b[0m\u001b[0;34m]\u001b[0m\u001b[0;34m\u001b[0m\u001b[0;34m\u001b[0m\u001b[0m\n",
            "\u001b[0m\u001b[0;32m      7 \u001b[0;31m  \u001b[0mnon_correct\u001b[0m \u001b[0;34m=\u001b[0m \u001b[0mmem\u001b[0m\u001b[0;34m[\u001b[0m\u001b[0mnon_labels\u001b[0m\u001b[0;34m,\u001b[0m \u001b[0;34m:\u001b[0m\u001b[0;34m,\u001b[0m \u001b[0;34m:\u001b[0m\u001b[0;34m]\u001b[0m\u001b[0;34m\u001b[0m\u001b[0;34m\u001b[0m\u001b[0m\n",
            "\u001b[0m\u001b[0;32m      8 \u001b[0;31m  \u001b[0mprint\u001b[0m\u001b[0;34m(\u001b[0m\u001b[0mcorrect\u001b[0m\u001b[0;34m.\u001b[0m\u001b[0mshape\u001b[0m\u001b[0;34m,\u001b[0m \u001b[0mnon_correct\u001b[0m\u001b[0;34m.\u001b[0m\u001b[0mshape\u001b[0m\u001b[0;34m)\u001b[0m\u001b[0;34m\u001b[0m\u001b[0;34m\u001b[0m\u001b[0m\n",
            "\u001b[0m\n",
            "ipdb> n\n",
            "IndexError: tensors used as indices must be long, int, byte or bool tensors\n",
            "> \u001b[0;32m<ipython-input-83-e7180c5232d6>\u001b[0m(6)\u001b[0;36mlosscustom\u001b[0;34m()\u001b[0m\n",
            "\u001b[0;32m      4 \u001b[0;31m  \u001b[0mnon_labels\u001b[0m \u001b[0;34m=\u001b[0m \u001b[0;36m1\u001b[0m\u001b[0;34m-\u001b[0m\u001b[0mlabels\u001b[0m\u001b[0;34m.\u001b[0m\u001b[0mlong\u001b[0m\u001b[0;34m(\u001b[0m\u001b[0;34m)\u001b[0m\u001b[0;34m\u001b[0m\u001b[0;34m\u001b[0m\u001b[0m\n",
            "\u001b[0m\u001b[0;32m      5 \u001b[0;31m\u001b[0;34m\u001b[0m\u001b[0m\n",
            "\u001b[0m\u001b[0;32m----> 6 \u001b[0;31m  \u001b[0mcorrect\u001b[0m \u001b[0;34m=\u001b[0m \u001b[0mmem\u001b[0m\u001b[0;34m[\u001b[0m\u001b[0mlabels\u001b[0m\u001b[0;34m,\u001b[0m \u001b[0;34m:\u001b[0m\u001b[0;34m,\u001b[0m \u001b[0;34m:\u001b[0m\u001b[0;34m]\u001b[0m\u001b[0;34m\u001b[0m\u001b[0;34m\u001b[0m\u001b[0m\n",
            "\u001b[0m\u001b[0;32m      7 \u001b[0;31m  \u001b[0mnon_correct\u001b[0m \u001b[0;34m=\u001b[0m \u001b[0mmem\u001b[0m\u001b[0;34m[\u001b[0m\u001b[0mnon_labels\u001b[0m\u001b[0;34m,\u001b[0m \u001b[0;34m:\u001b[0m\u001b[0;34m,\u001b[0m \u001b[0;34m:\u001b[0m\u001b[0;34m]\u001b[0m\u001b[0;34m\u001b[0m\u001b[0;34m\u001b[0m\u001b[0m\n",
            "\u001b[0m\u001b[0;32m      8 \u001b[0;31m  \u001b[0mprint\u001b[0m\u001b[0;34m(\u001b[0m\u001b[0mcorrect\u001b[0m\u001b[0;34m.\u001b[0m\u001b[0mshape\u001b[0m\u001b[0;34m,\u001b[0m \u001b[0mnon_correct\u001b[0m\u001b[0;34m.\u001b[0m\u001b[0mshape\u001b[0m\u001b[0;34m)\u001b[0m\u001b[0;34m\u001b[0m\u001b[0;34m\u001b[0m\u001b[0m\n",
            "\u001b[0m\n",
            "ipdb> n\n",
            "--Return--\n",
            "None\n",
            "> \u001b[0;32m<ipython-input-83-e7180c5232d6>\u001b[0m(6)\u001b[0;36mlosscustom\u001b[0;34m()\u001b[0m\n",
            "\u001b[0;32m      4 \u001b[0;31m  \u001b[0mnon_labels\u001b[0m \u001b[0;34m=\u001b[0m \u001b[0;36m1\u001b[0m\u001b[0;34m-\u001b[0m\u001b[0mlabels\u001b[0m\u001b[0;34m.\u001b[0m\u001b[0mlong\u001b[0m\u001b[0;34m(\u001b[0m\u001b[0;34m)\u001b[0m\u001b[0;34m\u001b[0m\u001b[0;34m\u001b[0m\u001b[0m\n",
            "\u001b[0m\u001b[0;32m      5 \u001b[0;31m\u001b[0;34m\u001b[0m\u001b[0m\n",
            "\u001b[0m\u001b[0;32m----> 6 \u001b[0;31m  \u001b[0mcorrect\u001b[0m \u001b[0;34m=\u001b[0m \u001b[0mmem\u001b[0m\u001b[0;34m[\u001b[0m\u001b[0mlabels\u001b[0m\u001b[0;34m,\u001b[0m \u001b[0;34m:\u001b[0m\u001b[0;34m,\u001b[0m \u001b[0;34m:\u001b[0m\u001b[0;34m]\u001b[0m\u001b[0;34m\u001b[0m\u001b[0;34m\u001b[0m\u001b[0m\n",
            "\u001b[0m\u001b[0;32m      7 \u001b[0;31m  \u001b[0mnon_correct\u001b[0m \u001b[0;34m=\u001b[0m \u001b[0mmem\u001b[0m\u001b[0;34m[\u001b[0m\u001b[0mnon_labels\u001b[0m\u001b[0;34m,\u001b[0m \u001b[0;34m:\u001b[0m\u001b[0;34m,\u001b[0m \u001b[0;34m:\u001b[0m\u001b[0;34m]\u001b[0m\u001b[0;34m\u001b[0m\u001b[0;34m\u001b[0m\u001b[0m\n",
            "\u001b[0m\u001b[0;32m      8 \u001b[0;31m  \u001b[0mprint\u001b[0m\u001b[0;34m(\u001b[0m\u001b[0mcorrect\u001b[0m\u001b[0;34m.\u001b[0m\u001b[0mshape\u001b[0m\u001b[0;34m,\u001b[0m \u001b[0mnon_correct\u001b[0m\u001b[0;34m.\u001b[0m\u001b[0mshape\u001b[0m\u001b[0;34m)\u001b[0m\u001b[0;34m\u001b[0m\u001b[0;34m\u001b[0m\u001b[0m\n",
            "\u001b[0m\n",
            "ipdb> correct\n",
            "98\n",
            "ipdb> correct.shape\n",
            "*** AttributeError: 'int' object has no attribute 'shape'\n",
            "ipdb> q\n"
          ]
        }
      ]
    },
    {
      "cell_type": "code",
      "source": [
        "aux_out"
      ],
      "metadata": {
        "id": "DXq8sBZnE_eU"
      },
      "execution_count": null,
      "outputs": []
    },
    {
      "cell_type": "code",
      "source": [
        "import matplotlib.pyplot as plt\n",
        "\n",
        "# Select a batch for visualization\n",
        "inputs, labels = next(iter(test_loader))\n",
        "mem_out = model(inputs)  # (time_steps, batch_size, num_outputs)\n",
        "\n",
        "# Select first sample in the batch\n",
        "mem_potentials = mem_out[:, 0, :].cpu().detach().numpy()  # Shape: (time_steps, num_outputs)\n",
        "time_steps = mem_potentials.shape[0]\n",
        "num_classes = mem_potentials.shape[1]\n",
        "\n",
        "# Plot membrane potential over time for each output class\n",
        "plt.figure(figsize=(10, 6))\n",
        "for class_idx in range(num_classes):\n",
        "    plt.plot(range(time_steps), mem_potentials[:, class_idx], label=f\"Class {class_idx}\")\n",
        "\n",
        "plt.xlabel(\"Time Step\")\n",
        "plt.ylabel(\"Membrane Potential\")\n",
        "plt.title(\"Membrane Potential Evolution Over Time\")\n",
        "plt.legend()\n",
        "plt.show()"
      ],
      "metadata": {
        "id": "9LDXEpsXCytP",
        "colab": {
          "base_uri": "https://localhost:8080/",
          "height": 564
        },
        "outputId": "f5f3d0c4-1c66-4927-9347-8d04a283ce0a"
      },
      "execution_count": 38,
      "outputs": [
        {
          "output_type": "display_data",
          "data": {
            "text/plain": [
              "<Figure size 1000x600 with 1 Axes>"
            ],
            "image/png": "[encoded data removed]"
          },
          "metadata": {}
        }
      ]
    },
    {
      "cell_type": "code",
      "source": [
        "model"
      ],
      "metadata": {
        "colab": {
          "base_uri": "https://localhost:8080/",
          "height": 139
        },
        "id": "x5HV8q__gVX8",
        "outputId": "3e43ea44-1d1d-4598-83bd-b3e588917bfe"
      },
      "execution_count": 1,
      "outputs": [
        {
          "output_type": "error",
          "ename": "NameError",
          "evalue": "name 'model' is not defined",
          "traceback": [
            "\u001b[0;31m---------------------------------------------------------------------------\u001b[0m",
            "\u001b[0;31mNameError\u001b[0m                                 Traceback (most recent call last)",
            "\u001b[0;32m<ipython-input-1-1f8a688cae5d>\u001b[0m in \u001b[0;36m<cell line: 0>\u001b[0;34m()\u001b[0m\n\u001b[0;32m----> 1\u001b[0;31m \u001b[0mmodel\u001b[0m\u001b[0;34m\u001b[0m\u001b[0;34m\u001b[0m\u001b[0m\n\u001b[0m",
            "\u001b[0;31mNameError\u001b[0m: name 'model' is not defined"
          ]
        }
      ]
    },
    {
      "cell_type": "code",
      "source": [],
      "metadata": {
        "id": "ROTReIN2_GkH"
      },
      "execution_count": null,
      "outputs": []
    }
  ]
}