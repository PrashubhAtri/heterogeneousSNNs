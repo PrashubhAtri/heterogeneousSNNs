{
  "nbformat": 4,
  "nbformat_minor": 0,
  "metadata": {
    "colab": {
      "provenance": [],
      "authorship_tag": "ABX9TyMNUcWdxa1BEwOGiRmUsA97",
      "include_colab_link": true
    },
    "kernelspec": {
      "name": "python3",
      "display_name": "Python 3"
    },
    "language_info": {
      "name": "python"
    }
  },
  "cells": [
    {
      "cell_type": "markdown",
      "metadata": {
        "id": "view-in-github",
        "colab_type": "text"
      },
      "source": [
        "<a href=\"https://colab.research.google.com/github/PrashubhAtri/heterogeneousSNNs/blob/main/Baselines/SNNs/SurrogateGradients/2ClassSNNwithVoltage.ipynb\" target=\"_parent\"><img src=\"https://colab.research.google.com/assets/colab-badge.svg\" alt=\"Open In Colab\"/></a>"
      ]
    },
    {
      "cell_type": "markdown",
      "source": [
        "## Requirements and Imports"
      ],
      "metadata": {
        "id": "u8IkfaYmwxOJ"
      }
    },
    {
      "cell_type": "code",
      "execution_count": 1,
      "metadata": {
        "colab": {
          "base_uri": "https://localhost:8080/"
        },
        "id": "TxR1B4hnWgAt",
        "outputId": "990a592e-7a99-4d26-ea2f-f30c0ecd7b0f"
      },
      "outputs": [
        {
          "output_type": "stream",
          "name": "stdout",
          "text": [
            "Collecting snntorch\n",
            "  Downloading snntorch-0.9.4-py2.py3-none-any.whl.metadata (15 kB)\n",
            "Requirement already satisfied: wandb in /usr/local/lib/python3.11/dist-packages (0.19.7)\n",
            "Requirement already satisfied: click!=8.0.0,>=7.1 in /usr/local/lib/python3.11/dist-packages (from wandb) (8.1.8)\n",
            "Requirement already satisfied: docker-pycreds>=0.4.0 in /usr/local/lib/python3.11/dist-packages (from wandb) (0.4.0)\n",
            "Requirement already satisfied: gitpython!=3.1.29,>=1.0.0 in /usr/local/lib/python3.11/dist-packages (from wandb) (3.1.44)\n",
            "Requirement already satisfied: platformdirs in /usr/local/lib/python3.11/dist-packages (from wandb) (4.3.6)\n",
            "Requirement already satisfied: protobuf!=4.21.0,!=5.28.0,<6,>=3.19.0 in /usr/local/lib/python3.11/dist-packages (from wandb) (4.25.6)\n",
            "Requirement already satisfied: psutil>=5.0.0 in /usr/local/lib/python3.11/dist-packages (from wandb) (5.9.5)\n",
            "Requirement already satisfied: pydantic<3,>=2.6 in /usr/local/lib/python3.11/dist-packages (from wandb) (2.10.6)\n",
            "Requirement already satisfied: pyyaml in /usr/local/lib/python3.11/dist-packages (from wandb) (6.0.2)\n",
            "Requirement already satisfied: requests<3,>=2.0.0 in /usr/local/lib/python3.11/dist-packages (from wandb) (2.32.3)\n",
            "Requirement already satisfied: sentry-sdk>=2.0.0 in /usr/local/lib/python3.11/dist-packages (from wandb) (2.22.0)\n",
            "Requirement already satisfied: setproctitle in /usr/local/lib/python3.11/dist-packages (from wandb) (1.3.5)\n",
            "Requirement already satisfied: setuptools in /usr/local/lib/python3.11/dist-packages (from wandb) (75.1.0)\n",
            "Requirement already satisfied: typing-extensions<5,>=4.4 in /usr/local/lib/python3.11/dist-packages (from wandb) (4.12.2)\n",
            "Requirement already satisfied: six>=1.4.0 in /usr/local/lib/python3.11/dist-packages (from docker-pycreds>=0.4.0->wandb) (1.17.0)\n",
            "Requirement already satisfied: gitdb<5,>=4.0.1 in /usr/local/lib/python3.11/dist-packages (from gitpython!=3.1.29,>=1.0.0->wandb) (4.0.12)\n",
            "Requirement already satisfied: annotated-types>=0.6.0 in /usr/local/lib/python3.11/dist-packages (from pydantic<3,>=2.6->wandb) (0.7.0)\n",
            "Requirement already satisfied: pydantic-core==2.27.2 in /usr/local/lib/python3.11/dist-packages (from pydantic<3,>=2.6->wandb) (2.27.2)\n",
            "Requirement already satisfied: charset-normalizer<4,>=2 in /usr/local/lib/python3.11/dist-packages (from requests<3,>=2.0.0->wandb) (3.4.1)\n",
            "Requirement already satisfied: idna<4,>=2.5 in /usr/local/lib/python3.11/dist-packages (from requests<3,>=2.0.0->wandb) (3.10)\n",
            "Requirement already satisfied: urllib3<3,>=1.21.1 in /usr/local/lib/python3.11/dist-packages (from requests<3,>=2.0.0->wandb) (2.3.0)\n",
            "Requirement already satisfied: certifi>=2017.4.17 in /usr/local/lib/python3.11/dist-packages (from requests<3,>=2.0.0->wandb) (2025.1.31)\n",
            "Requirement already satisfied: smmap<6,>=3.0.1 in /usr/local/lib/python3.11/dist-packages (from gitdb<5,>=4.0.1->gitpython!=3.1.29,>=1.0.0->wandb) (5.0.2)\n",
            "Downloading snntorch-0.9.4-py2.py3-none-any.whl (125 kB)\n",
            "\u001b[2K   \u001b[90m━━━━━━━━━━━━━━━━━━━━━━━━━━━━━━━━━━━━━━━━\u001b[0m \u001b[32m125.6/125.6 kB\u001b[0m \u001b[31m4.0 MB/s\u001b[0m eta \u001b[36m0:00:00\u001b[0m\n",
            "\u001b[?25hInstalling collected packages: snntorch\n",
            "Successfully installed snntorch-0.9.4\n"
          ]
        }
      ],
      "source": [
        "! pip install snntorch wandb"
      ]
    },
    {
      "cell_type": "code",
      "source": [
        "!git clone https://github.com/fzenke/randman"
      ],
      "metadata": {
        "colab": {
          "base_uri": "https://localhost:8080/"
        },
        "id": "COs_AU2bbVFP",
        "outputId": "68b3b346-fe79-44b2-c47d-36f197ba9e6b"
      },
      "execution_count": 2,
      "outputs": [
        {
          "output_type": "stream",
          "name": "stdout",
          "text": [
            "Cloning into 'randman'...\n",
            "remote: Enumerating objects: 104, done.\u001b[K\n",
            "remote: Counting objects: 100% (45/45), done.\u001b[K\n",
            "remote: Compressing objects: 100% (35/35), done.\u001b[K\n",
            "remote: Total 104 (delta 16), reused 34 (delta 8), pack-reused 59 (from 1)\u001b[K\n",
            "Receiving objects: 100% (104/104), 683.31 KiB | 7.04 MiB/s, done.\n",
            "Resolving deltas: 100% (31/31), done.\n"
          ]
        }
      ]
    },
    {
      "cell_type": "code",
      "source": [
        "import sys\n",
        "sys.path.append('/content/randman')"
      ],
      "metadata": {
        "id": "cQ7AjswvdNAV"
      },
      "execution_count": 3,
      "outputs": []
    },
    {
      "cell_type": "code",
      "source": [
        "import numpy as np\n",
        "import torch\n",
        "import torch.nn as nn\n",
        "import snntorch as snn\n",
        "from snntorch import surrogate\n",
        "import torch.optim.lr_scheduler as lr_scheduler\n",
        "import pandas as pd\n",
        "import randman\n",
        "from randman import Randman\n",
        "from torch.utils.data import TensorDataset, DataLoader\n",
        "from sklearn.model_selection import train_test_split\n",
        "from tqdm import tqdm"
      ],
      "metadata": {
        "id": "NTn9_PTdWkUt"
      },
      "execution_count": 4,
      "outputs": []
    },
    {
      "cell_type": "code",
      "source": [
        "# set device for the entire code\n",
        "device = torch.device(\"cuda\") if torch.cuda.is_available() else torch.device(\"cpu\")"
      ],
      "metadata": {
        "id": "UNLAszk4dYWW"
      },
      "execution_count": 5,
      "outputs": []
    },
    {
      "cell_type": "markdown",
      "source": [
        "## Input Values"
      ],
      "metadata": {
        "id": "tNAWjnHJw5Kv"
      }
    },
    {
      "cell_type": "code",
      "source": [
        "# Constants for data generation\n",
        "nb_inputs  = 100\n",
        "nb_hidden  = 100\n",
        "nb_outputs = 2\n",
        "nb_steps  = 200\n",
        "batch_size = 32\n",
        "n_samples = 1000\n",
        "SEED = 42\n",
        "dim_manifolds = 3\n",
        "\n",
        "# Split into ttv sets\n",
        "train, test, validation = 0.8, 0.1, 0.1\n",
        "\n",
        "time_step = 1e-3"
      ],
      "metadata": {
        "id": "hr_J65_vaDZl"
      },
      "execution_count": 6,
      "outputs": []
    },
    {
      "cell_type": "markdown",
      "source": [
        "## Dataset Functions"
      ],
      "metadata": {
        "id": "sNdFJz7Ww8kb"
      }
    },
    {
      "cell_type": "code",
      "source": [
        "\"\"\"\n",
        "  Dataset Cell\n",
        "\"\"\"\n",
        "\n",
        "def standardize(x,eps=1e-7):\n",
        "    # x's (which is actually y in the following code) shape will be [samples, units]\n",
        "    # Therefore, 0-axis shows that the author standardize across all samples for each units\n",
        "    mi,_ = x.min(0)\n",
        "    ma,_ = x.max(0)\n",
        "    return (x-mi)/(ma-mi+eps)\n",
        "\n",
        "def make_spiking_dataset(nb_classes=10, nb_units=100, nb_steps=100, step_frac=1.0, dim_manifold=2, nb_spikes=1, nb_samples=1000, alpha=2.0, shuffle=True, classification=True, seed=None):\n",
        "    \"\"\" Generates event-based generalized spiking randman classification/regression dataset.\n",
        "    In this dataset each unit fires a fixed number of spikes. So ratebased or spike count based decoding won't work.\n",
        "    All the information is stored in the relative timing between spikes.\n",
        "    For regression datasets the intrinsic manifold coordinates are returned for each target.\n",
        "    Args:\n",
        "        nb_classes: The number of classes to generate\n",
        "        nb_units: The number of units to assume\n",
        "        nb_steps: The number of time steps to assume\n",
        "        step_frac: Fraction of time steps from beginning of each to contain spikes (default 1.0)\n",
        "        nb_spikes: The number of spikes per unit\n",
        "        nb_samples: Number of samples from each manifold per class\n",
        "        alpha: Randman smoothness parameter\n",
        "        shuffe: Whether to shuffle the dataset\n",
        "        classification: Whether to generate a classification (default) or regression dataset\n",
        "        seed: The random seed (default: None)\n",
        "    Returns:\n",
        "        A tuple of data,labels. The data is structured as numpy array\n",
        "        (sample x event x 2 ) where the last dimension contains\n",
        "        the relative [0,1] (time,unit) coordinates and labels.\n",
        "    \"\"\"\n",
        "\n",
        "    data = []\n",
        "    labels = []\n",
        "    targets = []\n",
        "\n",
        "    if SEED is not None:\n",
        "        np.random.seed(SEED)\n",
        "\n",
        "    max_value = np.iinfo(int).max\n",
        "    randman_seeds = np.random.randint(max_value, size=(nb_classes,nb_spikes) )\n",
        "\n",
        "    for k in range(nb_classes):\n",
        "        x = np.random.rand(nb_samples,dim_manifold)\n",
        "\n",
        "        # The following code shows that if more than one spike, different spikes, even for the same unit, are generated by independent mappings\n",
        "        submans = [ randman.Randman(nb_units, dim_manifold, alpha=alpha, seed=randman_seeds[k,i]) for i in range(nb_spikes) ]\n",
        "        units = []\n",
        "        times = []\n",
        "        for i,rm in enumerate(submans):\n",
        "            y = rm.eval_manifold(x)\n",
        "            y = standardize(y)\n",
        "            units.append(np.repeat(np.arange(nb_units).reshape(1,-1),nb_samples,axis=0))\n",
        "            times.append(y.numpy())\n",
        "\n",
        "        units = np.concatenate(units,axis=1)\n",
        "        times = np.concatenate(times,axis=1)\n",
        "        events = np.stack([times,units],axis=2)\n",
        "        data.append(events)\n",
        "        labels.append(k*np.ones(len(units)))\n",
        "        targets.append(x)\n",
        "\n",
        "    data = np.concatenate(data, axis=0)\n",
        "    labels = np.array(np.concatenate(labels, axis=0), dtype=int)\n",
        "    targets = np.concatenate(targets, axis=0)\n",
        "\n",
        "    if shuffle:\n",
        "        idx = np.arange(len(data))\n",
        "        np.random.shuffle(idx)\n",
        "        data = data[idx]\n",
        "        labels = labels[idx]\n",
        "        targets = targets[idx]\n",
        "\n",
        "    data[:,:,0] *= nb_steps*step_frac\n",
        "    # data = np.array(data, dtype=int)\n",
        "\n",
        "    if classification:\n",
        "        return data, labels\n",
        "    else:\n",
        "        return data, targets\n",
        "\n",
        "def events_to_spike_train(data):\n",
        "    \"\"\"convert the data generated from manifold to spike train form\n",
        "\n",
        "    Args:\n",
        "        data (array): shape is [samples, nb_events, 2]\n",
        "\n",
        "    Returns:\n",
        "        spike_train: shape is [nb_samples, nb_time_steps, units]\n",
        "    \"\"\"\n",
        "\n",
        "    # astyle() will discard the decimal to give integer timestep\n",
        "    spike_steps = data[:, :, 0].astype(int)\n",
        "    spike_units = data[:, :, 1].astype(int)\n",
        "    # These will be the indices to entrices in the spike train to be set to 1\n",
        "\n",
        "    # Use the index on spike train matrix [samples, steps, units]\n",
        "    spike_train = np.zeros((data.shape[0], nb_steps, nb_inputs))\n",
        "    sample_indicies = np.expand_dims(np.arange(data.shape[0]), -1)\n",
        "    spike_train[sample_indicies, spike_steps, spike_units] = 1\n",
        "\n",
        "    return spike_train\n",
        "def get_randman_dataset(outputs, inputs, steps, dim, seed, samplesperclass):\n",
        "    \"\"\"generate a TensorDataset encapsulated x and y, where x is spike trains\n",
        "\n",
        "    Returns:\n",
        "        TensorDataset: [nb_samples, time_steps, units] and [nb_samples]\n",
        "    \"\"\"\n",
        "    data, label = make_spiking_dataset(nb_classes=outputs, nb_units=inputs, nb_steps=steps, dim_manifold=dim, seed=seed, nb_samples=samplesperclass)\n",
        "    spike_train = events_to_spike_train(data)\n",
        "\n",
        "    spike_train = torch.Tensor(spike_train).to(device)\n",
        "    label = torch.Tensor(label).to(device)\n",
        "\n",
        "    # encapulate using Torch.Dataset\n",
        "    dataset = TensorDataset(spike_train, label)\n",
        "\n",
        "    return dataset"
      ],
      "metadata": {
        "id": "KG0Rc_djW3__"
      },
      "execution_count": 7,
      "outputs": []
    },
    {
      "cell_type": "code",
      "source": [
        "def split_dataset(spike_trains, train, test, val, shuffle):\n",
        "    all_labels = [spike_trains[i][1] for i in range(len(spike_trains))]\n",
        "\n",
        "    # First split: train (80%) and temp (20%)\n",
        "    train_idx, temp_idx = train_test_split(\n",
        "        np.arange(len(spike_trains)),\n",
        "        test_size=test,\n",
        "        # stratify=all_labels,\n",
        "        random_state=SEED,\n",
        "        shuffle=shuffle\n",
        "    )\n",
        "\n",
        "    # Second split: val (10%) and test (10%) from temp\n",
        "    val_idx, test_idx = train_test_split(\n",
        "        temp_idx,\n",
        "        test_size=0.5,\n",
        "        # stratify=[all_labels[i] for i in temp_idx],\n",
        "        random_state=SEED,\n",
        "        shuffle=shuffle\n",
        "    )\n",
        "\n",
        "    from torch.utils.data import Subset\n",
        "    train_dataset = Subset(spike_trains, train_idx)\n",
        "    val_dataset = Subset(spike_trains, val_idx)\n",
        "    test_dataset = Subset(spike_trains, test_idx)\n",
        "\n",
        "    #Batch_size = 32\n",
        "    batch_size = 32\n",
        "\n",
        "    train_loader = DataLoader(train_dataset,batch_size=batch_size,shuffle=True)\n",
        "    val_loader = DataLoader(val_dataset, batch_size=batch_size)\n",
        "    test_loader = DataLoader(test_dataset, batch_size=batch_size)\n",
        "\n",
        "    train_labels = [spike_trains[i][1] for i in train_dataset.indices]\n",
        "    test_labels = [spike_trains[i][1] for i in test_dataset.indices]\n",
        "    val_labels = [spike_trains[i][1] for i in val_dataset.indices]\n",
        "\n",
        "    return train_loader, test_loader, val_loader, train_labels, test_labels, val_labels, train_idx, test_idx, val_idx"
      ],
      "metadata": {
        "id": "yCDWVxp0eHdI"
      },
      "execution_count": 8,
      "outputs": []
    },
    {
      "cell_type": "markdown",
      "source": [
        "## Dataset Generation Function"
      ],
      "metadata": {
        "id": "YxpurPBexDzH"
      }
    },
    {
      "cell_type": "code",
      "source": [
        "spike_trains = get_randman_dataset(nb_outputs, nb_inputs, nb_steps, dim_manifolds, SEED, n_samples)"
      ],
      "metadata": {
        "id": "HE_jYj9-Z_rW"
      },
      "execution_count": 9,
      "outputs": []
    },
    {
      "cell_type": "code",
      "source": [
        "train_loader, test_loader, val_loader, train_labels, test_labels, val_labels, train_idx, test_idx, val_idx = split_dataset(spike_trains, train, test, validation, False)"
      ],
      "metadata": {
        "id": "ytMzsjgLye5G"
      },
      "execution_count": 10,
      "outputs": []
    },
    {
      "cell_type": "markdown",
      "source": [
        "## Auxillary dataset check"
      ],
      "metadata": {
        "id": "VdzDAqmqzF74"
      }
    },
    {
      "cell_type": "code",
      "source": [
        "sample, label = spike_trains[0]  # Access the first sample\n",
        "print(f\"Sample shape: {sample.shape}\")\n",
        "print(f\"Label: {label}\")"
      ],
      "metadata": {
        "colab": {
          "base_uri": "https://localhost:8080/"
        },
        "id": "csaf0dxCbKbE",
        "outputId": "3a70f606-4db9-4575-9090-6f6b094bb875"
      },
      "execution_count": 11,
      "outputs": [
        {
          "output_type": "stream",
          "name": "stdout",
          "text": [
            "Sample shape: torch.Size([200, 100])\n",
            "Label: 1.0\n"
          ]
        }
      ]
    },
    {
      "cell_type": "code",
      "source": [
        "len(spike_trains)"
      ],
      "metadata": {
        "colab": {
          "base_uri": "https://localhost:8080/"
        },
        "id": "2c1SEYzUKnyC",
        "outputId": "acd29135-349a-4c8f-9920-6e6be526c7db"
      },
      "execution_count": 12,
      "outputs": [
        {
          "output_type": "execute_result",
          "data": {
            "text/plain": [
              "2000"
            ]
          },
          "metadata": {},
          "execution_count": 12
        }
      ]
    },
    {
      "cell_type": "code",
      "source": [
        "len(train_idx), len(val_idx), len(test_idx)"
      ],
      "metadata": {
        "colab": {
          "base_uri": "https://localhost:8080/"
        },
        "id": "5YmZ9Ku0Kufw",
        "outputId": "0ae96e81-92db-4a67-d206-ffa5373e30cb"
      },
      "execution_count": 13,
      "outputs": [
        {
          "output_type": "execute_result",
          "data": {
            "text/plain": [
              "(1800, 100, 100)"
            ]
          },
          "metadata": {},
          "execution_count": 13
        }
      ]
    },
    {
      "cell_type": "code",
      "source": [
        "# Example: Iterate through the training DataLoader\n",
        "for batch_data, batch_labels in train_loader:\n",
        "    print(f\"Batch data shape: {batch_data.shape}\")\n",
        "    print(f\"Batch labels: {batch_labels}\")\n",
        "    break"
      ],
      "metadata": {
        "colab": {
          "base_uri": "https://localhost:8080/"
        },
        "id": "pPxAh_lahBYS",
        "outputId": "796cd677-1acc-43ee-82f9-d4ca06ae6b81"
      },
      "execution_count": 14,
      "outputs": [
        {
          "output_type": "stream",
          "name": "stdout",
          "text": [
            "Batch data shape: torch.Size([32, 200, 100])\n",
            "Batch labels: tensor([1., 1., 1., 1., 1., 1., 0., 0., 0., 1., 0., 1., 0., 0., 1., 0., 1., 0.,\n",
            "        0., 1., 0., 1., 0., 1., 0., 1., 0., 1., 1., 0., 1., 0.])\n"
          ]
        }
      ]
    },
    {
      "cell_type": "code",
      "source": [
        "len(test_loader), len(train_loader), len(val_loader)"
      ],
      "metadata": {
        "id": "RxdCHoCrCzAg",
        "colab": {
          "base_uri": "https://localhost:8080/"
        },
        "outputId": "6b6b5c34-929e-4c1a-f4cd-d7b50bb5b094"
      },
      "execution_count": 15,
      "outputs": [
        {
          "output_type": "execute_result",
          "data": {
            "text/plain": [
              "(4, 57, 4)"
            ]
          },
          "metadata": {},
          "execution_count": 15
        }
      ]
    },
    {
      "cell_type": "code",
      "source": [
        "# Visualize class distribution\n",
        "from collections import Counter\n",
        "labels = [int(label) for label in train_labels]\n",
        "print(Counter(labels))\n",
        "labels = [int(label) for label in test_labels]\n",
        "print(Counter(labels))\n",
        "labels = [int(label) for label in val_labels]\n",
        "print(Counter(labels))"
      ],
      "metadata": {
        "id": "HRaoVRONCy1y",
        "colab": {
          "base_uri": "https://localhost:8080/"
        },
        "outputId": "8ea2ad03-f301-4082-ca9e-7b3f108d2558"
      },
      "execution_count": 16,
      "outputs": [
        {
          "output_type": "stream",
          "name": "stdout",
          "text": [
            "Counter({1: 903, 0: 897})\n",
            "Counter({0: 55, 1: 45})\n",
            "Counter({1: 52, 0: 48})\n"
          ]
        }
      ]
    },
    {
      "cell_type": "markdown",
      "source": [
        "## Model Desription and Loss Functions"
      ],
      "metadata": {
        "id": "P_n_Yq-ays03"
      }
    },
    {
      "cell_type": "code",
      "source": [
        "class SNN(nn.Module):\n",
        "    def __init__(self, num_inputs=nb_inputs, num_hidden=nb_hidden, num_outputs=nb_outputs, beta=0.95, surrogate_slope = 100):\n",
        "        super(SNN, self).__init__()\n",
        "        self.fc1 = nn.Linear(num_inputs, num_hidden)\n",
        "        self.lif1 = snn.Leaky(beta=beta, spike_grad=surrogate.fast_sigmoid(slope=surrogate_slope))\n",
        "\n",
        "        self.fc2 = nn.Linear(num_hidden, num_outputs)\n",
        "        self.lif2 = snn.Leaky(beta=beta, spike_grad=surrogate.fast_sigmoid(slope=surrogate_slope), reset_mechanism=\"none\")\n",
        "\n",
        "        # Xavier Uniform Initialization for Stability\n",
        "        for m in self.modules():\n",
        "            if isinstance(m, nn.Linear):\n",
        "                nn.init.xavier_uniform_(m.weight)\n",
        "                nn.init.zeros_(m.bias)\n",
        "\n",
        "    def forward(self, x):\n",
        "        # import pdb; pdb.set_trace()\n",
        "        batch_size, time_steps, num_neurons = x.shape\n",
        "        x = x.permute(1, 0, 2)  # (time, batch, neurons)\n",
        "        x = x.to(device)\n",
        "\n",
        "        mem1 = torch.zeros(batch_size, self.fc1.out_features, device=x.device)\n",
        "        mem2 = torch.zeros(batch_size, self.fc2.out_features, device=x.device)\n",
        "\n",
        "\n",
        "        mem2_rec = []\n",
        "\n",
        "        for t in range(time_steps):\n",
        "            spk1, mem1 = self.lif1(self.fc1(x[t]), mem1)\n",
        "            _, mem2 = self.lif2(self.fc2(spk1), mem2)\n",
        "            mem2_rec.append(mem2)\n",
        "\n",
        "        return torch.stack(mem2_rec, dim=0)  # (time_steps, batch_size, num_outputs)"
      ],
      "metadata": {
        "id": "a6EIrrl6CyzL"
      },
      "execution_count": 17,
      "outputs": []
    },
    {
      "cell_type": "code",
      "source": [
        "def multiclassMembraneMarginLoss(mem, labels):\n",
        "    \"\"\"\n",
        "    mem: Tensor of shape [batch_size, num_classes, time_steps]\n",
        "    labels: Tensor of shape [batch_size]\n",
        "    \"\"\"\n",
        "    batch_size, num_classes, time_steps = mem.shape\n",
        "    labels = labels.long()\n",
        "\n",
        "    # Get the membrane potentials for the correct classes: [batch_size, time_steps]\n",
        "    correct_class_potentials = mem[torch.arange(batch_size), labels, :]  # [batch_size, time_steps]\n",
        "\n",
        "    # Expand for broadcasting: [batch_size, 1, time_steps]\n",
        "    correct_class_potentials = correct_class_potentials.unsqueeze(1)\n",
        "\n",
        "    # Subtract correct potentials from all class potentials\n",
        "    diff = mem - correct_class_potentials  # [batch_size, num_classes, time_steps]\n",
        "\n",
        "    # Mask out the correct class\n",
        "    mask = torch.ones_like(diff, dtype=torch.bool)\n",
        "    mask[torch.arange(batch_size), labels, :] = False\n",
        "\n",
        "    # Apply the mask\n",
        "    diff_masked = diff[mask].view(batch_size, num_classes - 1, time_steps)\n",
        "\n",
        "    # Hinge activation: penalize only when wrong class > correct\n",
        "    diff_activated = torch.where(diff_masked > 0, diff_masked, torch.zeros_like(diff_masked))\n",
        "\n",
        "    # Average over all samples, wrong classes, and time steps\n",
        "    return diff_activated.mean()\n"
      ],
      "metadata": {
        "id": "TStpq9GkP7jG"
      },
      "execution_count": 18,
      "outputs": []
    },
    {
      "cell_type": "markdown",
      "source": [
        "## Model and optimiser"
      ],
      "metadata": {
        "id": "cgMI8s1gEr82"
      }
    },
    {
      "cell_type": "code",
      "source": [
        "# Initialize model, loss, and optimizer\n",
        "model = SNN().to(device)\n",
        "criterion = nn.CrossEntropyLoss()\n",
        "optimizer = torch.optim.Adam(model.parameters(), lr=0.001)\n",
        "scheduler = lr_scheduler.CosineAnnealingLR(optimizer, T_max=50)\n"
      ],
      "metadata": {
        "id": "P_fiEt_fErZe"
      },
      "execution_count": 19,
      "outputs": []
    },
    {
      "cell_type": "markdown",
      "source": [
        "## Pretraining Plots"
      ],
      "metadata": {
        "id": "H6R5WEuIEkli"
      }
    },
    {
      "cell_type": "code",
      "source": [
        "import matplotlib.pyplot as plt\n",
        "\n",
        "# Select a batch for visualization\n",
        "inputs, labels = next(iter(test_loader))\n",
        "# inputs = torch.ones([1,100,100])\n",
        "mem_out = model(inputs)  # (time_steps, batch_size, num_outputs)\n",
        "\n",
        "# Select first sample in the batch\n",
        "mem_potentials = mem_out[:, 0, :].cpu().detach().numpy()  # Shape: (time_steps, num_outputs)\n",
        "time_steps = mem_potentials.shape[0]\n",
        "num_classes = mem_potentials.shape[1]\n",
        "\n",
        "# Plot membrane potential over time for each output class\n",
        "plt.figure(figsize=(10, 6))\n",
        "for class_idx in range(num_classes):\n",
        "    plt.plot(range(time_steps), mem_potentials[:, class_idx], label=f\"Class {class_idx}\")\n",
        "\n",
        "plt.xlabel(\"Time Step\")\n",
        "plt.ylabel(\"Membrane Potential\")\n",
        "plt.title(\"Membrane Potential Evolution Over Time\")\n",
        "plt.legend()\n",
        "plt.show()"
      ],
      "metadata": {
        "colab": {
          "base_uri": "https://localhost:8080/",
          "height": 564
        },
        "id": "Accjv4YOEglS",
        "outputId": "e878a217-a880-4a83-cb65-75ca52edef29"
      },
      "execution_count": 20,
      "outputs": [
        {
          "output_type": "display_data",
          "data": {
            "text/plain": [
              "<Figure size 1000x600 with 1 Axes>"
            ],
            "image/png": "[encoded data removed]"
          },
          "metadata": {}
        }
      ]
    },
    {
      "cell_type": "markdown",
      "source": [
        "## Training Loop"
      ],
      "metadata": {
        "id": "dqVlKOVzzUWe"
      }
    },
    {
      "cell_type": "code",
      "source": [
        "# Training Loop\n",
        "num_epochs = 7\n",
        "best_val_accuracy = 0.0\n",
        "\n",
        "for epoch in range(num_epochs):\n",
        "    # Training Phase\n",
        "    model.train()\n",
        "    running_loss = 0.0\n",
        "    correct, total = 0, 0\n",
        "\n",
        "    for inputs, labels in tqdm(train_loader, total = len(train_loader)):\n",
        "        # import pdb; pdb.set_trace()\n",
        "        optimizer.zero_grad()\n",
        "        mem_out = model(inputs)  # Shape: (time_steps, batch_size, num_outputs)\n",
        "\n",
        "\n",
        "        # mem_out = mem_out.permute(1,2, 0)\n",
        "        # mem_out = torch.max(mem_out, dim = -1)[0]\n",
        "\n",
        "\n",
        "        # labels = labels.long()\n",
        "        # loss = criterion(mem_out, labels)\n",
        "\n",
        "        mem_out = mem_out.permute(1, 2, 0)\n",
        "        loss = multiclassMembraneMarginLoss(mem_out, labels)\n",
        "        loss.backward()\n",
        "\n",
        "        torch.nn.utils.clip_grad_norm_(model.parameters(), max_norm=1.0)\n",
        "        optimizer.step()\n",
        "\n",
        "        running_loss += loss.item()\n",
        "        mem_out_aux = torch.max(mem_out, dim = -1)[0]\n",
        "        predicted = torch.argmax(mem_out_aux, dim=1)\n",
        "        total += labels.size(0)\n",
        "\n",
        "        correct += (predicted == labels).sum().item()\n",
        "\n",
        "    train_loss = running_loss / len(train_loader)\n",
        "    train_accuracy = correct / total\n",
        "\n",
        "    # Validation Phase\n",
        "    model.eval()\n",
        "    val_loss = 0.0\n",
        "    correct, total = 0, 0\n",
        "    with torch.no_grad():\n",
        "        for inputs, labels in val_loader:\n",
        "            # import pdb; pdb.set_trace()\n",
        "            mem_out = model(inputs)\n",
        "            # mem_out = mem_out.permute(1,2, 0)\n",
        "            # mem_out = torch.max(mem_out, dim = -1)[0]\n",
        "            # labels = labels.long()\n",
        "            # loss = criterion(mem_out, labels)\n",
        "\n",
        "            mem_out = mem_out.permute(1, 2, 0)\n",
        "            loss = multiclassMembraneMarginLoss(mem_out, labels)\n",
        "            val_loss += loss.item()\n",
        "\n",
        "            mem_out_aux = torch.max(mem_out, dim = -1)[0]\n",
        "\n",
        "            predicted = torch.argmax(mem_out_aux, dim=1)\n",
        "            total += labels.size(0)\n",
        "            correct += (predicted == labels).sum().item()\n",
        "\n",
        "    val_loss /= len(val_loader)\n",
        "    val_accuracy = correct / total\n",
        "\n",
        "    # Save best model\n",
        "    if val_accuracy > best_val_accuracy:\n",
        "        best_val_accuracy = val_accuracy\n",
        "        torch.save(model.state_dict(), 'best_model.pth')\n",
        "\n",
        "    print(f\"Epoch [{epoch+1}/{num_epochs}]\")\n",
        "    print(f\"Train Acc: {train_accuracy*100:.2f}% | Train Loss: {train_loss:.4f} | Val Loss: {val_loss:.4f} | Val Acc: {val_accuracy*100:.2f}%\")\n",
        "\n",
        "# Load best model for testing\n",
        "model.load_state_dict(torch.load('best_model.pth'))\n",
        "\n",
        "# Testing Loop\n",
        "model.eval()\n",
        "test_loss, correct, total = 0.0, 0, 0\n",
        "with torch.no_grad():\n",
        "    for inputs, labels in test_loader:\n",
        "        mem_out = model(inputs)\n",
        "        mem_out = mem_out.permute(1,2, 0)\n",
        "        # mem_out = torch.max(mem_out, dim = -1)[0]\n",
        "        # labels = labels.long()\n",
        "        # loss = criterion(mem_out, labels)\n",
        "        loss = multiclassMembraneMarginLoss(mem_out, labels)\n",
        "        test_loss += loss.item()\n",
        "\n",
        "        mem_out_aux = torch.max(mem_out, dim = -1)[0]\n",
        "\n",
        "        predicted = torch.argmax(mem_out_aux, dim=1)\n",
        "        total += labels.size(0)\n",
        "        correct += (predicted == labels).sum().item()\n",
        "\n",
        "test_loss /= len(test_loader)\n",
        "test_accuracy = correct / total\n",
        "\n",
        "print(f\"\\nFinal Test Results:\")\n",
        "print(f\"Test Loss: {test_loss:.4f} | Test Accuracy: {test_accuracy*100:.2f}%\")\n"
      ],
      "metadata": {
        "id": "xObcMQSpCywU",
        "colab": {
          "base_uri": "https://localhost:8080/"
        },
        "outputId": "021b4350-84a8-4f82-d68f-a19b26342b36"
      },
      "execution_count": 21,
      "outputs": [
        {
          "output_type": "stream",
          "name": "stderr",
          "text": [
            "100%|██████████| 57/57 [00:17<00:00,  3.25it/s]\n"
          ]
        },
        {
          "output_type": "stream",
          "name": "stdout",
          "text": [
            "Epoch [1/7]\n",
            "Train Acc: 80.00% | Train Loss: 0.0062 | Val Loss: 0.0032 | Val Acc: 94.00%\n"
          ]
        },
        {
          "output_type": "stream",
          "name": "stderr",
          "text": [
            "100%|██████████| 57/57 [00:18<00:00,  3.11it/s]\n"
          ]
        },
        {
          "output_type": "stream",
          "name": "stdout",
          "text": [
            "Epoch [2/7]\n",
            "Train Acc: 96.22% | Train Loss: 0.0025 | Val Loss: 0.0034 | Val Acc: 97.00%\n"
          ]
        },
        {
          "output_type": "stream",
          "name": "stderr",
          "text": [
            "100%|██████████| 57/57 [00:16<00:00,  3.36it/s]\n"
          ]
        },
        {
          "output_type": "stream",
          "name": "stdout",
          "text": [
            "Epoch [3/7]\n",
            "Train Acc: 97.33% | Train Loss: 0.0020 | Val Loss: 0.0005 | Val Acc: 98.00%\n"
          ]
        },
        {
          "output_type": "stream",
          "name": "stderr",
          "text": [
            "100%|██████████| 57/57 [00:17<00:00,  3.33it/s]\n"
          ]
        },
        {
          "output_type": "stream",
          "name": "stdout",
          "text": [
            "Epoch [4/7]\n",
            "Train Acc: 98.83% | Train Loss: 0.0014 | Val Loss: 0.0010 | Val Acc: 99.00%\n"
          ]
        },
        {
          "output_type": "stream",
          "name": "stderr",
          "text": [
            "100%|██████████| 57/57 [00:17<00:00,  3.29it/s]\n"
          ]
        },
        {
          "output_type": "stream",
          "name": "stdout",
          "text": [
            "Epoch [5/7]\n",
            "Train Acc: 99.28% | Train Loss: 0.0008 | Val Loss: 0.0002 | Val Acc: 100.00%\n"
          ]
        },
        {
          "output_type": "stream",
          "name": "stderr",
          "text": [
            "100%|██████████| 57/57 [00:17<00:00,  3.34it/s]\n"
          ]
        },
        {
          "output_type": "stream",
          "name": "stdout",
          "text": [
            "Epoch [6/7]\n",
            "Train Acc: 99.28% | Train Loss: 0.0005 | Val Loss: 0.0005 | Val Acc: 100.00%\n"
          ]
        },
        {
          "output_type": "stream",
          "name": "stderr",
          "text": [
            "100%|██████████| 57/57 [00:17<00:00,  3.20it/s]\n"
          ]
        },
        {
          "output_type": "stream",
          "name": "stdout",
          "text": [
            "Epoch [7/7]\n",
            "Train Acc: 99.50% | Train Loss: 0.0004 | Val Loss: 0.0005 | Val Acc: 100.00%\n"
          ]
        },
        {
          "output_type": "stream",
          "name": "stderr",
          "text": [
            "<ipython-input-21-d20bd1200e7c>:76: FutureWarning: You are using `torch.load` with `weights_only=False` (the current default value), which uses the default pickle module implicitly. It is possible to construct malicious pickle data which will execute arbitrary code during unpickling (See https://github.com/pytorch/pytorch/blob/main/SECURITY.md#untrusted-models for more details). In a future release, the default value for `weights_only` will be flipped to `True`. This limits the functions that could be executed during unpickling. Arbitrary objects will no longer be allowed to be loaded via this mode unless they are explicitly allowlisted by the user via `torch.serialization.add_safe_globals`. We recommend you start setting `weights_only=True` for any use case where you don't have full control of the loaded file. Please open an issue on GitHub for any issues related to this experimental feature.\n",
            "  model.load_state_dict(torch.load('best_model.pth'))\n"
          ]
        },
        {
          "output_type": "stream",
          "name": "stdout",
          "text": [
            "\n",
            "Final Test Results:\n",
            "Test Loss: 0.0005 | Test Accuracy: 100.00%\n"
          ]
        }
      ]
    },
    {
      "cell_type": "markdown",
      "source": [
        "## Output Layer Potentials"
      ],
      "metadata": {
        "id": "bKfXJDrZzZvN"
      }
    },
    {
      "cell_type": "code",
      "source": [
        "import matplotlib.pyplot as plt\n",
        "\n",
        "# Select a batch for visualization\n",
        "inputs, labels = next(iter(test_loader))\n",
        "# inputs = torch.ones([1,100,100])\n",
        "mem_out = model(inputs)  # (time_steps, batch_size, num_outputs)\n",
        "\n",
        "# Select first sample in the batch\n",
        "mem_potentials = mem_out[:, 0, :].cpu().detach().numpy()  # Shape: (time_steps, num_outputs)\n",
        "time_steps = mem_potentials.shape[0]\n",
        "num_classes = mem_potentials.shape[1]\n",
        "\n",
        "# Plot membrane potential over time for each output class\n",
        "plt.figure(figsize=(10, 6))\n",
        "for class_idx in range(num_classes):\n",
        "    plt.plot(range(time_steps), mem_potentials[:, class_idx], label=f\"Class {class_idx}\")\n",
        "\n",
        "plt.xlabel(\"Time Step\")\n",
        "plt.ylabel(\"Membrane Potential\")\n",
        "plt.title(\"Membrane Potential Evolution Over Time\")\n",
        "plt.legend()\n",
        "plt.show()"
      ],
      "metadata": {
        "id": "9LDXEpsXCytP",
        "colab": {
          "base_uri": "https://localhost:8080/",
          "height": 564
        },
        "outputId": "243090d6-18ed-4ec6-c87f-a4148158e352"
      },
      "execution_count": 22,
      "outputs": [
        {
          "output_type": "display_data",
          "data": {
            "text/plain": [
              "<Figure size 1000x600 with 1 Axes>"
            ],
            "image/png": "[encoded data removed]"
          },
          "metadata": {}
        }
      ]
    },
    {
      "cell_type": "code",
      "source": [
        "from sklearn.metrics import confusion_matrix, classification_report, accuracy_score\n",
        "import matplotlib.pyplot as plt\n",
        "import seaborn as sns\n",
        "import torch\n",
        "\n",
        "\n",
        "def plot_confusion_matrix(model, loader, device):\n",
        "    model.eval()\n",
        "    model.to(device)\n",
        "\n",
        "    # Loop for classifying\n",
        "    all_preds = []\n",
        "    all_labels = []\n",
        "\n",
        "    with torch.no_grad():\n",
        "        for inputs, labels in loader:\n",
        "            # import pdb; pdb.set_trace()\n",
        "            inputs = inputs.to(device)\n",
        "            labels = labels.to(device)\n",
        "\n",
        "            outputs = model(inputs)  # shape: [batch_size, num_classes, time_steps]\n",
        "            outputs = outputs.permute(1, 2, 0)\n",
        "            outputs = torch.max(outputs, dim = -1)[0]\n",
        "\n",
        "            predicted = torch.argmax(outputs, dim=1)  # predicted class\n",
        "            all_preds.append(predicted.cpu())\n",
        "            all_labels.append(labels.cpu())\n",
        "\n",
        "        # Concatenate all batches\n",
        "        all_preds = torch.cat(all_preds)\n",
        "        all_labels = torch.cat(all_labels)\n",
        "        # Convert to numpy\n",
        "        y_true = all_labels.numpy()\n",
        "        y_pred = all_preds.numpy()\n",
        "\n",
        "        # Confusion matrix\n",
        "        conf_matrix = confusion_matrix(y_true, y_pred)\n",
        "        print(\"Confusion Matrix:\\n\", conf_matrix)\n",
        "\n",
        "        # Full classification report (Precision, Recall, F1-score for each class)\n",
        "        print(\"\\nClassification Report:\\n\", classification_report(y_true, y_pred))\n",
        "\n",
        "        # Overall accuracy\n",
        "        print(\"\\nAccuracy: \", accuracy_score(y_true, y_pred))\n",
        "\n",
        "        plt.figure(figsize=(8, 6))\n",
        "        sns.heatmap(conf_matrix, annot=True, fmt='d', cmap='Blues')\n",
        "        plt.xlabel('Predicted Label')\n",
        "        plt.ylabel('True Label')\n",
        "        plt.title('Confusion Matrix')\n",
        "        plt.show()"
      ],
      "metadata": {
        "id": "sHH21f1Pv4Y5"
      },
      "execution_count": 24,
      "outputs": []
    },
    {
      "cell_type": "code",
      "source": [
        "plot_confusion_matrix(model, test_loader, device)"
      ],
      "metadata": {
        "colab": {
          "base_uri": "https://localhost:8080/",
          "height": 836
        },
        "id": "cmwezKGQv4WC",
        "outputId": "ffc34653-90cc-42c5-e74e-0b4f6b9eddd8"
      },
      "execution_count": 25,
      "outputs": [
        {
          "output_type": "stream",
          "name": "stdout",
          "text": [
            "Confusion Matrix:\n",
            " [[55  0]\n",
            " [ 0 45]]\n",
            "\n",
            "Classification Report:\n",
            "               precision    recall  f1-score   support\n",
            "\n",
            "         0.0       1.00      1.00      1.00        55\n",
            "         1.0       1.00      1.00      1.00        45\n",
            "\n",
            "    accuracy                           1.00       100\n",
            "   macro avg       1.00      1.00      1.00       100\n",
            "weighted avg       1.00      1.00      1.00       100\n",
            "\n",
            "\n",
            "Accuracy:  1.0\n"
          ]
        },
        {
          "output_type": "display_data",
          "data": {
            "text/plain": [
              "<Figure size 800x600 with 2 Axes>"
            ],
            "image/png": "[encoded data removed]"
          },
          "metadata": {}
        }
      ]
    },
    {
      "cell_type": "code",
      "source": [],
      "metadata": {
        "id": "d9XZj67Qv4Tb"
      },
      "execution_count": null,
      "outputs": []
    },
    {
      "cell_type": "code",
      "source": [],
      "metadata": {
        "id": "aIRKXeB5v4Q0"
      },
      "execution_count": null,
      "outputs": []
    },
    {
      "cell_type": "code",
      "source": [],
      "metadata": {
        "id": "ev3EHMbKv4Og"
      },
      "execution_count": null,
      "outputs": []
    },
    {
      "cell_type": "code",
      "source": [],
      "metadata": {
        "id": "WE-S534Fv4MM"
      },
      "execution_count": null,
      "outputs": []
    },
    {
      "cell_type": "code",
      "source": [],
      "metadata": {
        "id": "YpN0HsOpv4E5"
      },
      "execution_count": null,
      "outputs": []
    },
    {
      "cell_type": "code",
      "source": [
        "model"
      ],
      "metadata": {
        "id": "dms3vzot3YKV",
        "colab": {
          "base_uri": "https://localhost:8080/"
        },
        "outputId": "91c9e7ab-48e9-4158-87fb-8c9ee6ef34d5"
      },
      "execution_count": 23,
      "outputs": [
        {
          "output_type": "execute_result",
          "data": {
            "text/plain": [
              "SNN(\n",
              "  (fc1): Linear(in_features=100, out_features=100, bias=True)\n",
              "  (lif1): Leaky()\n",
              "  (fc2): Linear(in_features=100, out_features=2, bias=True)\n",
              "  (lif2): Leaky()\n",
              ")"
            ]
          },
          "metadata": {},
          "execution_count": 23
        }
      ]
    },
    {
      "cell_type": "code",
      "source": [
        "model.fc1.weight[0][0]"
      ],
      "metadata": {
        "id": "shLEw71S_zFQ",
        "colab": {
          "base_uri": "https://localhost:8080/"
        },
        "outputId": "cfaacaf7-6b1b-47a4-d36c-75abff436c72"
      },
      "execution_count": null,
      "outputs": [
        {
          "output_type": "execute_result",
          "data": {
            "text/plain": [
              "tensor(0.0285, grad_fn=<SelectBackward0>)"
            ]
          },
          "metadata": {},
          "execution_count": 25
        }
      ]
    },
    {
      "cell_type": "code",
      "source": [],
      "metadata": {
        "id": "I_AzBt1o_zDK"
      },
      "execution_count": null,
      "outputs": []
    },
    {
      "cell_type": "code",
      "source": [],
      "metadata": {
        "id": "76DAsXOy_zAk"
      },
      "execution_count": null,
      "outputs": []
    },
    {
      "cell_type": "code",
      "source": [],
      "metadata": {
        "id": "FNPHb5YY_y-d"
      },
      "execution_count": null,
      "outputs": []
    },
    {
      "cell_type": "code",
      "source": [],
      "metadata": {
        "id": "D5dLiOQO_y8I"
      },
      "execution_count": null,
      "outputs": []
    },
    {
      "cell_type": "code",
      "source": [],
      "metadata": {
        "id": "JbKfRqz0_y5z"
      },
      "execution_count": null,
      "outputs": []
    },
    {
      "cell_type": "code",
      "source": [
        "class SNNS(nn.Module):\n",
        "    def __init__(self, num_inputs=nb_inputs, num_hidden=100, num_outputs=nb_outputs, beta=0.95):\n",
        "        super(SNNS, self).__init__()\n",
        "        self.fc1 = nn.Linear(num_inputs, num_hidden)\n",
        "        self.lif1 = snn.Leaky(beta=beta, spike_grad=surrogate.fast_sigmoid(slope=100))\n",
        "\n",
        "        self.fc2 = nn.Linear(num_hidden, num_outputs)\n",
        "        self.lif2 = snn.Leaky(beta=beta, spike_grad=surrogate.fast_sigmoid(slope=100))\n",
        "\n",
        "        # Xavier Uniform Initialization for Stability\n",
        "        for m in self.modules():\n",
        "            if isinstance(m, nn.Linear):\n",
        "                nn.init.xavier_uniform_(m.weight)\n",
        "                nn.init.zeros_(m.bias)\n",
        "\n",
        "    def forward(self, x):\n",
        "        # import pdb; pdb.set_trace()\n",
        "        batch_size, time_steps, num_neurons = x.shape\n",
        "        x = x.permute(1, 0, 2)  # (time, batch, neurons)\n",
        "\n",
        "        mem1, mem2 = [torch.zeros(batch_size, layer.out_features, device=x.device)\n",
        "                      for layer in [self.fc1, self.fc2]]\n",
        "\n",
        "        mem2_rec = []\n",
        "\n",
        "        for t in range(time_steps):\n",
        "            spk1, mem1 = self.lif1(self.fc1(x[t]), mem1)\n",
        "            _, mem2 = self.lif2(self.fc2(spk1), mem2)\n",
        "            mem2_rec.append(mem2)\n",
        "\n",
        "        return torch.stack(mem2_rec, dim=0)  # (time_steps, batch_size, num_outputs)"
      ],
      "metadata": {
        "id": "CzdrUEf9_y3I"
      },
      "execution_count": null,
      "outputs": []
    },
    {
      "cell_type": "code",
      "source": [
        "model = SNN()\n",
        "# Load best model for testing\n",
        "model.load_state_dict(torch.load('best_model.pth', map_location=torch.device(device)))\n",
        "\n",
        "# Testing Loop\n",
        "model.eval()\n",
        "test_loss, correct, total = 0.0, 0, 0\n",
        "with torch.no_grad():\n",
        "    for inputs, labels in test_loader:\n",
        "        mem_out = model(inputs)\n",
        "        mem_out = mem_out.permute(1,2, 0)\n",
        "        # mem_out = torch.max(mem_out, dim = -1)[0]\n",
        "        # labels = labels.long()\n",
        "        # loss = criterion(mem_out, labels)\n",
        "        loss = losscustom(mem_out, labels)\n",
        "        test_loss += loss.item()\n",
        "\n",
        "        mem_out_aux = torch.max(mem_out, dim = -1)[0]\n",
        "\n",
        "        predicted = torch.argmax(mem_out_aux, dim=1)\n",
        "        total += labels.size(0)\n",
        "        correct += (predicted == labels).sum().item()\n",
        "\n",
        "test_loss /= len(test_loader)\n",
        "test_accuracy = correct / total\n",
        "\n",
        "print(f\"\\nFinal Test Results:\")\n",
        "print(f\"Test Loss: {test_loss:.4f} | Test Accuracy: {test_accuracy*100:.2f}%\")\n"
      ],
      "metadata": {
        "colab": {
          "base_uri": "https://localhost:8080/"
        },
        "id": "11A6qEbd3YHy",
        "outputId": "c4cb1fa5-7ffe-435b-e3dc-de41eef2e6ae"
      },
      "execution_count": null,
      "outputs": [
        {
          "output_type": "stream",
          "name": "stdout",
          "text": [
            "\n",
            "Final Test Results:\n",
            "Test Loss: 0.0068 | Test Accuracy: 99.00%\n"
          ]
        }
      ]
    },
    {
      "cell_type": "code",
      "source": [
        "import matplotlib.pyplot as plt\n",
        "\n",
        "# Select a batch for visualization\n",
        "inputs, labels = next(iter(test_loader))\n",
        "# inputs = torch.ones([1,100,100])\n",
        "mem_out = model(inputs)  # (time_steps, batch_size, num_outputs)\n",
        "\n",
        "# Select first sample in the batch\n",
        "mem_potentials = mem_out[:, 0, :].cpu().detach().numpy()  # Shape: (time_steps, num_outputs)\n",
        "time_steps = mem_potentials.shape[0]\n",
        "num_classes = mem_potentials.shape[1]\n",
        "\n",
        "# Plot membrane potential over time for each output class\n",
        "plt.figure(figsize=(10, 6))\n",
        "for class_idx in range(num_classes):\n",
        "    plt.plot(range(time_steps), mem_potentials[:, class_idx], label=f\"Class {class_idx}\")\n",
        "\n",
        "plt.xlabel(\"Time Step\")\n",
        "plt.ylabel(\"Membrane Potential\")\n",
        "plt.title(\"Membrane Potential Evolution Over Time\")\n",
        "plt.legend()\n",
        "plt.show()"
      ],
      "metadata": {
        "colab": {
          "base_uri": "https://localhost:8080/",
          "height": 564
        },
        "id": "CMIPe_40_S4p",
        "outputId": "205ffe67-8f78-449d-bb29-e93e69ca4156"
      },
      "execution_count": null,
      "outputs": [
        {
          "output_type": "display_data",
          "data": {
            "text/plain": [
              "<Figure size 1000x600 with 1 Axes>"
            ],
            "image/png": "[encoded data removed]"
          },
          "metadata": {}
        }
      ]
    },
    {
      "cell_type": "code",
      "source": [
        "model"
      ],
      "metadata": {
        "colab": {
          "base_uri": "https://localhost:8080/"
        },
        "id": "bvcnM8PR_qg4",
        "outputId": "1e41b19c-afcc-4fde-c0dc-6bf94d692d65"
      },
      "execution_count": null,
      "outputs": [
        {
          "output_type": "execute_result",
          "data": {
            "text/plain": [
              "SNN(\n",
              "  (fc1): Linear(in_features=100, out_features=100, bias=True)\n",
              "  (lif1): Leaky()\n",
              "  (fc2): Linear(in_features=100, out_features=2, bias=True)\n",
              "  (lif2): Leaky()\n",
              ")"
            ]
          },
          "metadata": {},
          "execution_count": 59
        }
      ]
    },
    {
      "cell_type": "code",
      "source": [
        "# for batch in train_loader:\n",
        "#     break"
      ],
      "metadata": {
        "id": "8D5FD4HkErVz"
      },
      "execution_count": null,
      "outputs": []
    },
    {
      "cell_type": "code",
      "source": [
        "# batch[0].shape, batch[1].shape"
      ],
      "metadata": {
        "id": "ti4te-86Ezqi"
      },
      "execution_count": null,
      "outputs": []
    },
    {
      "cell_type": "code",
      "source": [
        "# model_temp = SNN()"
      ],
      "metadata": {
        "id": "vhmJPc9tFx3B"
      },
      "execution_count": null,
      "outputs": []
    },
    {
      "cell_type": "code",
      "source": [
        "# aux_out = model_temp(batch[0])"
      ],
      "metadata": {
        "id": "3LlIu-quE7De"
      },
      "execution_count": null,
      "outputs": []
    },
    {
      "cell_type": "code",
      "source": [
        "# aux_out.shape\n",
        "# aux_out= aux_out.permute(1, 2, 0)\n",
        "# aux_out.shape"
      ],
      "metadata": {
        "id": "BPgF8YJ8E99J"
      },
      "execution_count": null,
      "outputs": []
    },
    {
      "cell_type": "code",
      "source": [
        "# losscustom(aux_out, batch[1])"
      ],
      "metadata": {
        "id": "5Tgw4ftWrg9l"
      },
      "execution_count": null,
      "outputs": []
    },
    {
      "cell_type": "code",
      "source": [
        "# aux_out[torch.arange(aux_out.shape[0]), labels].shape"
      ],
      "metadata": {
        "id": "6B5IEae_rueX"
      },
      "execution_count": null,
      "outputs": []
    },
    {
      "cell_type": "code",
      "source": [
        "# losscustom(aux_out, batch[1])"
      ],
      "metadata": {
        "id": "q8pNIBv5NyFw"
      },
      "execution_count": null,
      "outputs": []
    },
    {
      "cell_type": "code",
      "source": [
        "# aux_out"
      ],
      "metadata": {
        "id": "DXq8sBZnE_eU"
      },
      "execution_count": null,
      "outputs": []
    },
    {
      "cell_type": "code",
      "source": [
        "model"
      ],
      "metadata": {
        "colab": {
          "base_uri": "https://localhost:8080/"
        },
        "id": "x5HV8q__gVX8",
        "outputId": "176a38b4-cc0e-4bc6-d905-d9a694979e4f"
      },
      "execution_count": null,
      "outputs": [
        {
          "output_type": "execute_result",
          "data": {
            "text/plain": [
              "SNN(\n",
              "  (fc1): Linear(in_features=100, out_features=100, bias=True)\n",
              "  (lif1): Leaky()\n",
              "  (fc2): Linear(in_features=100, out_features=2, bias=True)\n",
              "  (lif2): Leaky()\n",
              ")"
            ]
          },
          "metadata": {},
          "execution_count": 46
        }
      ]
    },
    {
      "cell_type": "code",
      "source": [],
      "metadata": {
        "id": "ROTReIN2_GkH"
      },
      "execution_count": null,
      "outputs": []
    }
  ]
}