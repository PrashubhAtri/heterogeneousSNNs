{
  "cells": [
    {
      "cell_type": "markdown",
      "metadata": {
        "id": "view-in-github",
        "colab_type": "text"
      },
      "source": [
        "<a href=\"https://colab.research.google.com/github/PrashubhAtri/heterogeneousSNNs/blob/main/Baselines/SNN/NeuroInfoBaselines.ipynb\" target=\"_parent\"><img src=\"https://colab.research.google.com/assets/colab-badge.svg\" alt=\"Open In Colab\"/></a>"
      ]
    },
    {
      "cell_type": "markdown",
      "metadata": {
        "id": "m8aaeDvtft-q"
      },
      "source": [
        "# ANN and Common Techniques"
      ]
    },
    {
      "cell_type": "markdown",
      "metadata": {
        "id": "M5xBtmPhE60p"
      },
      "source": [
        "## CNN for MNIST\n",
        "- Completed"
      ]
    },
    {
      "cell_type": "code",
      "execution_count": null,
      "metadata": {
        "colab": {
          "background_save": true
        },
        "id": "Ai5MoDfQaAvJ"
      },
      "outputs": [],
      "source": [
        "# imports\n",
        "import torch\n",
        "import numpy as np\n",
        "import matplotlib.pyplot as plt\n",
        "import pandas as pd\n",
        "import torchvision.datasets\n",
        "import torchvision.transforms as transforms\n",
        "import torch.nn as nn\n",
        "import torch.optim as optim"
      ]
    },
    {
      "cell_type": "code",
      "execution_count": null,
      "metadata": {
        "colab": {
          "background_save": true,
          "base_uri": "https://localhost:8080/"
        },
        "id": "rfrzcITHqDzd",
        "outputId": "610a06c7-dac1-458c-80ea-320260bbfd21"
      },
      "outputs": [
        {
          "name": "stderr",
          "output_type": "stream",
          "text": [
            "100%|██████████| 9.91M/9.91M [00:00<00:00, 17.8MB/s]\n",
            "100%|██████████| 28.9k/28.9k [00:00<00:00, 484kB/s]\n",
            "100%|██████████| 1.65M/1.65M [00:00<00:00, 4.44MB/s]\n",
            "100%|██████████| 4.54k/4.54k [00:00<00:00, 5.89MB/s]\n"
          ]
        }
      ],
      "source": [
        "transform = transforms.Compose([transforms.ToTensor(), transforms.Normalize((0.5,), (0.5,))])\n",
        "\n",
        "trainset = torchvision.datasets.MNIST(root='./data', train=True, download=True, transform=transform)\n",
        "trainloader = torch.utils.data.DataLoader(trainset, batch_size=64, shuffle=True)\n",
        "\n",
        "testset = torchvision.datasets.MNIST(root='./data', train=False, download=True, transform=transform)\n",
        "testloader = torch.utils.data.DataLoader(testset, batch_size=64, shuffle=False)"
      ]
    },
    {
      "cell_type": "code",
      "execution_count": null,
      "metadata": {
        "colab": {
          "background_save": true,
          "base_uri": "https://localhost:8080/"
        },
        "id": "uRD40VLo8Zaj",
        "outputId": "413bf109-b508-4290-efce-2dc418a87c22"
      },
      "outputs": [
        {
          "name": "stdout",
          "output_type": "stream",
          "text": [
            "Epoch 1, Loss: 0.16729293107640927\n",
            "Epoch 2, Loss: 0.04710294775830369\n",
            "Epoch 3, Loss: 0.03250654283322708\n",
            "Epoch 4, Loss: 0.023459596810852492\n",
            "Epoch 5, Loss: 0.018297917085145214\n",
            "Training complete!\n",
            "Accuracy: 99.12%\n"
          ]
        }
      ],
      "source": [
        "class CNN(nn.Module):\n",
        "    def __init__(self):\n",
        "        super(CNN, self).__init__()\n",
        "        self.conv1 = nn.Conv2d(1, 32, kernel_size=3, padding=1)\n",
        "        self.conv2 = nn.Conv2d(32, 64, kernel_size=3, padding=1)\n",
        "        self.pool = nn.MaxPool2d(2, 2)\n",
        "        self.fc1 = nn.Linear(64 * 7 * 7, 128)\n",
        "        self.fc2 = nn.Linear(128, 10)\n",
        "        self.relu = nn.ReLU()\n",
        "\n",
        "    def forward(self, x):\n",
        "        x = self.pool(self.relu(self.conv1(x)))\n",
        "        x = self.pool(self.relu(self.conv2(x)))\n",
        "        x = x.view(-1, 64 * 7 * 7)\n",
        "        x = self.relu(self.fc1(x))\n",
        "        x = self.fc2(x)\n",
        "        return x\n",
        "\n",
        "model = CNN()\n",
        "\n",
        "criterion = nn.CrossEntropyLoss()\n",
        "optimizer = optim.Adam(model.parameters(), lr=0.001)\n",
        "\n",
        "num_epochs = 5\n",
        "\n",
        "for epoch in range(num_epochs):\n",
        "    running_loss = 0.0\n",
        "    for images, labels in trainloader:\n",
        "        optimizer.zero_grad()\n",
        "        outputs = model(images)\n",
        "        loss = criterion(outputs, labels)\n",
        "        loss.backward()\n",
        "        optimizer.step()\n",
        "        running_loss += loss.item()\n",
        "\n",
        "    print(f\"Epoch {epoch+1}, Loss: {running_loss/len(trainloader)}\")\n",
        "\n",
        "print(\"Training complete!\")\n",
        "\n",
        "correct = 0\n",
        "total = 0\n",
        "\n",
        "with torch.no_grad():\n",
        "    for images, labels in testloader:\n",
        "        outputs = model(images)\n",
        "        _, predicted = torch.max(outputs, 1)\n",
        "        total += labels.size(0)\n",
        "        correct += (predicted == labels).sum().item()\n",
        "\n",
        "accuracy = correct / total\n",
        "print(f'Accuracy: {accuracy * 100:.2f}%')"
      ]
    },
    {
      "cell_type": "code",
      "execution_count": null,
      "metadata": {
        "colab": {
          "base_uri": "https://localhost:8080/",
          "height": 452
        },
        "id": "2aV_Tx9D0WMr",
        "outputId": "9490e81f-584d-4154-c2c0-4ea4d3ef431d"
      },
      "outputs": [
        {
          "data": {
            "image/png": "[encoded data removed]",
            "text/plain": [
              "<Figure size 640x480 with 1 Axes>"
            ]
          },
          "metadata": {},
          "output_type": "display_data"
        }
      ],
      "source": [
        "import numpy as np\n",
        "import random\n",
        "\n",
        "id = random.randint(0, len(testset))\n",
        "\n",
        "image, label = testset[id]\n",
        "image = image.unsqueeze(0)\n",
        "\n",
        "output = model(image)\n",
        "_, predicted = torch.max(output, 1)\n",
        "\n",
        "plt.imshow(image.squeeze().numpy(), cmap='gray')\n",
        "plt.title(f\"Predicted: {predicted.item()}, Actual: {label}\")\n",
        "plt.show()"
      ]
    },
    {
      "cell_type": "markdown",
      "metadata": {
        "id": "Gd4IXHzb80Lu"
      },
      "source": [
        "# SpikingJelly - SNNs"
      ]
    },
    {
      "cell_type": "markdown",
      "metadata": {
        "id": "uqxoFyEr83Tb"
      },
      "source": [
        "## MNIST Dataset\n",
        "- Accuracy at 95%"
      ]
    },
    {
      "cell_type": "code",
      "execution_count": null,
      "metadata": {
        "colab": {
          "base_uri": "https://localhost:8080/"
        },
        "id": "tJqAHs-n7PUS",
        "outputId": "14ba263c-4c4f-44fc-b642-44bd76e8bbd1"
      },
      "outputs": [
        {
          "name": "stdout",
          "output_type": "stream",
          "text": [
            "Collecting spikingjelly\n",
            "  Downloading spikingjelly-0.0.0.0.14-py3-none-any.whl.metadata (15 kB)\n",
            "Requirement already satisfied: torch in /usr/local/lib/python3.11/dist-packages (from spikingjelly) (2.5.1+cu124)\n",
            "Requirement already satisfied: matplotlib in /usr/local/lib/python3.11/dist-packages (from spikingjelly) (3.10.0)\n",
            "Requirement already satisfied: numpy in /usr/local/lib/python3.11/dist-packages (from spikingjelly) (1.26.4)\n",
            "Requirement already satisfied: tqdm in /usr/local/lib/python3.11/dist-packages (from spikingjelly) (4.67.1)\n",
            "Requirement already satisfied: torchvision in /usr/local/lib/python3.11/dist-packages (from spikingjelly) (0.20.1+cu124)\n",
            "Requirement already satisfied: scipy in /usr/local/lib/python3.11/dist-packages (from spikingjelly) (1.13.1)\n",
            "Requirement already satisfied: contourpy>=1.0.1 in /usr/local/lib/python3.11/dist-packages (from matplotlib->spikingjelly) (1.3.1)\n",
            "Requirement already satisfied: cycler>=0.10 in /usr/local/lib/python3.11/dist-packages (from matplotlib->spikingjelly) (0.12.1)\n",
            "Requirement already satisfied: fonttools>=4.22.0 in /usr/local/lib/python3.11/dist-packages (from matplotlib->spikingjelly) (4.56.0)\n",
            "Requirement already satisfied: kiwisolver>=1.3.1 in /usr/local/lib/python3.11/dist-packages (from matplotlib->spikingjelly) (1.4.8)\n",
            "Requirement already satisfied: packaging>=20.0 in /usr/local/lib/python3.11/dist-packages (from matplotlib->spikingjelly) (24.2)\n",
            "Requirement already satisfied: pillow>=8 in /usr/local/lib/python3.11/dist-packages (from matplotlib->spikingjelly) (11.1.0)\n",
            "Requirement already satisfied: pyparsing>=2.3.1 in /usr/local/lib/python3.11/dist-packages (from matplotlib->spikingjelly) (3.2.1)\n",
            "Requirement already satisfied: python-dateutil>=2.7 in /usr/local/lib/python3.11/dist-packages (from matplotlib->spikingjelly) (2.8.2)\n",
            "Requirement already satisfied: filelock in /usr/local/lib/python3.11/dist-packages (from torch->spikingjelly) (3.17.0)\n",
            "Requirement already satisfied: typing-extensions>=4.8.0 in /usr/local/lib/python3.11/dist-packages (from torch->spikingjelly) (4.12.2)\n",
            "Requirement already satisfied: networkx in /usr/local/lib/python3.11/dist-packages (from torch->spikingjelly) (3.4.2)\n",
            "Requirement already satisfied: jinja2 in /usr/local/lib/python3.11/dist-packages (from torch->spikingjelly) (3.1.5)\n",
            "Requirement already satisfied: fsspec in /usr/local/lib/python3.11/dist-packages (from torch->spikingjelly) (2024.10.0)\n",
            "Collecting nvidia-cuda-nvrtc-cu12==12.4.127 (from torch->spikingjelly)\n",
            "  Downloading nvidia_cuda_nvrtc_cu12-12.4.127-py3-none-manylinux2014_x86_64.whl.metadata (1.5 kB)\n",
            "Collecting nvidia-cuda-runtime-cu12==12.4.127 (from torch->spikingjelly)\n",
            "  Downloading nvidia_cuda_runtime_cu12-12.4.127-py3-none-manylinux2014_x86_64.whl.metadata (1.5 kB)\n",
            "Collecting nvidia-cuda-cupti-cu12==12.4.127 (from torch->spikingjelly)\n",
            "  Downloading nvidia_cuda_cupti_cu12-12.4.127-py3-none-manylinux2014_x86_64.whl.metadata (1.6 kB)\n",
            "Collecting nvidia-cudnn-cu12==9.1.0.70 (from torch->spikingjelly)\n",
            "  Downloading nvidia_cudnn_cu12-9.1.0.70-py3-none-manylinux2014_x86_64.whl.metadata (1.6 kB)\n",
            "Collecting nvidia-cublas-cu12==12.4.5.8 (from torch->spikingjelly)\n",
            "  Downloading nvidia_cublas_cu12-12.4.5.8-py3-none-manylinux2014_x86_64.whl.metadata (1.5 kB)\n",
            "Collecting nvidia-cufft-cu12==11.2.1.3 (from torch->spikingjelly)\n",
            "  Downloading nvidia_cufft_cu12-11.2.1.3-py3-none-manylinux2014_x86_64.whl.metadata (1.5 kB)\n",
            "Collecting nvidia-curand-cu12==10.3.5.147 (from torch->spikingjelly)\n",
            "  Downloading nvidia_curand_cu12-10.3.5.147-py3-none-manylinux2014_x86_64.whl.metadata (1.5 kB)\n",
            "Collecting nvidia-cusolver-cu12==11.6.1.9 (from torch->spikingjelly)\n",
            "  Downloading nvidia_cusolver_cu12-11.6.1.9-py3-none-manylinux2014_x86_64.whl.metadata (1.6 kB)\n",
            "Collecting nvidia-cusparse-cu12==12.3.1.170 (from torch->spikingjelly)\n",
            "  Downloading nvidia_cusparse_cu12-12.3.1.170-py3-none-manylinux2014_x86_64.whl.metadata (1.6 kB)\n",
            "Requirement already satisfied: nvidia-nccl-cu12==2.21.5 in /usr/local/lib/python3.11/dist-packages (from torch->spikingjelly) (2.21.5)\n",
            "Requirement already satisfied: nvidia-nvtx-cu12==12.4.127 in /usr/local/lib/python3.11/dist-packages (from torch->spikingjelly) (12.4.127)\n",
            "Collecting nvidia-nvjitlink-cu12==12.4.127 (from torch->spikingjelly)\n",
            "  Downloading nvidia_nvjitlink_cu12-12.4.127-py3-none-manylinux2014_x86_64.whl.metadata (1.5 kB)\n",
            "Requirement already satisfied: triton==3.1.0 in /usr/local/lib/python3.11/dist-packages (from torch->spikingjelly) (3.1.0)\n",
            "Requirement already satisfied: sympy==1.13.1 in /usr/local/lib/python3.11/dist-packages (from torch->spikingjelly) (1.13.1)\n",
            "Requirement already satisfied: mpmath<1.4,>=1.1.0 in /usr/local/lib/python3.11/dist-packages (from sympy==1.13.1->torch->spikingjelly) (1.3.0)\n",
            "Requirement already satisfied: six>=1.5 in /usr/local/lib/python3.11/dist-packages (from python-dateutil>=2.7->matplotlib->spikingjelly) (1.17.0)\n",
            "Requirement already satisfied: MarkupSafe>=2.0 in /usr/local/lib/python3.11/dist-packages (from jinja2->torch->spikingjelly) (3.0.2)\n",
            "Downloading spikingjelly-0.0.0.0.14-py3-none-any.whl (437 kB)\n",
            "\u001b[2K   \u001b[90m━━━━━━━━━━━━━━━━━━━━━━━━━━━━━━━━━━━━━━━━\u001b[0m \u001b[32m437.6/437.6 kB\u001b[0m \u001b[31m9.2 MB/s\u001b[0m eta \u001b[36m0:00:00\u001b[0m\n",
            "\u001b[?25hDownloading nvidia_cublas_cu12-12.4.5.8-py3-none-manylinux2014_x86_64.whl (363.4 MB)\n",
            "\u001b[2K   \u001b[90m━━━━━━━━━━━━━━━━━━━━━━━━━━━━━━━━━━━━━━━━\u001b[0m \u001b[32m363.4/363.4 MB\u001b[0m \u001b[31m3.5 MB/s\u001b[0m eta \u001b[36m0:00:00\u001b[0m\n",
            "\u001b[?25hDownloading nvidia_cuda_cupti_cu12-12.4.127-py3-none-manylinux2014_x86_64.whl (13.8 MB)\n",
            "\u001b[2K   \u001b[90m━━━━━━━━━━━━━━━━━━━━━━━━━━━━━━━━━━━━━━━━\u001b[0m \u001b[32m13.8/13.8 MB\u001b[0m \u001b[31m79.3 MB/s\u001b[0m eta \u001b[36m0:00:00\u001b[0m\n",
            "\u001b[?25hDownloading nvidia_cuda_nvrtc_cu12-12.4.127-py3-none-manylinux2014_x86_64.whl (24.6 MB)\n",
            "\u001b[2K   \u001b[90m━━━━━━━━━━━━━━━━━━━━━━━━━━━━━━━━━━━━━━━━\u001b[0m \u001b[32m24.6/24.6 MB\u001b[0m \u001b[31m61.9 MB/s\u001b[0m eta \u001b[36m0:00:00\u001b[0m\n",
            "\u001b[?25hDownloading nvidia_cuda_runtime_cu12-12.4.127-py3-none-manylinux2014_x86_64.whl (883 kB)\n",
            "\u001b[2K   \u001b[90m━━━━━━━━━━━━━━━━━━━━━━━━━━━━━━━━━━━━━━━━\u001b[0m \u001b[32m883.7/883.7 kB\u001b[0m \u001b[31m39.9 MB/s\u001b[0m eta \u001b[36m0:00:00\u001b[0m\n",
            "\u001b[?25hDownloading nvidia_cudnn_cu12-9.1.0.70-py3-none-manylinux2014_x86_64.whl (664.8 MB)\n",
            "\u001b[2K   \u001b[90m━━━━━━━━━━━━━━━━━━━━━━━━━━━━━━━━━━━━━━━━\u001b[0m \u001b[32m664.8/664.8 MB\u001b[0m \u001b[31m2.1 MB/s\u001b[0m eta \u001b[36m0:00:00\u001b[0m\n",
            "\u001b[?25hDownloading nvidia_cufft_cu12-11.2.1.3-py3-none-manylinux2014_x86_64.whl (211.5 MB)\n",
            "\u001b[2K   \u001b[90m━━━━━━━━━━━━━━━━━━━━━━━━━━━━━━━━━━━━━━━━\u001b[0m \u001b[32m211.5/211.5 MB\u001b[0m \u001b[31m4.8 MB/s\u001b[0m eta \u001b[36m0:00:00\u001b[0m\n",
            "\u001b[?25hDownloading nvidia_curand_cu12-10.3.5.147-py3-none-manylinux2014_x86_64.whl (56.3 MB)\n",
            "\u001b[2K   \u001b[90m━━━━━━━━━━━━━━━━━━━━━━━━━━━━━━━━━━━━━━━━\u001b[0m \u001b[32m56.3/56.3 MB\u001b[0m \u001b[31m8.9 MB/s\u001b[0m eta \u001b[36m0:00:00\u001b[0m\n",
            "\u001b[?25hDownloading nvidia_cusolver_cu12-11.6.1.9-py3-none-manylinux2014_x86_64.whl (127.9 MB)\n",
            "\u001b[2K   \u001b[90m━━━━━━━━━━━━━━━━━━━━━━━━━━━━━━━━━━━━━━━━\u001b[0m \u001b[32m127.9/127.9 MB\u001b[0m \u001b[31m7.4 MB/s\u001b[0m eta \u001b[36m0:00:00\u001b[0m\n",
            "\u001b[?25hDownloading nvidia_cusparse_cu12-12.3.1.170-py3-none-manylinux2014_x86_64.whl (207.5 MB)\n",
            "\u001b[2K   \u001b[90m━━━━━━━━━━━━━━━━━━━━━━━━━━━━━━━━━━━━━━━━\u001b[0m \u001b[32m207.5/207.5 MB\u001b[0m \u001b[31m5.2 MB/s\u001b[0m eta \u001b[36m0:00:00\u001b[0m\n",
            "\u001b[?25hDownloading nvidia_nvjitlink_cu12-12.4.127-py3-none-manylinux2014_x86_64.whl (21.1 MB)\n",
            "\u001b[2K   \u001b[90m━━━━━━━━━━━━━━━━━━━━━━━━━━━━━━━━━━━━━━━━\u001b[0m \u001b[32m21.1/21.1 MB\u001b[0m \u001b[31m68.9 MB/s\u001b[0m eta \u001b[36m0:00:00\u001b[0m\n",
            "\u001b[?25hInstalling collected packages: nvidia-nvjitlink-cu12, nvidia-curand-cu12, nvidia-cufft-cu12, nvidia-cuda-runtime-cu12, nvidia-cuda-nvrtc-cu12, nvidia-cuda-cupti-cu12, nvidia-cublas-cu12, nvidia-cusparse-cu12, nvidia-cudnn-cu12, nvidia-cusolver-cu12, spikingjelly\n",
            "  Attempting uninstall: nvidia-nvjitlink-cu12\n",
            "    Found existing installation: nvidia-nvjitlink-cu12 12.5.82\n",
            "    Uninstalling nvidia-nvjitlink-cu12-12.5.82:\n",
            "      Successfully uninstalled nvidia-nvjitlink-cu12-12.5.82\n",
            "  Attempting uninstall: nvidia-curand-cu12\n",
            "    Found existing installation: nvidia-curand-cu12 10.3.6.82\n",
            "    Uninstalling nvidia-curand-cu12-10.3.6.82:\n",
            "      Successfully uninstalled nvidia-curand-cu12-10.3.6.82\n",
            "  Attempting uninstall: nvidia-cufft-cu12\n",
            "    Found existing installation: nvidia-cufft-cu12 11.2.3.61\n",
            "    Uninstalling nvidia-cufft-cu12-11.2.3.61:\n",
            "      Successfully uninstalled nvidia-cufft-cu12-11.2.3.61\n",
            "  Attempting uninstall: nvidia-cuda-runtime-cu12\n",
            "    Found existing installation: nvidia-cuda-runtime-cu12 12.5.82\n",
            "    Uninstalling nvidia-cuda-runtime-cu12-12.5.82:\n",
            "      Successfully uninstalled nvidia-cuda-runtime-cu12-12.5.82\n",
            "  Attempting uninstall: nvidia-cuda-nvrtc-cu12\n",
            "    Found existing installation: nvidia-cuda-nvrtc-cu12 12.5.82\n",
            "    Uninstalling nvidia-cuda-nvrtc-cu12-12.5.82:\n",
            "      Successfully uninstalled nvidia-cuda-nvrtc-cu12-12.5.82\n",
            "  Attempting uninstall: nvidia-cuda-cupti-cu12\n",
            "    Found existing installation: nvidia-cuda-cupti-cu12 12.5.82\n",
            "    Uninstalling nvidia-cuda-cupti-cu12-12.5.82:\n",
            "      Successfully uninstalled nvidia-cuda-cupti-cu12-12.5.82\n",
            "  Attempting uninstall: nvidia-cublas-cu12\n",
            "    Found existing installation: nvidia-cublas-cu12 12.5.3.2\n",
            "    Uninstalling nvidia-cublas-cu12-12.5.3.2:\n",
            "      Successfully uninstalled nvidia-cublas-cu12-12.5.3.2\n",
            "  Attempting uninstall: nvidia-cusparse-cu12\n",
            "    Found existing installation: nvidia-cusparse-cu12 12.5.1.3\n",
            "    Uninstalling nvidia-cusparse-cu12-12.5.1.3:\n",
            "      Successfully uninstalled nvidia-cusparse-cu12-12.5.1.3\n",
            "  Attempting uninstall: nvidia-cudnn-cu12\n",
            "    Found existing installation: nvidia-cudnn-cu12 9.3.0.75\n",
            "    Uninstalling nvidia-cudnn-cu12-9.3.0.75:\n",
            "      Successfully uninstalled nvidia-cudnn-cu12-9.3.0.75\n",
            "  Attempting uninstall: nvidia-cusolver-cu12\n",
            "    Found existing installation: nvidia-cusolver-cu12 11.6.3.83\n",
            "    Uninstalling nvidia-cusolver-cu12-11.6.3.83:\n",
            "      Successfully uninstalled nvidia-cusolver-cu12-11.6.3.83\n",
            "Successfully installed nvidia-cublas-cu12-12.4.5.8 nvidia-cuda-cupti-cu12-12.4.127 nvidia-cuda-nvrtc-cu12-12.4.127 nvidia-cuda-runtime-cu12-12.4.127 nvidia-cudnn-cu12-9.1.0.70 nvidia-cufft-cu12-11.2.1.3 nvidia-curand-cu12-10.3.5.147 nvidia-cusolver-cu12-11.6.1.9 nvidia-cusparse-cu12-12.3.1.170 nvidia-nvjitlink-cu12-12.4.127 spikingjelly-0.0.0.0.14\n"
          ]
        }
      ],
      "source": [
        "! pip install spikingjelly"
      ]
    },
    {
      "cell_type": "code",
      "execution_count": null,
      "metadata": {
        "id": "Zg-09_Gx9Czm"
      },
      "outputs": [],
      "source": [
        "import spikingjelly.activation_based as sj\n",
        "import spikingjelly.activation_based.neuron as neuron\n",
        "import spikingjelly.activation_based.functional as functional\n",
        "import spikingjelly.activation_based.surrogate as surrogate"
      ]
    },
    {
      "cell_type": "code",
      "execution_count": null,
      "metadata": {
        "colab": {
          "base_uri": "https://localhost:8080/",
          "height": 452
        },
        "id": "gp8K594u9TqS",
        "outputId": "2ca7f663-1b33-49ee-8490-ddd8fbd43e0d"
      },
      "outputs": [
        {
          "data": {
            "image/png": "[encoded data removed]",
            "text/plain": [
              "<Figure size 640x480 with 2 Axes>"
            ]
          },
          "metadata": {},
          "output_type": "display_data"
        }
      ],
      "source": [
        "transform = transforms.Compose([transforms.ToTensor()])\n",
        "\n",
        "trainset = torchvision.datasets.MNIST(root='./data', train=True, download=True, transform=transform)\n",
        "testset = torchvision.datasets.MNIST(root='./data', train=False, download=True, transform=transform)\n",
        "\n",
        "def spike_latency_encoding(image, tau=50.0, threshold=0.2):\n",
        "    image = image.squeeze(0)\n",
        "    latencies = tau * torch.log(image / (image - threshold))\n",
        "    latencies[image < threshold] = float('inf')\n",
        "    return latencies\n",
        "\n",
        "sample_img, _ = trainset[0]\n",
        "spike_latencies = spike_latency_encoding(sample_img)\n",
        "\n",
        "plt.imshow(spike_latencies.numpy(), cmap='hot')\n",
        "plt.title(\"Spike Latency Encoding\")\n",
        "plt.colorbar()\n",
        "plt.show()"
      ]
    },
    {
      "cell_type": "code",
      "execution_count": null,
      "metadata": {
        "colab": {
          "base_uri": "https://localhost:8080/"
        },
        "id": "UtemCq01_cR-",
        "outputId": "12e09953-7b9c-4a47-89dd-4e2fe4f77757"
      },
      "outputs": [
        {
          "name": "stdout",
          "output_type": "stream",
          "text": [
            "torch.Size([64, 1, 28, 28])\n"
          ]
        }
      ],
      "source": [
        "for images, labels in trainloader:\n",
        "    print(images.shape)  # Should print (batch_size, 1, 28, 28)\n",
        "    break"
      ]
    },
    {
      "cell_type": "code",
      "execution_count": null,
      "metadata": {
        "colab": {
          "base_uri": "https://localhost:8080/"
        },
        "id": "i2JRB5bGBrQH",
        "outputId": "e3f40564-ffc5-4e25-a692-70ca693fd9db"
      },
      "outputs": [
        {
          "name": "stdout",
          "output_type": "stream",
          "text": [
            "torch.Size([64, 1, 28, 28])\n"
          ]
        }
      ],
      "source": [
        "for images, labels in testloader:\n",
        "    print(images.shape)  # Should print (batch_size, 1, 28, 28)\n",
        "    break"
      ]
    },
    {
      "cell_type": "code",
      "execution_count": null,
      "metadata": {
        "id": "vDOhjeLl9Zi1"
      },
      "outputs": [],
      "source": [
        "class SNN(nn.Module):\n",
        "    def __init__(self):\n",
        "        super(SNN, self).__init__()\n",
        "        self.fc1 = nn.Linear(28 * 28, 128)  # Input Layer\n",
        "        self.lif1 = neuron.LIFNode(surrogate_function=surrogate.Sigmoid())  # Correct usage\n",
        "        self.fc2 = nn.Linear(128, 10)  # Output Layer\n",
        "        self.lif2 = neuron.LIFNode(surrogate_function=surrogate.Sigmoid())  # Correct usage\n",
        "\n",
        "    def forward(self, x):\n",
        "        x = x.view(x.shape[0], -1)  # Flatten input\n",
        "        x = self.lif1(self.fc1(x))\n",
        "        x = self.lif2(self.fc2(x))\n",
        "        return x\n"
      ]
    },
    {
      "cell_type": "code",
      "execution_count": null,
      "metadata": {
        "colab": {
          "base_uri": "https://localhost:8080/"
        },
        "id": "jvE-ATl5_hBn",
        "outputId": "c7eb59a3-1072-4a6b-e9c3-ad426f6e41a6"
      },
      "outputs": [
        {
          "name": "stdout",
          "output_type": "stream",
          "text": [
            "torch.Size([64, 10])\n"
          ]
        }
      ],
      "source": [
        "model = SNN()\n",
        "sample_input = torch.randn(64, 1, 28, 28)  # Fake batch of MNIST images\n",
        "output = model(sample_input)\n",
        "print(output.shape)  # Should be (64, 10)"
      ]
    },
    {
      "cell_type": "code",
      "execution_count": null,
      "metadata": {
        "id": "JmU7aavh9ght"
      },
      "outputs": [],
      "source": [
        "criterion = nn.CrossEntropyLoss()\n",
        "optimizer = torch.optim.Adam(model.parameters(), lr=0.001)"
      ]
    },
    {
      "cell_type": "code",
      "execution_count": null,
      "metadata": {
        "colab": {
          "base_uri": "https://localhost:8080/"
        },
        "id": "3LRcVHrg9j2c",
        "outputId": "822adccd-c172-459f-a476-e47767d379cc"
      },
      "outputs": [
        {
          "name": "stdout",
          "output_type": "stream",
          "text": [
            "Epoch 1, Loss: 0.024949900821844735\n",
            "Epoch 2, Loss: 0.02366651953260104\n",
            "Epoch 3, Loss: 0.02349135568936666\n",
            "Epoch 4, Loss: 0.023378476770718894\n",
            "Epoch 5, Loss: 0.023301302979389826\n"
          ]
        }
      ],
      "source": [
        "num_epochs = 5\n",
        "time_steps = 10\n",
        "\n",
        "for epoch in range(num_epochs):\n",
        "    running_loss = 0.0\n",
        "    for images, labels in torch.utils.data.DataLoader(trainset, batch_size=64, shuffle=True):\n",
        "        optimizer.zero_grad()\n",
        "\n",
        "        # Reset neuron states before processing a new batch\n",
        "        functional.reset_net(model)\n",
        "\n",
        "        images = images.view(images.shape[0], -1)\n",
        "\n",
        "        spike_inputs = torch.zeros((images.shape[0], time_steps, 784))\n",
        "        latencies = spike_latency_encoding(images)\n",
        "\n",
        "        for t in range(time_steps):\n",
        "            spike_inputs[:, t, :] = (latencies.view(latencies.shape[0], -1) < (t + 1) * 5).float()\n",
        "\n",
        "        outputs = model(spike_inputs.mean(dim=1))\n",
        "\n",
        "        loss = criterion(outputs, labels)\n",
        "        loss.backward()\n",
        "        optimizer.step()\n",
        "\n",
        "        running_loss += loss.item()\n",
        "\n",
        "    print(f\"Epoch {epoch+1}, Loss: {running_loss/len(trainset)}\")\n"
      ]
    },
    {
      "cell_type": "code",
      "execution_count": null,
      "metadata": {
        "colab": {
          "base_uri": "https://localhost:8080/"
        },
        "id": "O_O3zV9d9pLW",
        "outputId": "67c72625-999d-42da-fe95-fdb22e1ea754"
      },
      "outputs": [
        {
          "name": "stdout",
          "output_type": "stream",
          "text": [
            "Test Accuracy: 94.05%\n"
          ]
        }
      ],
      "source": [
        "correct = 0\n",
        "total = 0\n",
        "\n",
        "with torch.no_grad():\n",
        "    for images, labels in torch.utils.data.DataLoader(testset, batch_size=64):\n",
        "        functional.reset_net(model)\n",
        "        images = images.view(images.shape[0], -1)\n",
        "        spike_inputs = torch.zeros((images.shape[0], time_steps, 28 * 28))\n",
        "        latencies = spike_latency_encoding(images)\n",
        "\n",
        "        for t in range(time_steps):\n",
        "            spike_inputs[:, t, :] = (latencies.view(latencies.shape[0], -1) < (t + 1) * 5).float()\n",
        "\n",
        "        outputs = model(spike_inputs.mean(dim=1))\n",
        "        _, predicted = torch.max(outputs, 1)\n",
        "        total += labels.size(0)\n",
        "        correct += (predicted == labels).sum().item()\n",
        "\n",
        "accuracy = correct / total\n",
        "print(f\"Test Accuracy: {accuracy * 100:.2f}%\")\n"
      ]
    },
    {
      "cell_type": "code",
      "execution_count": null,
      "metadata": {
        "id": "t0nt_dA-AjnQ"
      },
      "outputs": [],
      "source": []
    },
    {
      "cell_type": "markdown",
      "metadata": {
        "id": "G4aky4ugEPoX"
      },
      "source": [
        "## Synthetic Smooth Random Manifold Spiking Data Set\n",
        "- Result coming\n",
        "- Accuracy way off"
      ]
    },
    {
      "cell_type": "code",
      "execution_count": null,
      "metadata": {
        "colab": {
          "base_uri": "https://localhost:8080/"
        },
        "id": "By6vAKNKtXcF",
        "outputId": "c511f0e9-bf16-4d2c-fd5e-5fbcdf8e1cc4"
      },
      "outputs": [
        {
          "name": "stdout",
          "output_type": "stream",
          "text": [
            "Collecting snntorch\n",
            "  Downloading snntorch-0.9.4-py2.py3-none-any.whl.metadata (15 kB)\n",
            "Downloading snntorch-0.9.4-py2.py3-none-any.whl (125 kB)\n",
            "\u001b[?25l   \u001b[90m━━━━━━━━━━━━━━━━━━━━━━━━━━━━━━━━━━━━━━━━\u001b[0m \u001b[32m0.0/125.6 kB\u001b[0m \u001b[31m?\u001b[0m eta \u001b[36m-:--:--\u001b[0m\r\u001b[2K   \u001b[90m━━━━━━━━━━━━━━━━━━━━━━━━━━━━━━━━━━━━━━━━\u001b[0m \u001b[32m125.6/125.6 kB\u001b[0m \u001b[31m8.4 MB/s\u001b[0m eta \u001b[36m0:00:00\u001b[0m\n",
            "\u001b[?25hInstalling collected packages: snntorch\n",
            "Successfully installed snntorch-0.9.4\n"
          ]
        }
      ],
      "source": [
        "!pip install snntorch"
      ]
    },
    {
      "cell_type": "code",
      "execution_count": null,
      "metadata": {
        "colab": {
          "base_uri": "https://localhost:8080/"
        },
        "id": "6LVI68s39KCg",
        "outputId": "1a1f135d-69c0-4411-a418-cfb7bf189f40"
      },
      "outputs": [
        {
          "name": "stdout",
          "output_type": "stream",
          "text": [
            "Epoch [1/10], Loss: 2.0775, Spikes: 12590\n",
            "Epoch [2/10], Loss: 1.6645, Spikes: 6306\n",
            "Epoch [3/10], Loss: 1.6045, Spikes: 3947\n",
            "Epoch [4/10], Loss: 1.6003, Spikes: 3491\n",
            "Epoch [5/10], Loss: 1.5999, Spikes: 3369\n",
            "Epoch [6/10], Loss: 1.5995, Spikes: 3294\n",
            "Epoch [7/10], Loss: 1.5988, Spikes: 3272\n",
            "Epoch [8/10], Loss: 1.5988, Spikes: 3252\n",
            "Epoch [9/10], Loss: 1.5989, Spikes: 3231\n",
            "Epoch [10/10], Loss: 1.5987, Spikes: 3221\n",
            "Test Accuracy: 53.75%\n"
          ]
        }
      ],
      "source": [
        "import numpy as np\n",
        "import torch\n",
        "import torch.nn as nn\n",
        "import snntorch as snn\n",
        "from snntorch import surrogate\n",
        "import torch.optim.lr_scheduler as lr_scheduler\n",
        "import pandas as pd\n",
        "\n",
        "# Load Dataset from CSV\n",
        "file_path = 'spiking_time_dataset.csv'\n",
        "data = pd.read_csv(file_path)\n",
        "\n",
        "# Assume the first column is labels and the rest are spike times\n",
        "labels = torch.tensor(data.iloc[:, 0].values, dtype=torch.long)\n",
        "spike_times = torch.tensor(data.iloc[:, 1:].values, dtype=torch.float32)\n",
        "\n",
        "# Convert spike times to spike trains\n",
        "def convert_to_spike_trains(spike_times, num_time_steps=50):\n",
        "    num_samples, num_neurons = spike_times.shape\n",
        "    spike_trains = torch.zeros((num_samples, num_neurons, num_time_steps))\n",
        "    for t in range(num_time_steps):\n",
        "        spike_trains[:, :, t] = torch.exp(-((spike_times - t) ** 2) / 2).float()\n",
        "    return spike_trains\n",
        "\n",
        "spike_trains = convert_to_spike_trains(spike_times)\n",
        "\n",
        "# Split into training and testing\n",
        "train_size = int(0.8 * len(spike_trains))\n",
        "test_size = len(spike_trains) - train_size\n",
        "train_spike_trains, test_spike_trains = torch.utils.data.random_split(spike_trains, [train_size, test_size])\n",
        "train_labels, test_labels = torch.utils.data.random_split(labels, [train_size, test_size])\n",
        "\n",
        "# Define Improved SNN Model\n",
        "class SNN(nn.Module):\n",
        "    def __init__(self, num_inputs=spike_times.shape[1], num_hidden=100, num_outputs=10, beta=0.85):\n",
        "        super(SNN, self).__init__()\n",
        "        self.fc1 = nn.Linear(num_inputs, num_hidden)\n",
        "        self.bn1 = nn.BatchNorm1d(num_hidden)\n",
        "        self.lif1 = snn.Leaky(beta=beta, learn_beta=True, threshold=0.5, reset_mechanism=\"subtract\",\n",
        "                              spike_grad=surrogate.fast_sigmoid(slope=5))\n",
        "\n",
        "        self.fc2 = nn.Linear(num_hidden, num_outputs)\n",
        "        # self.bn2 = nn.BatchNorm1d(num_hidden)\n",
        "        self.lif2 = snn.Leaky(beta=beta, learn_beta=True, threshold=0.5, reset_mechanism=\"subtract\",\n",
        "                              spike_grad=surrogate.fast_sigmoid(slope=5))\n",
        "\n",
        "        # self.fc3 = nn.Linear(num_hidden, num_outputs)\n",
        "        # self.lif3 = snn.Leaky(beta=beta, learn_beta=True, threshold=0.7, reset_mechanism=\"subtract\",\n",
        "                              # spike_grad=surrogate.fast_sigmoid(slope=5))\n",
        "\n",
        "        self.dropout = nn.Dropout(0.3)  # Prevent overfitting\n",
        "\n",
        "        # Xavier Uniform Initialization for Stability\n",
        "        for m in self.modules():\n",
        "            if isinstance(m, nn.Linear):\n",
        "                nn.init.xavier_uniform_(m.weight)\n",
        "                nn.init.zeros_(m.bias)\n",
        "\n",
        "    def forward(self, x):\n",
        "        batch_size, num_neurons, time_steps = x.shape\n",
        "        x = x.permute(2, 0, 1)  # (time, batch, neurons)\n",
        "\n",
        "        # mem1, mem2, mem3 = [torch.zeros(batch_size, layer.out_features, device=x.device)\n",
        "                            #  for layer in [self.fc1, self.fc2, self.fc3]]\n",
        "        mem1, mem2 = [torch.zeros(batch_size, layer.out_features, device=x.device)\n",
        "                             for layer in [self.fc1, self.fc2]]\n",
        "        spk2_rec = []\n",
        "\n",
        "        for t in range(time_steps):\n",
        "            spk1, mem1 = self.lif1(self.bn1(self.fc1(x[t])), mem1)\n",
        "            # spk2, mem2 = self.lif2(self.bn2(self.fc2(spk1) + spk1), mem2)  # Residual Connection\n",
        "            # spk2 = self.dropout(spk2)\n",
        "            # spk3, mem3 = self.lif3(self.fc3(spk2), mem3)\n",
        "            # spk3_rec.append(spk3)\n",
        "            spk2, mem2 = self.lif2(self.fc2(spk1), mem2)\n",
        "            spk2_rec.append(spk2)\n",
        "\n",
        "        # spk3_rec = torch.stack(spk3_rec, dim=0).mean(0)  # Max-over-time readout\n",
        "        spk2_rec = torch.stack(spk2_rec, dim=0).mean(0)  # Max-over-time readout\n",
        "        return spk2_rec\n",
        "\n",
        "# Instantiate Model\n",
        "model = SNN()\n",
        "criterion = nn.CrossEntropyLoss()\n",
        "optimizer = torch.optim.Adam(model.parameters(), lr=0.001)\n",
        "scheduler = lr_scheduler.CosineAnnealingLR(optimizer, T_max=50)\n",
        "\n",
        "# Data Loaders\n",
        "batch_size = 64\n",
        "train_loader = torch.utils.data.DataLoader(\n",
        "    list(zip(train_spike_trains, train_labels)), batch_size=batch_size, shuffle=True\n",
        ")\n",
        "test_loader = torch.utils.data.DataLoader(\n",
        "    list(zip(test_spike_trains, test_labels)), batch_size=batch_size, shuffle=False\n",
        ")\n",
        "\n",
        "# Training Loop\n",
        "num_epochs = 10\n",
        "torch.autograd.set_detect_anomaly(True)\n",
        "\n",
        "for epoch in range(num_epochs):\n",
        "    model.train()\n",
        "    running_loss = 0.0\n",
        "    total_spikes = 0\n",
        "    for inputs, labels in train_loader:\n",
        "        optimizer.zero_grad()\n",
        "        outputs = model(inputs)\n",
        "        loss = criterion(outputs, labels)\n",
        "        loss.backward()\n",
        "        torch.nn.utils.clip_grad_norm_(model.parameters(), max_norm=1.0)  # Gradient Clipping\n",
        "        optimizer.step()\n",
        "        running_loss += loss.item()\n",
        "        total_spikes += (outputs > 0).sum().item()  # Count active neurons\n",
        "\n",
        "    avg_loss = running_loss / len(train_loader)\n",
        "    scheduler.step()  # Adjust learning rate dynamically\n",
        "    print(f\"Epoch [{epoch + 1}/{num_epochs}], Loss: {avg_loss:.4f}, Spikes: {total_spikes}\")\n",
        "\n",
        "# Testing Loop\n",
        "model.eval()\n",
        "correct = 0\n",
        "total = 0\n",
        "with torch.no_grad():\n",
        "    for inputs, labels in test_loader:\n",
        "        outputs = model(inputs)\n",
        "        _, predicted = torch.max(outputs, 1)\n",
        "        total += labels.size(0)\n",
        "        correct += (predicted == labels).sum().item()\n",
        "\n",
        "accuracy = correct / total\n",
        "print(f\"Test Accuracy: {accuracy * 100:.2f}%\")\n"
      ]
    },
    {
      "cell_type": "code",
      "execution_count": null,
      "metadata": {
        "colab": {
          "base_uri": "https://localhost:8080/"
        },
        "id": "5hbVbrlUJfbW",
        "outputId": "3b9f66f5-8d58-456d-ea73-86504f7f6ade"
      },
      "outputs": [
        {
          "data": {
            "text/plain": [
              "tensor([74.8825, 45.3203, 56.8354, 67.3241, 35.1018, 18.4770,  9.8592, 90.2051,\n",
              "         1.6925, 94.1393, 54.4921, 62.1268, 95.6491, 37.7465, 81.6426, 12.3235,\n",
              "         0.4666, 98.9531, 15.1895, 23.2405, 89.4766, 13.0404, 58.8911, 48.2181,\n",
              "        77.3262, 50.1658, 61.8191, 64.3078, 40.2995, 63.4450])"
            ]
          },
          "execution_count": 45,
          "metadata": {},
          "output_type": "execute_result"
        }
      ],
      "source": [
        "spike_times[1]"
      ]
    },
    {
      "cell_type": "markdown",
      "metadata": {
        "id": "j9zVbkRR9WG1"
      },
      "source": [
        "## test"
      ]
    },
    {
      "cell_type": "code",
      "execution_count": null,
      "metadata": {
        "id": "kQeD0vlxEWVj"
      },
      "outputs": [],
      "source": [
        "import numpy as np\n",
        "import torch\n",
        "\n",
        "def generate_manifold_data(num_samples=1000, num_neurons=100, alpha=3, D=1):\n",
        "    \"\"\"\n",
        "    Generates smooth random manifold spiking data.\n",
        "\n",
        "    :param num_samples: Number of data points\n",
        "    :param num_neurons: Number of neurons (input dimension)\n",
        "    :param alpha: Smoothness parameter of the manifold\n",
        "    :param D: Intrinsic dimensionality of the manifold\n",
        "    :return: Spike times tensor\n",
        "    \"\"\"\n",
        "    X = np.random.rand(num_samples, D).squeeze()  # Ensure correct shape (1000,)\n",
        "    spike_times = np.zeros((num_samples, num_neurons))\n",
        "\n",
        "    for i in range(num_neurons):\n",
        "        theta = np.random.rand()  # Random offset per neuron\n",
        "        spike_times[:, i] = np.sin(2 * np.pi * (X + theta)).squeeze() * alpha\n",
        "\n",
        "    spike_times = np.clip(spike_times, 0, 50)  # Clip to max simulation time (50ms)\n",
        "    return torch.tensor(spike_times, dtype=torch.float32)\n",
        "\n",
        "# Generate training and testing data\n",
        "num_samples = 1000\n",
        "num_neurons = 100\n",
        "train_spikes = generate_manifold_data(num_samples=num_samples, num_neurons=num_neurons)\n",
        "test_spikes = generate_manifold_data(num_samples=200, num_neurons=num_neurons)\n",
        "train_labels = torch.randint(0, 10, (num_samples,))  # 10-class classification\n",
        "test_labels = torch.randint(0, 10, (200,))"
      ]
    },
    {
      "cell_type": "code",
      "execution_count": null,
      "metadata": {
        "id": "UXY_QXk5pNE8"
      },
      "outputs": [],
      "source": [
        "def convert_to_spike_trains(spike_times, num_time_steps=50):\n",
        "    \"\"\"\n",
        "    Converts spike timing data to binary spike trains.\n",
        "\n",
        "    :param spike_times: Tensor of spike timings\n",
        "    :param num_time_steps: Number of time steps to simulate\n",
        "    :return: Binary spike train tensor\n",
        "    \"\"\"\n",
        "    num_samples, num_neurons = spike_times.shape\n",
        "    spike_trains = torch.zeros((num_samples, num_neurons, num_time_steps))\n",
        "\n",
        "    for t in range(num_time_steps):\n",
        "        spike_trains[:, :, t] = (spike_times == t).float()\n",
        "\n",
        "    return spike_trains\n",
        "\n",
        "# Convert data\n",
        "num_time_steps = 50\n",
        "train_spike_trains = convert_to_spike_trains(train_spikes, num_time_steps)\n",
        "test_spike_trains = convert_to_spike_trains(test_spikes, num_time_steps)"
      ]
    },
    {
      "cell_type": "code",
      "execution_count": null,
      "metadata": {
        "id": "Q83M9F_6pRTg"
      },
      "outputs": [],
      "source": [
        "class SNN(nn.Module):\n",
        "    def __init__(self, num_inputs=100, num_hidden=256, num_outputs=10):\n",
        "        super(SNN, self).__init__()\n",
        "        self.fc1 = nn.Linear(num_inputs, num_hidden)\n",
        "        self.lif1 = neuron.LIFNode(surrogate_function=surrogate.Sigmoid())\n",
        "        self.fc2 = nn.Linear(num_hidden, num_outputs)\n",
        "        self.lif2 = neuron.LIFNode(surrogate_function=surrogate.Sigmoid())\n",
        "\n",
        "    def forward(self, x):\n",
        "        batch_size, num_neurons, time_steps = x.shape\n",
        "        x = x.permute(2, 0, 1)  # (time, batch, neurons)\n",
        "        mem1 = torch.zeros(batch_size, 256, device=x.device)\n",
        "        mem2 = torch.zeros(batch_size, 10, device=x.device)\n",
        "\n",
        "        for t in range(time_steps):\n",
        "            mem1 = self.lif1(self.fc1(x[t]))\n",
        "            mem2 = self.lif2(self.fc2(mem1))\n",
        "\n",
        "        return mem2  # Output is the final membrane potential\n",
        "\n",
        "# Instantiate Model\n",
        "model = SNN()"
      ]
    },
    {
      "cell_type": "code",
      "execution_count": null,
      "metadata": {
        "id": "_Z2qZLD3pT-L"
      },
      "outputs": [],
      "source": [
        "criterion = nn.CrossEntropyLoss()\n",
        "optimizer = torch.optim.Adam(model.parameters(), lr=0.001)"
      ]
    },
    {
      "cell_type": "code",
      "execution_count": null,
      "metadata": {
        "colab": {
          "base_uri": "https://localhost:8080/"
        },
        "id": "Tdw5cHSgpWPK",
        "outputId": "6bbc642e-5c8a-49da-f122-7e4287065c9b"
      },
      "outputs": [
        {
          "name": "stdout",
          "output_type": "stream",
          "text": [
            "Epoch 1, Loss: 2.3025851249694824\n",
            "Epoch 2, Loss: 2.3025851249694824\n",
            "Epoch 3, Loss: 2.3025851249694824\n",
            "Epoch 4, Loss: 2.3025851249694824\n",
            "Epoch 5, Loss: 2.3025851249694824\n",
            "Epoch 6, Loss: 2.3025851249694824\n",
            "Epoch 7, Loss: 2.3025851249694824\n",
            "Epoch 8, Loss: 2.3025851249694824\n",
            "Epoch 9, Loss: 2.3025851249694824\n",
            "Epoch 10, Loss: 2.3025851249694824\n"
          ]
        }
      ],
      "source": [
        "num_epochs = 10\n",
        "batch_size = 64\n",
        "\n",
        "train_loader = torch.utils.data.DataLoader(\n",
        "    list(zip(train_spike_trains, train_labels)), batch_size=batch_size, shuffle=True\n",
        ")\n",
        "\n",
        "test_loader = torch.utils.data.DataLoader(\n",
        "    list(zip(test_spike_trains, test_labels)), batch_size=batch_size, shuffle=False\n",
        ")\n",
        "\n",
        "for epoch in range(num_epochs):\n",
        "    running_loss = 0.0\n",
        "    for inputs, labels in train_loader:\n",
        "        optimizer.zero_grad()\n",
        "        functional.reset_net(model)  # Reset neuron states\n",
        "\n",
        "        outputs = model(inputs)\n",
        "        loss = criterion(outputs, labels)\n",
        "        loss.backward()\n",
        "        optimizer.step()\n",
        "\n",
        "        running_loss += loss.item()\n",
        "\n",
        "    print(f\"Epoch {epoch+1}, Loss: {running_loss/len(train_loader)}\")"
      ]
    },
    {
      "cell_type": "code",
      "execution_count": null,
      "metadata": {
        "colab": {
          "base_uri": "https://localhost:8080/"
        },
        "id": "xbEBDvghpajK",
        "outputId": "820b58a9-28d6-4009-bbcb-6af6bb3db476"
      },
      "outputs": [
        {
          "name": "stdout",
          "output_type": "stream",
          "text": [
            "Test Accuracy: 10.50%\n"
          ]
        }
      ],
      "source": [
        "correct = 0\n",
        "total = 0\n",
        "\n",
        "with torch.no_grad():\n",
        "    for inputs, labels in test_loader:\n",
        "        functional.reset_net(model)\n",
        "\n",
        "        outputs = model(inputs)\n",
        "        _, predicted = torch.max(outputs, 1)\n",
        "        total += labels.size(0)\n",
        "        correct += (predicted == labels).sum().item()\n",
        "\n",
        "accuracy = correct / total\n",
        "print(f\"Test Accuracy: {accuracy * 100:.2f}%\")"
      ]
    },
    {
      "cell_type": "code",
      "execution_count": null,
      "metadata": {
        "colab": {
          "base_uri": "https://localhost:8080/"
        },
        "id": "Srre9muguLvH",
        "outputId": "b8101c05-f6fc-4ff4-8f97-4137a6b76e85"
      },
      "outputs": [
        {
          "name": "stdout",
          "output_type": "stream",
          "text": [
            "Requirement already satisfied: snntorch in /usr/local/lib/python3.11/dist-packages (0.9.4)\n"
          ]
        }
      ],
      "source": [
        "!pip install snntorch --upgrade"
      ]
    },
    {
      "cell_type": "code",
      "execution_count": null,
      "metadata": {
        "colab": {
          "base_uri": "https://localhost:8080/"
        },
        "id": "FESRQvQWePnf",
        "outputId": "08cfb312-3998-4e0a-a576-d71fc3ef6c48"
      },
      "outputs": [
        {
          "name": "stdout",
          "output_type": "stream",
          "text": [
            "Epoch [1/50], Loss: 2.3026\n",
            "Epoch [2/50], Loss: 2.3023\n",
            "Epoch [3/50], Loss: 2.3015\n",
            "Epoch [4/50], Loss: 2.2994\n",
            "Epoch [5/50], Loss: 2.2984\n",
            "Epoch [6/50], Loss: 2.2977\n",
            "Epoch [7/50], Loss: 2.2976\n",
            "Epoch [8/50], Loss: 2.2969\n",
            "Epoch [9/50], Loss: 2.2975\n",
            "Epoch [10/50], Loss: 2.2972\n",
            "Epoch [11/50], Loss: 2.2976\n",
            "Epoch [12/50], Loss: 2.2962\n",
            "Epoch [13/50], Loss: 2.2962\n",
            "Epoch [14/50], Loss: 2.2963\n",
            "Epoch [15/50], Loss: 2.2952\n",
            "Epoch [16/50], Loss: 2.2956\n",
            "Epoch [17/50], Loss: 2.2957\n",
            "Epoch [18/50], Loss: 2.2952\n",
            "Epoch [19/50], Loss: 2.2959\n",
            "Epoch [20/50], Loss: 2.2947\n",
            "Epoch [21/50], Loss: 2.2960\n",
            "Epoch [22/50], Loss: 2.2962\n",
            "Epoch [23/50], Loss: 2.2945\n",
            "Epoch [24/50], Loss: 2.2943\n",
            "Epoch [25/50], Loss: 2.2955\n",
            "Epoch [26/50], Loss: 2.2947\n",
            "Epoch [27/50], Loss: 2.2937\n",
            "Epoch [28/50], Loss: 2.2949\n",
            "Epoch [29/50], Loss: 2.2950\n",
            "Epoch [30/50], Loss: 2.2941\n",
            "Epoch [31/50], Loss: 2.2946\n",
            "Epoch [32/50], Loss: 2.2940\n",
            "Epoch [33/50], Loss: 2.2939\n",
            "Epoch [34/50], Loss: 2.2938\n",
            "Epoch [35/50], Loss: 2.2935\n",
            "Epoch [36/50], Loss: 2.2931\n",
            "Epoch [37/50], Loss: 2.2928\n",
            "Epoch [38/50], Loss: 2.2938\n",
            "Epoch [39/50], Loss: 2.2913\n",
            "Epoch [40/50], Loss: 2.2929\n",
            "Epoch [41/50], Loss: 2.2918\n",
            "Epoch [42/50], Loss: 2.2926\n",
            "Epoch [43/50], Loss: 2.2918\n",
            "Epoch [44/50], Loss: 2.2910\n",
            "Epoch [45/50], Loss: 2.2899\n",
            "Epoch [46/50], Loss: 2.2895\n",
            "Epoch [47/50], Loss: 2.2908\n",
            "Epoch [48/50], Loss: 2.2900\n",
            "Epoch [49/50], Loss: 2.2899\n",
            "Epoch [50/50], Loss: 2.2888\n",
            "Test Accuracy: 10.00%\n"
          ]
        }
      ],
      "source": [
        "import numpy as np\n",
        "import torch\n",
        "import torch.nn as nn\n",
        "import snntorch as snn\n",
        "from snntorch import surrogate, functional\n",
        "\n",
        "# Generate Manifold Data\n",
        "def generate_manifold_data(num_samples=1000, num_neurons=100, alpha=3, D=1):\n",
        "    X = np.random.rand(num_samples, D).squeeze()\n",
        "    spike_times = np.zeros((num_samples, num_neurons))\n",
        "\n",
        "    for i in range(num_neurons):\n",
        "        theta = np.random.rand()\n",
        "        spike_times[:, i] = np.sin(2 * np.pi * (X + theta)) * alpha\n",
        "\n",
        "    spike_times = np.clip(spike_times, 0, 50)\n",
        "    return torch.tensor(spike_times, dtype=torch.float32)\n",
        "\n",
        "# Improved Encoding: Probability-based spike generation\n",
        "def convert_to_spike_trains(spike_times, num_time_steps=50):\n",
        "    num_samples, num_neurons = spike_times.shape\n",
        "    spike_trains = torch.zeros((num_samples, num_neurons, num_time_steps))\n",
        "\n",
        "    for t in range(num_time_steps):\n",
        "        spike_trains[:, :, t] = torch.exp(-((spike_times - t) ** 2) / 2).float()\n",
        "\n",
        "    return spike_trains\n",
        "\n",
        "# Generate training and testing data\n",
        "num_samples = 1000\n",
        "num_neurons = 100\n",
        "train_spikes = generate_manifold_data(num_samples=num_samples, num_neurons=num_neurons)\n",
        "test_spikes = generate_manifold_data(num_samples=200, num_neurons=num_neurons)\n",
        "\n",
        "train_spike_trains = convert_to_spike_trains(train_spikes)\n",
        "test_spike_trains = convert_to_spike_trains(test_spikes)\n",
        "\n",
        "train_labels = torch.randint(0, 10, (num_samples,))\n",
        "test_labels = torch.randint(0, 10, (200,))\n",
        "\n",
        "# Define SNN Model\n",
        "class SNN(nn.Module):\n",
        "    def __init__(self, num_inputs=100, num_hidden=256, num_outputs=10):\n",
        "        super(SNN, self).__init__()\n",
        "        self.fc1 = nn.Linear(num_inputs, num_hidden)\n",
        "        self.lif1 = snn.Leaky(\n",
        "            beta=0.9,\n",
        "            learn_beta=True,\n",
        "            threshold=1.0,\n",
        "            spike_grad=surrogate.fast_sigmoid(slope=25)\n",
        "        )\n",
        "        self.fc2 = nn.Linear(num_hidden, num_outputs)\n",
        "        self.lif2 = snn.Leaky(\n",
        "            beta=0.9,\n",
        "            learn_beta=True,\n",
        "            threshold=1.0,\n",
        "            spike_grad=surrogate.fast_sigmoid(slope=25)\n",
        "        )\n",
        "\n",
        "    def forward(self, x):\n",
        "        batch_size, num_neurons, time_steps = x.shape\n",
        "        x = x.permute(2, 0, 1)  # (time, batch, neurons)\n",
        "\n",
        "        # Initialize hidden states\n",
        "        mem1 = torch.zeros(batch_size, 256, device=x.device)\n",
        "        mem2 = torch.zeros(batch_size, 10, device=x.device)\n",
        "\n",
        "        spk1_rec = []\n",
        "        spk2_rec = []\n",
        "\n",
        "        for t in range(time_steps):\n",
        "            # No in-place operations and proper state handling\n",
        "            spk1, mem1 = self.lif1(self.fc1(x[t]), mem1)\n",
        "            spk2, mem2 = self.lif2(self.fc2(spk1), mem2)\n",
        "\n",
        "            spk1_rec.append(spk1)\n",
        "            spk2_rec.append(spk2)\n",
        "\n",
        "        # Stack and compute the mean across time steps\n",
        "        spk2_rec = torch.stack(spk2_rec, dim=0).mean(0)\n",
        "\n",
        "        return spk2_rec\n",
        "\n",
        "# Instantiate Model\n",
        "model = SNN()\n",
        "criterion = nn.CrossEntropyLoss()\n",
        "optimizer = torch.optim.Adam(model.parameters(), lr=0.001)\n",
        "\n",
        "# Data Loaders\n",
        "batch_size = 64\n",
        "train_loader = torch.utils.data.DataLoader(\n",
        "    list(zip(train_spike_trains, train_labels)), batch_size=batch_size, shuffle=True\n",
        ")\n",
        "test_loader = torch.utils.data.DataLoader(\n",
        "    list(zip(test_spike_trains, test_labels)), batch_size=batch_size, shuffle=False\n",
        ")\n",
        "\n",
        "# Training Loop\n",
        "num_epochs = 50\n",
        "torch.autograd.set_detect_anomaly(True)  # Enable anomaly detection\n",
        "\n",
        "for epoch in range(num_epochs):\n",
        "    model.train()\n",
        "    running_loss = 0.0\n",
        "    for inputs, labels in train_loader:\n",
        "        optimizer.zero_grad()\n",
        "\n",
        "        # Reset neuron states at the start of each batch\n",
        "        spk1_rec.detach_()\n",
        "        spk2_rec.detach_()\n",
        "\n",
        "        # Forward pass\n",
        "        outputs = model(inputs)\n",
        "\n",
        "        # Compute loss\n",
        "        loss = criterion(outputs, labels)\n",
        "\n",
        "        # Backpropagation — Allow BPTT by setting retain_graph=True\n",
        "        loss.backward(retain_graph=True)\n",
        "        optimizer.step()\n",
        "\n",
        "        running_loss += loss.item()\n",
        "\n",
        "    avg_loss = running_loss / len(train_loader)\n",
        "    print(f\"Epoch [{epoch + 1}/{num_epochs}], Loss: {avg_loss:.4f}\")\n",
        "\n",
        "# Testing Loop\n",
        "model.eval()\n",
        "correct = 0\n",
        "total = 0\n",
        "with torch.no_grad():\n",
        "    for inputs, labels in test_loader:\n",
        "        # Reset neuron states at the start of each test batch\n",
        "        spk1_rec.detach_()\n",
        "        spk2_rec.detach_()\n",
        "\n",
        "        outputs = model(inputs)\n",
        "        _, predicted = torch.max(outputs, 1)\n",
        "        total += labels.size(0)\n",
        "        correct += (predicted == labels).sum().item()\n",
        "\n",
        "accuracy = correct / total\n",
        "print(f\"Test Accuracy: {accuracy * 100:.2f}%\")\n"
      ]
    },
    {
      "cell_type": "code",
      "execution_count": null,
      "metadata": {
        "colab": {
          "base_uri": "https://localhost:8080/"
        },
        "id": "LNTUF-0i268K",
        "outputId": "091b27f1-e6be-4f4b-fa7d-7bab1e0b7a7c"
      },
      "outputs": [
        {
          "name": "stdout",
          "output_type": "stream",
          "text": [
            "Epoch [1/50], Loss: 2.3011\n",
            "Epoch [2/50], Loss: 2.2982\n",
            "Epoch [3/50], Loss: 2.2997\n",
            "Epoch [4/50], Loss: 2.2966\n",
            "Epoch [5/50], Loss: 2.2975\n",
            "Epoch [6/50], Loss: 2.2950\n",
            "Epoch [7/50], Loss: 2.2951\n",
            "Epoch [8/50], Loss: 2.2952\n",
            "Epoch [9/50], Loss: 2.2952\n",
            "Epoch [10/50], Loss: 2.2939\n",
            "Epoch [11/50], Loss: 2.2937\n",
            "Epoch [12/50], Loss: 2.2932\n",
            "Epoch [13/50], Loss: 2.2930\n",
            "Epoch [14/50], Loss: 2.2940\n",
            "Epoch [15/50], Loss: 2.2964\n",
            "Epoch [16/50], Loss: 2.2945\n",
            "Epoch [17/50], Loss: 2.2936\n",
            "Epoch [18/50], Loss: 2.2938\n",
            "Epoch [19/50], Loss: 2.2937\n",
            "Epoch [20/50], Loss: 2.2934\n",
            "Epoch [21/50], Loss: 2.2933\n",
            "Epoch [22/50], Loss: 2.2958\n",
            "Epoch [23/50], Loss: 2.2942\n",
            "Epoch [24/50], Loss: 2.2928\n",
            "Epoch [25/50], Loss: 2.2942\n",
            "Epoch [26/50], Loss: 2.2927\n",
            "Epoch [27/50], Loss: 2.2929\n",
            "Epoch [28/50], Loss: 2.2923\n",
            "Epoch [29/50], Loss: 2.2935\n",
            "Epoch [30/50], Loss: 2.2938\n",
            "Epoch [31/50], Loss: 2.2934\n",
            "Epoch [32/50], Loss: 2.2944\n",
            "Epoch [33/50], Loss: 2.2934\n",
            "Epoch [34/50], Loss: 2.2933\n",
            "Epoch [35/50], Loss: 2.2927\n",
            "Epoch [36/50], Loss: 2.2941\n",
            "Epoch [37/50], Loss: 2.2937\n",
            "Epoch [38/50], Loss: 2.2933\n",
            "Epoch [39/50], Loss: 2.2927\n",
            "Epoch [40/50], Loss: 2.2924\n",
            "Epoch [41/50], Loss: 2.2940\n",
            "Epoch [42/50], Loss: 2.2933\n",
            "Epoch [43/50], Loss: 2.2931\n",
            "Epoch [44/50], Loss: 2.2925\n",
            "Epoch [45/50], Loss: 2.2932\n",
            "Epoch [46/50], Loss: 2.2926\n",
            "Epoch [47/50], Loss: 2.2944\n",
            "Epoch [48/50], Loss: 2.2933\n",
            "Epoch [49/50], Loss: 2.2927\n",
            "Epoch [50/50], Loss: 2.2930\n",
            "Test Accuracy: 8.50%\n"
          ]
        }
      ],
      "source": [
        "import numpy as np\n",
        "import torch\n",
        "import torch.nn as nn\n",
        "import snntorch as snn\n",
        "from snntorch import surrogate\n",
        "\n",
        "# Generate Manifold Data\n",
        "def generate_manifold_data(num_samples=1000, num_neurons=100, alpha=3, D=1):\n",
        "    X = np.random.rand(num_samples, D).squeeze()\n",
        "    spike_times = np.zeros((num_samples, num_neurons))\n",
        "    for i in range(num_neurons):\n",
        "        theta = np.random.rand()\n",
        "        spike_times[:, i] = np.sin(2 * np.pi * (X + theta)) * alpha\n",
        "    spike_times = np.clip(spike_times, 0, 50)\n",
        "    return torch.tensor(spike_times, dtype=torch.float32)\n",
        "\n",
        "# Improved Encoding: Probability-based spike generation\n",
        "def convert_to_spike_trains(spike_times, num_time_steps=50):\n",
        "    num_samples, num_neurons = spike_times.shape\n",
        "    spike_trains = torch.zeros((num_samples, num_neurons, num_time_steps))\n",
        "    for t in range(num_time_steps):\n",
        "        spike_trains[:, :, t] = torch.exp(-((spike_times - t) ** 2) / 2).float()\n",
        "    return spike_trains\n",
        "\n",
        "# Generate training and testing data\n",
        "num_samples = 1000\n",
        "num_neurons = 100\n",
        "train_spikes = generate_manifold_data(num_samples=num_samples, num_neurons=num_neurons)\n",
        "test_spikes = generate_manifold_data(num_samples=200, num_neurons=num_neurons)\n",
        "\n",
        "train_spike_trains = convert_to_spike_trains(train_spikes)\n",
        "test_spike_trains = convert_to_spike_trains(test_spikes)\n",
        "\n",
        "train_labels = torch.randint(0, 10, (num_samples,))\n",
        "test_labels = torch.randint(0, 10, (200,))\n",
        "\n",
        "# Define SNN Model with Optimized Surrogate Gradient\n",
        "class SNN(nn.Module):\n",
        "    def __init__(self, num_inputs=100, num_hidden=256, num_outputs=10, beta=0.9):\n",
        "        super(SNN, self).__init__()\n",
        "        self.fc1 = nn.Linear(num_inputs, num_hidden)\n",
        "        self.lif1 = snn.Leaky(beta=beta, learn_beta=True, threshold=1.0,\n",
        "                              spike_grad=surrogate.fast_sigmoid(slope=10))\n",
        "        self.fc2 = nn.Linear(num_hidden, num_hidden)\n",
        "        self.lif2 = snn.Leaky(beta=beta, learn_beta=True, threshold=1.0,\n",
        "                              spike_grad=surrogate.fast_sigmoid(slope=10))\n",
        "        self.fc3 = nn.Linear(num_hidden, num_outputs)\n",
        "        self.lif3 = snn.Leaky(beta=beta, learn_beta=True, threshold=1.0,\n",
        "                              spike_grad=surrogate.fast_sigmoid(slope=10))\n",
        "\n",
        "    def forward(self, x):\n",
        "        batch_size, num_neurons, time_steps = x.shape\n",
        "        x = x.permute(2, 0, 1)  # (time, batch, neurons)\n",
        "\n",
        "        mem1, mem2, mem3 = [torch.zeros(batch_size, layer.out_features, device=x.device)\n",
        "                             for layer in [self.fc1, self.fc2, self.fc3]]\n",
        "        spk3_rec = []\n",
        "\n",
        "        for t in range(time_steps):\n",
        "            spk1, mem1 = self.lif1(self.fc1(x[t]), mem1)\n",
        "            spk2, mem2 = self.lif2(self.fc2(spk1), mem2)\n",
        "            spk3, mem3 = self.lif3(self.fc3(spk2), mem3)\n",
        "            spk3_rec.append(spk3)\n",
        "\n",
        "        spk3_rec = torch.stack(spk3_rec, dim=0).mean(0)  # Max-over-time readout\n",
        "        return spk3_rec\n",
        "\n",
        "# Instantiate Model\n",
        "model = SNN()\n",
        "criterion = nn.CrossEntropyLoss()\n",
        "optimizer = torch.optim.Adam(model.parameters(), lr=0.005)\n",
        "\n",
        "# Data Loaders\n",
        "batch_size = 64\n",
        "train_loader = torch.utils.data.DataLoader(\n",
        "    list(zip(train_spike_trains, train_labels)), batch_size=batch_size, shuffle=True\n",
        ")\n",
        "test_loader = torch.utils.data.DataLoader(\n",
        "    list(zip(test_spike_trains, test_labels)), batch_size=batch_size, shuffle=False\n",
        ")\n",
        "\n",
        "# Training Loop\n",
        "num_epochs = 50\n",
        "torch.autograd.set_detect_anomaly(True)\n",
        "\n",
        "for epoch in range(num_epochs):\n",
        "    model.train()\n",
        "    running_loss = 0.0\n",
        "    for inputs, labels in train_loader:\n",
        "        optimizer.zero_grad()\n",
        "        outputs = model(inputs)\n",
        "        loss = criterion(outputs, labels)\n",
        "        loss.backward()\n",
        "        optimizer.step()\n",
        "        running_loss += loss.item()\n",
        "\n",
        "    avg_loss = running_loss / len(train_loader)\n",
        "    print(f\"Epoch [{epoch + 1}/{num_epochs}], Loss: {avg_loss:.4f}\")\n",
        "\n",
        "# Testing Loop\n",
        "model.eval()\n",
        "correct = 0\n",
        "total = 0\n",
        "with torch.no_grad():\n",
        "    for inputs, labels in test_loader:\n",
        "        outputs = model(inputs)\n",
        "        _, predicted = torch.max(outputs, 1)\n",
        "        total += labels.size(0)\n",
        "        correct += (predicted == labels).sum().item()\n",
        "\n",
        "accuracy = correct / total\n",
        "print(f\"Test Accuracy: {accuracy * 100:.2f}%\")\n"
      ]
    },
    {
      "cell_type": "code",
      "execution_count": null,
      "metadata": {
        "colab": {
          "base_uri": "https://localhost:8080/",
          "height": 1000
        },
        "id": "rRJh9aLxuCXW",
        "outputId": "3e0b6099-ddcc-4550-ef9d-4d4299b38714"
      },
      "outputs": [
        {
          "name": "stdout",
          "output_type": "stream",
          "text": [
            "Epoch [1/50], Loss: 2.3056\n",
            "Epoch [2/50], Loss: 2.2996\n",
            "Epoch [3/50], Loss: 2.2982\n",
            "Epoch [4/50], Loss: 2.2977\n",
            "Epoch [5/50], Loss: 2.2976\n",
            "Epoch [6/50], Loss: 2.2968\n",
            "Epoch [7/50], Loss: 2.2977\n",
            "Epoch [8/50], Loss: 2.2961\n",
            "Epoch [9/50], Loss: 2.2946\n",
            "Epoch [10/50], Loss: 2.2973\n",
            "Epoch [11/50], Loss: 2.2977\n",
            "Epoch [12/50], Loss: 2.2985\n",
            "Epoch [13/50], Loss: 2.2972\n",
            "Epoch [14/50], Loss: 2.2959\n",
            "Epoch [15/50], Loss: 2.2961\n",
            "Epoch [16/50], Loss: 2.2940\n",
            "Epoch [17/50], Loss: 2.2938\n",
            "Epoch [18/50], Loss: 2.2922\n",
            "Epoch [19/50], Loss: 2.2918\n",
            "Epoch [20/50], Loss: 2.2877\n",
            "Epoch [21/50], Loss: 2.2879\n",
            "Epoch [22/50], Loss: 2.2865\n",
            "Epoch [23/50], Loss: 2.2851\n",
            "Epoch [24/50], Loss: 2.2825\n",
            "Epoch [25/50], Loss: 2.2865\n",
            "Epoch [26/50], Loss: 2.2863\n",
            "Epoch [27/50], Loss: 2.2846\n",
            "Epoch [28/50], Loss: 2.2858\n",
            "Epoch [29/50], Loss: 2.2837\n",
            "Epoch [30/50], Loss: 2.2836\n",
            "Epoch [31/50], Loss: 2.2810\n",
            "Epoch [32/50], Loss: 2.2800\n",
            "Epoch [33/50], Loss: 2.2826\n",
            "Epoch [34/50], Loss: 2.2832\n",
            "Epoch [35/50], Loss: 2.2816\n",
            "Epoch [36/50], Loss: 2.2798\n",
            "Epoch [37/50], Loss: 2.2832\n",
            "Epoch [38/50], Loss: 2.2831\n",
            "Epoch [39/50], Loss: 2.2806\n"
          ]
        },
        {
          "ename": "KeyboardInterrupt",
          "evalue": "",
          "output_type": "error",
          "traceback": [
            "\u001b[0;31m---------------------------------------------------------------------------\u001b[0m",
            "\u001b[0;31mKeyboardInterrupt\u001b[0m                         Traceback (most recent call last)",
            "\u001b[0;32m<ipython-input-26-1cff8a3a30e9>\u001b[0m in \u001b[0;36m<cell line: 0>\u001b[0;34m()\u001b[0m\n\u001b[1;32m    104\u001b[0m     \u001b[0;32mfor\u001b[0m \u001b[0minputs\u001b[0m\u001b[0;34m,\u001b[0m \u001b[0mlabels\u001b[0m \u001b[0;32min\u001b[0m \u001b[0mtrain_loader\u001b[0m\u001b[0;34m:\u001b[0m\u001b[0;34m\u001b[0m\u001b[0;34m\u001b[0m\u001b[0m\n\u001b[1;32m    105\u001b[0m         \u001b[0moptimizer\u001b[0m\u001b[0;34m.\u001b[0m\u001b[0mzero_grad\u001b[0m\u001b[0;34m(\u001b[0m\u001b[0;34m)\u001b[0m\u001b[0;34m\u001b[0m\u001b[0;34m\u001b[0m\u001b[0m\n\u001b[0;32m--> 106\u001b[0;31m         \u001b[0moutputs\u001b[0m \u001b[0;34m=\u001b[0m \u001b[0mmodel\u001b[0m\u001b[0;34m(\u001b[0m\u001b[0minputs\u001b[0m\u001b[0;34m)\u001b[0m\u001b[0;34m\u001b[0m\u001b[0;34m\u001b[0m\u001b[0m\n\u001b[0m\u001b[1;32m    107\u001b[0m         \u001b[0mloss\u001b[0m \u001b[0;34m=\u001b[0m \u001b[0mcriterion\u001b[0m\u001b[0;34m(\u001b[0m\u001b[0moutputs\u001b[0m\u001b[0;34m,\u001b[0m \u001b[0mlabels\u001b[0m\u001b[0;34m)\u001b[0m\u001b[0;34m\u001b[0m\u001b[0;34m\u001b[0m\u001b[0m\n\u001b[1;32m    108\u001b[0m         \u001b[0mloss\u001b[0m\u001b[0;34m.\u001b[0m\u001b[0mbackward\u001b[0m\u001b[0;34m(\u001b[0m\u001b[0;34m)\u001b[0m\u001b[0;34m\u001b[0m\u001b[0;34m\u001b[0m\u001b[0m\n",
            "\u001b[0;32m/usr/local/lib/python3.11/dist-packages/torch/nn/modules/module.py\u001b[0m in \u001b[0;36m_wrapped_call_impl\u001b[0;34m(self, *args, **kwargs)\u001b[0m\n\u001b[1;32m   1737\u001b[0m             \u001b[0;32mreturn\u001b[0m \u001b[0mself\u001b[0m\u001b[0;34m.\u001b[0m\u001b[0m_compiled_call_impl\u001b[0m\u001b[0;34m(\u001b[0m\u001b[0;34m*\u001b[0m\u001b[0margs\u001b[0m\u001b[0;34m,\u001b[0m \u001b[0;34m**\u001b[0m\u001b[0mkwargs\u001b[0m\u001b[0;34m)\u001b[0m  \u001b[0;31m# type: ignore[misc]\u001b[0m\u001b[0;34m\u001b[0m\u001b[0;34m\u001b[0m\u001b[0m\n\u001b[1;32m   1738\u001b[0m         \u001b[0;32melse\u001b[0m\u001b[0;34m:\u001b[0m\u001b[0;34m\u001b[0m\u001b[0;34m\u001b[0m\u001b[0m\n\u001b[0;32m-> 1739\u001b[0;31m             \u001b[0;32mreturn\u001b[0m \u001b[0mself\u001b[0m\u001b[0;34m.\u001b[0m\u001b[0m_call_impl\u001b[0m\u001b[0;34m(\u001b[0m\u001b[0;34m*\u001b[0m\u001b[0margs\u001b[0m\u001b[0;34m,\u001b[0m \u001b[0;34m**\u001b[0m\u001b[0mkwargs\u001b[0m\u001b[0;34m)\u001b[0m\u001b[0;34m\u001b[0m\u001b[0;34m\u001b[0m\u001b[0m\n\u001b[0m\u001b[1;32m   1740\u001b[0m \u001b[0;34m\u001b[0m\u001b[0m\n\u001b[1;32m   1741\u001b[0m     \u001b[0;31m# torchrec tests the code consistency with the following code\u001b[0m\u001b[0;34m\u001b[0m\u001b[0;34m\u001b[0m\u001b[0m\n",
            "\u001b[0;32m/usr/local/lib/python3.11/dist-packages/torch/nn/modules/module.py\u001b[0m in \u001b[0;36m_call_impl\u001b[0;34m(self, *args, **kwargs)\u001b[0m\n\u001b[1;32m   1748\u001b[0m                 \u001b[0;32mor\u001b[0m \u001b[0m_global_backward_pre_hooks\u001b[0m \u001b[0;32mor\u001b[0m \u001b[0m_global_backward_hooks\u001b[0m\u001b[0;34m\u001b[0m\u001b[0;34m\u001b[0m\u001b[0m\n\u001b[1;32m   1749\u001b[0m                 or _global_forward_hooks or _global_forward_pre_hooks):\n\u001b[0;32m-> 1750\u001b[0;31m             \u001b[0;32mreturn\u001b[0m \u001b[0mforward_call\u001b[0m\u001b[0;34m(\u001b[0m\u001b[0;34m*\u001b[0m\u001b[0margs\u001b[0m\u001b[0;34m,\u001b[0m \u001b[0;34m**\u001b[0m\u001b[0mkwargs\u001b[0m\u001b[0;34m)\u001b[0m\u001b[0;34m\u001b[0m\u001b[0;34m\u001b[0m\u001b[0m\n\u001b[0m\u001b[1;32m   1751\u001b[0m \u001b[0;34m\u001b[0m\u001b[0m\n\u001b[1;32m   1752\u001b[0m         \u001b[0mresult\u001b[0m \u001b[0;34m=\u001b[0m \u001b[0;32mNone\u001b[0m\u001b[0;34m\u001b[0m\u001b[0;34m\u001b[0m\u001b[0m\n",
            "\u001b[0;32m<ipython-input-26-1cff8a3a30e9>\u001b[0m in \u001b[0;36mforward\u001b[0;34m(self, x)\u001b[0m\n\u001b[1;32m     74\u001b[0m             \u001b[0mspk2\u001b[0m\u001b[0;34m,\u001b[0m \u001b[0mmem2\u001b[0m \u001b[0;34m=\u001b[0m \u001b[0mself\u001b[0m\u001b[0;34m.\u001b[0m\u001b[0mlif2\u001b[0m\u001b[0;34m(\u001b[0m\u001b[0mself\u001b[0m\u001b[0;34m.\u001b[0m\u001b[0mbn2\u001b[0m\u001b[0;34m(\u001b[0m\u001b[0mself\u001b[0m\u001b[0;34m.\u001b[0m\u001b[0mfc2\u001b[0m\u001b[0;34m(\u001b[0m\u001b[0mspk1\u001b[0m\u001b[0;34m)\u001b[0m \u001b[0;34m+\u001b[0m \u001b[0mspk1\u001b[0m\u001b[0;34m)\u001b[0m\u001b[0;34m,\u001b[0m \u001b[0mmem2\u001b[0m\u001b[0;34m)\u001b[0m  \u001b[0;31m# Residual Connection\u001b[0m\u001b[0;34m\u001b[0m\u001b[0;34m\u001b[0m\u001b[0m\n\u001b[1;32m     75\u001b[0m             \u001b[0mspk2\u001b[0m \u001b[0;34m=\u001b[0m \u001b[0mself\u001b[0m\u001b[0;34m.\u001b[0m\u001b[0mdropout\u001b[0m\u001b[0;34m(\u001b[0m\u001b[0mspk2\u001b[0m\u001b[0;34m)\u001b[0m\u001b[0;34m\u001b[0m\u001b[0;34m\u001b[0m\u001b[0m\n\u001b[0;32m---> 76\u001b[0;31m             \u001b[0mspk3\u001b[0m\u001b[0;34m,\u001b[0m \u001b[0mmem3\u001b[0m \u001b[0;34m=\u001b[0m \u001b[0mself\u001b[0m\u001b[0;34m.\u001b[0m\u001b[0mlif3\u001b[0m\u001b[0;34m(\u001b[0m\u001b[0mself\u001b[0m\u001b[0;34m.\u001b[0m\u001b[0mfc3\u001b[0m\u001b[0;34m(\u001b[0m\u001b[0mspk2\u001b[0m\u001b[0;34m)\u001b[0m\u001b[0;34m,\u001b[0m \u001b[0mmem3\u001b[0m\u001b[0;34m)\u001b[0m\u001b[0;34m\u001b[0m\u001b[0;34m\u001b[0m\u001b[0m\n\u001b[0m\u001b[1;32m     77\u001b[0m             \u001b[0mspk3_rec\u001b[0m\u001b[0;34m.\u001b[0m\u001b[0mappend\u001b[0m\u001b[0;34m(\u001b[0m\u001b[0mspk3\u001b[0m\u001b[0;34m)\u001b[0m\u001b[0;34m\u001b[0m\u001b[0;34m\u001b[0m\u001b[0m\n\u001b[1;32m     78\u001b[0m \u001b[0;34m\u001b[0m\u001b[0m\n",
            "\u001b[0;32m/usr/local/lib/python3.11/dist-packages/torch/nn/modules/module.py\u001b[0m in \u001b[0;36m_wrapped_call_impl\u001b[0;34m(self, *args, **kwargs)\u001b[0m\n\u001b[1;32m   1737\u001b[0m             \u001b[0;32mreturn\u001b[0m \u001b[0mself\u001b[0m\u001b[0;34m.\u001b[0m\u001b[0m_compiled_call_impl\u001b[0m\u001b[0;34m(\u001b[0m\u001b[0;34m*\u001b[0m\u001b[0margs\u001b[0m\u001b[0;34m,\u001b[0m \u001b[0;34m**\u001b[0m\u001b[0mkwargs\u001b[0m\u001b[0;34m)\u001b[0m  \u001b[0;31m# type: ignore[misc]\u001b[0m\u001b[0;34m\u001b[0m\u001b[0;34m\u001b[0m\u001b[0m\n\u001b[1;32m   1738\u001b[0m         \u001b[0;32melse\u001b[0m\u001b[0;34m:\u001b[0m\u001b[0;34m\u001b[0m\u001b[0;34m\u001b[0m\u001b[0m\n\u001b[0;32m-> 1739\u001b[0;31m             \u001b[0;32mreturn\u001b[0m \u001b[0mself\u001b[0m\u001b[0;34m.\u001b[0m\u001b[0m_call_impl\u001b[0m\u001b[0;34m(\u001b[0m\u001b[0;34m*\u001b[0m\u001b[0margs\u001b[0m\u001b[0;34m,\u001b[0m \u001b[0;34m**\u001b[0m\u001b[0mkwargs\u001b[0m\u001b[0;34m)\u001b[0m\u001b[0;34m\u001b[0m\u001b[0;34m\u001b[0m\u001b[0m\n\u001b[0m\u001b[1;32m   1740\u001b[0m \u001b[0;34m\u001b[0m\u001b[0m\n\u001b[1;32m   1741\u001b[0m     \u001b[0;31m# torchrec tests the code consistency with the following code\u001b[0m\u001b[0;34m\u001b[0m\u001b[0;34m\u001b[0m\u001b[0m\n",
            "\u001b[0;32m/usr/local/lib/python3.11/dist-packages/torch/nn/modules/module.py\u001b[0m in \u001b[0;36m_call_impl\u001b[0;34m(self, *args, **kwargs)\u001b[0m\n\u001b[1;32m   1748\u001b[0m                 \u001b[0;32mor\u001b[0m \u001b[0m_global_backward_pre_hooks\u001b[0m \u001b[0;32mor\u001b[0m \u001b[0m_global_backward_hooks\u001b[0m\u001b[0;34m\u001b[0m\u001b[0;34m\u001b[0m\u001b[0m\n\u001b[1;32m   1749\u001b[0m                 or _global_forward_hooks or _global_forward_pre_hooks):\n\u001b[0;32m-> 1750\u001b[0;31m             \u001b[0;32mreturn\u001b[0m \u001b[0mforward_call\u001b[0m\u001b[0;34m(\u001b[0m\u001b[0;34m*\u001b[0m\u001b[0margs\u001b[0m\u001b[0;34m,\u001b[0m \u001b[0;34m**\u001b[0m\u001b[0mkwargs\u001b[0m\u001b[0;34m)\u001b[0m\u001b[0;34m\u001b[0m\u001b[0;34m\u001b[0m\u001b[0m\n\u001b[0m\u001b[1;32m   1751\u001b[0m \u001b[0;34m\u001b[0m\u001b[0m\n\u001b[1;32m   1752\u001b[0m         \u001b[0mresult\u001b[0m \u001b[0;34m=\u001b[0m \u001b[0;32mNone\u001b[0m\u001b[0;34m\u001b[0m\u001b[0;34m\u001b[0m\u001b[0m\n",
            "\u001b[0;32m/usr/local/lib/python3.11/dist-packages/snntorch/_neurons/leaky.py\u001b[0m in \u001b[0;36mforward\u001b[0;34m(self, input_, mem)\u001b[0m\n\u001b[1;32m    218\u001b[0m             )  # batch_size\n\u001b[1;32m    219\u001b[0m         \u001b[0;32melse\u001b[0m\u001b[0;34m:\u001b[0m\u001b[0;34m\u001b[0m\u001b[0;34m\u001b[0m\u001b[0m\n\u001b[0;32m--> 220\u001b[0;31m             \u001b[0mspk\u001b[0m \u001b[0;34m=\u001b[0m \u001b[0mself\u001b[0m\u001b[0;34m.\u001b[0m\u001b[0mfire\u001b[0m\u001b[0;34m(\u001b[0m\u001b[0mself\u001b[0m\u001b[0;34m.\u001b[0m\u001b[0mmem\u001b[0m\u001b[0;34m)\u001b[0m\u001b[0;34m\u001b[0m\u001b[0;34m\u001b[0m\u001b[0m\n\u001b[0m\u001b[1;32m    221\u001b[0m \u001b[0;34m\u001b[0m\u001b[0m\n\u001b[1;32m    222\u001b[0m         \u001b[0;32mif\u001b[0m \u001b[0;32mnot\u001b[0m \u001b[0mself\u001b[0m\u001b[0;34m.\u001b[0m\u001b[0mreset_delay\u001b[0m\u001b[0;34m:\u001b[0m\u001b[0;34m\u001b[0m\u001b[0;34m\u001b[0m\u001b[0m\n",
            "\u001b[0;32m/usr/local/lib/python3.11/dist-packages/snntorch/_neurons/neurons.py\u001b[0m in \u001b[0;36mfire\u001b[0;34m(self, mem)\u001b[0m\n\u001b[1;32m     78\u001b[0m             \u001b[0mmem\u001b[0m \u001b[0;34m=\u001b[0m \u001b[0mself\u001b[0m\u001b[0;34m.\u001b[0m\u001b[0mstate_quant\u001b[0m\u001b[0;34m(\u001b[0m\u001b[0mmem\u001b[0m\u001b[0;34m)\u001b[0m\u001b[0;34m\u001b[0m\u001b[0;34m\u001b[0m\u001b[0m\n\u001b[1;32m     79\u001b[0m \u001b[0;34m\u001b[0m\u001b[0m\n\u001b[0;32m---> 80\u001b[0;31m         \u001b[0mmem_shift\u001b[0m \u001b[0;34m=\u001b[0m \u001b[0mmem\u001b[0m \u001b[0;34m-\u001b[0m \u001b[0mself\u001b[0m\u001b[0;34m.\u001b[0m\u001b[0mthreshold\u001b[0m\u001b[0;34m\u001b[0m\u001b[0;34m\u001b[0m\u001b[0m\n\u001b[0m\u001b[1;32m     81\u001b[0m         \u001b[0mspk\u001b[0m \u001b[0;34m=\u001b[0m \u001b[0mself\u001b[0m\u001b[0;34m.\u001b[0m\u001b[0mspike_grad\u001b[0m\u001b[0;34m(\u001b[0m\u001b[0mmem_shift\u001b[0m\u001b[0;34m)\u001b[0m\u001b[0;34m\u001b[0m\u001b[0;34m\u001b[0m\u001b[0m\n\u001b[1;32m     82\u001b[0m \u001b[0;34m\u001b[0m\u001b[0m\n",
            "\u001b[0;32m/usr/local/lib/python3.11/dist-packages/torch/fx/traceback.py\u001b[0m in \u001b[0;36mformat_stack\u001b[0;34m()\u001b[0m\n\u001b[1;32m    173\u001b[0m     \u001b[0;32melse\u001b[0m\u001b[0;34m:\u001b[0m\u001b[0;34m\u001b[0m\u001b[0;34m\u001b[0m\u001b[0m\n\u001b[1;32m    174\u001b[0m         \u001b[0;31m# fallback to traceback.format_stack()\u001b[0m\u001b[0;34m\u001b[0m\u001b[0;34m\u001b[0m\u001b[0m\n\u001b[0;32m--> 175\u001b[0;31m         \u001b[0;32mreturn\u001b[0m \u001b[0mtraceback\u001b[0m\u001b[0;34m.\u001b[0m\u001b[0mformat_list\u001b[0m\u001b[0;34m(\u001b[0m\u001b[0mtraceback\u001b[0m\u001b[0;34m.\u001b[0m\u001b[0mextract_stack\u001b[0m\u001b[0;34m(\u001b[0m\u001b[0;34m)\u001b[0m\u001b[0;34m[\u001b[0m\u001b[0;34m:\u001b[0m\u001b[0;34m-\u001b[0m\u001b[0;36m1\u001b[0m\u001b[0;34m]\u001b[0m\u001b[0;34m)\u001b[0m\u001b[0;34m\u001b[0m\u001b[0;34m\u001b[0m\u001b[0m\n\u001b[0m\u001b[1;32m    176\u001b[0m \u001b[0;34m\u001b[0m\u001b[0m\n\u001b[1;32m    177\u001b[0m \u001b[0;34m\u001b[0m\u001b[0m\n",
            "\u001b[0;32m/usr/lib/python3.11/traceback.py\u001b[0m in \u001b[0;36mextract_stack\u001b[0;34m(f, limit)\u001b[0m\n\u001b[1;32m    226\u001b[0m     \u001b[0;32mif\u001b[0m \u001b[0mf\u001b[0m \u001b[0;32mis\u001b[0m \u001b[0;32mNone\u001b[0m\u001b[0;34m:\u001b[0m\u001b[0;34m\u001b[0m\u001b[0;34m\u001b[0m\u001b[0m\n\u001b[1;32m    227\u001b[0m         \u001b[0mf\u001b[0m \u001b[0;34m=\u001b[0m \u001b[0msys\u001b[0m\u001b[0;34m.\u001b[0m\u001b[0m_getframe\u001b[0m\u001b[0;34m(\u001b[0m\u001b[0;34m)\u001b[0m\u001b[0;34m.\u001b[0m\u001b[0mf_back\u001b[0m\u001b[0;34m\u001b[0m\u001b[0;34m\u001b[0m\u001b[0m\n\u001b[0;32m--> 228\u001b[0;31m     \u001b[0mstack\u001b[0m \u001b[0;34m=\u001b[0m \u001b[0mStackSummary\u001b[0m\u001b[0;34m.\u001b[0m\u001b[0mextract\u001b[0m\u001b[0;34m(\u001b[0m\u001b[0mwalk_stack\u001b[0m\u001b[0;34m(\u001b[0m\u001b[0mf\u001b[0m\u001b[0;34m)\u001b[0m\u001b[0;34m,\u001b[0m \u001b[0mlimit\u001b[0m\u001b[0;34m=\u001b[0m\u001b[0mlimit\u001b[0m\u001b[0;34m)\u001b[0m\u001b[0;34m\u001b[0m\u001b[0;34m\u001b[0m\u001b[0m\n\u001b[0m\u001b[1;32m    229\u001b[0m     \u001b[0mstack\u001b[0m\u001b[0;34m.\u001b[0m\u001b[0mreverse\u001b[0m\u001b[0;34m(\u001b[0m\u001b[0;34m)\u001b[0m\u001b[0;34m\u001b[0m\u001b[0;34m\u001b[0m\u001b[0m\n\u001b[1;32m    230\u001b[0m     \u001b[0;32mreturn\u001b[0m \u001b[0mstack\u001b[0m\u001b[0;34m\u001b[0m\u001b[0;34m\u001b[0m\u001b[0m\n",
            "\u001b[0;32m/usr/lib/python3.11/traceback.py\u001b[0m in \u001b[0;36mextract\u001b[0;34m(klass, frame_gen, limit, lookup_lines, capture_locals)\u001b[0m\n\u001b[1;32m    388\u001b[0m                 \u001b[0;32myield\u001b[0m \u001b[0mf\u001b[0m\u001b[0;34m,\u001b[0m \u001b[0;34m(\u001b[0m\u001b[0mlineno\u001b[0m\u001b[0;34m,\u001b[0m \u001b[0;32mNone\u001b[0m\u001b[0;34m,\u001b[0m \u001b[0;32mNone\u001b[0m\u001b[0;34m,\u001b[0m \u001b[0;32mNone\u001b[0m\u001b[0;34m)\u001b[0m\u001b[0;34m\u001b[0m\u001b[0;34m\u001b[0m\u001b[0m\n\u001b[1;32m    389\u001b[0m \u001b[0;34m\u001b[0m\u001b[0m\n\u001b[0;32m--> 390\u001b[0;31m         return klass._extract_from_extended_frame_gen(\n\u001b[0m\u001b[1;32m    391\u001b[0m             \u001b[0mextended_frame_gen\u001b[0m\u001b[0;34m(\u001b[0m\u001b[0;34m)\u001b[0m\u001b[0;34m,\u001b[0m \u001b[0mlimit\u001b[0m\u001b[0;34m=\u001b[0m\u001b[0mlimit\u001b[0m\u001b[0;34m,\u001b[0m \u001b[0mlookup_lines\u001b[0m\u001b[0;34m=\u001b[0m\u001b[0mlookup_lines\u001b[0m\u001b[0;34m,\u001b[0m\u001b[0;34m\u001b[0m\u001b[0;34m\u001b[0m\u001b[0m\n\u001b[1;32m    392\u001b[0m             capture_locals=capture_locals)\n",
            "\u001b[0;32m/usr/lib/python3.11/traceback.py\u001b[0m in \u001b[0;36m_extract_from_extended_frame_gen\u001b[0;34m(klass, frame_gen, limit, lookup_lines, capture_locals)\u001b[0m\n\u001b[1;32m    427\u001b[0m                 end_lineno=end_lineno, colno=colno, end_colno=end_colno))\n\u001b[1;32m    428\u001b[0m         \u001b[0;32mfor\u001b[0m \u001b[0mfilename\u001b[0m \u001b[0;32min\u001b[0m \u001b[0mfnames\u001b[0m\u001b[0;34m:\u001b[0m\u001b[0;34m\u001b[0m\u001b[0;34m\u001b[0m\u001b[0m\n\u001b[0;32m--> 429\u001b[0;31m             \u001b[0mlinecache\u001b[0m\u001b[0;34m.\u001b[0m\u001b[0mcheckcache\u001b[0m\u001b[0;34m(\u001b[0m\u001b[0mfilename\u001b[0m\u001b[0;34m)\u001b[0m\u001b[0;34m\u001b[0m\u001b[0;34m\u001b[0m\u001b[0m\n\u001b[0m\u001b[1;32m    430\u001b[0m         \u001b[0;31m# If immediate lookup was desired, trigger lookups now.\u001b[0m\u001b[0;34m\u001b[0m\u001b[0;34m\u001b[0m\u001b[0m\n\u001b[1;32m    431\u001b[0m         \u001b[0;32mif\u001b[0m \u001b[0mlookup_lines\u001b[0m\u001b[0;34m:\u001b[0m\u001b[0;34m\u001b[0m\u001b[0;34m\u001b[0m\u001b[0m\n",
            "\u001b[0;32m/usr/local/lib/python3.11/dist-packages/IPython/core/compilerop.py\u001b[0m in \u001b[0;36mcheck_linecache_ipython\u001b[0;34m(*args)\u001b[0m\n\u001b[1;32m    183\u001b[0m     \"\"\"\n\u001b[1;32m    184\u001b[0m     \u001b[0;31m# First call the original checkcache as intended\u001b[0m\u001b[0;34m\u001b[0m\u001b[0;34m\u001b[0m\u001b[0m\n\u001b[0;32m--> 185\u001b[0;31m     \u001b[0mlinecache\u001b[0m\u001b[0;34m.\u001b[0m\u001b[0m_checkcache_ori\u001b[0m\u001b[0;34m(\u001b[0m\u001b[0;34m*\u001b[0m\u001b[0margs\u001b[0m\u001b[0;34m)\u001b[0m\u001b[0;34m\u001b[0m\u001b[0;34m\u001b[0m\u001b[0m\n\u001b[0m\u001b[1;32m    186\u001b[0m     \u001b[0;31m# Then, update back the cache with our data, so that tracebacks related\u001b[0m\u001b[0;34m\u001b[0m\u001b[0;34m\u001b[0m\u001b[0m\n\u001b[1;32m    187\u001b[0m     \u001b[0;31m# to our compiled codes can be produced.\u001b[0m\u001b[0;34m\u001b[0m\u001b[0;34m\u001b[0m\u001b[0m\n",
            "\u001b[0;32m/usr/lib/python3.11/linecache.py\u001b[0m in \u001b[0;36mcheckcache\u001b[0;34m(filename)\u001b[0m\n\u001b[1;32m     70\u001b[0m             \u001b[0;32mcontinue\u001b[0m   \u001b[0;31m# no-op for files loaded via a __loader__\u001b[0m\u001b[0;34m\u001b[0m\u001b[0;34m\u001b[0m\u001b[0m\n\u001b[1;32m     71\u001b[0m         \u001b[0;32mtry\u001b[0m\u001b[0;34m:\u001b[0m\u001b[0;34m\u001b[0m\u001b[0;34m\u001b[0m\u001b[0m\n\u001b[0;32m---> 72\u001b[0;31m             \u001b[0mstat\u001b[0m \u001b[0;34m=\u001b[0m \u001b[0mos\u001b[0m\u001b[0;34m.\u001b[0m\u001b[0mstat\u001b[0m\u001b[0;34m(\u001b[0m\u001b[0mfullname\u001b[0m\u001b[0;34m)\u001b[0m\u001b[0;34m\u001b[0m\u001b[0;34m\u001b[0m\u001b[0m\n\u001b[0m\u001b[1;32m     73\u001b[0m         \u001b[0;32mexcept\u001b[0m \u001b[0mOSError\u001b[0m\u001b[0;34m:\u001b[0m\u001b[0;34m\u001b[0m\u001b[0;34m\u001b[0m\u001b[0m\n\u001b[1;32m     74\u001b[0m             \u001b[0mcache\u001b[0m\u001b[0;34m.\u001b[0m\u001b[0mpop\u001b[0m\u001b[0;34m(\u001b[0m\u001b[0mfilename\u001b[0m\u001b[0;34m,\u001b[0m \u001b[0;32mNone\u001b[0m\u001b[0;34m)\u001b[0m\u001b[0;34m\u001b[0m\u001b[0;34m\u001b[0m\u001b[0m\n",
            "\u001b[0;31mKeyboardInterrupt\u001b[0m: "
          ]
        }
      ],
      "source": [
        "import numpy as np\n",
        "import torch\n",
        "import torch.nn as nn\n",
        "import snntorch as snn\n",
        "from snntorch import surrogate\n",
        "import torch.optim.lr_scheduler as lr_scheduler\n",
        "\n",
        "# Generate Manifold Data\n",
        "def generate_manifold_data(num_samples=1000, num_neurons=100, alpha=3, D=1):\n",
        "    X = np.random.rand(num_samples, D).squeeze()\n",
        "    spike_times = np.zeros((num_samples, num_neurons))\n",
        "    for i in range(num_neurons):\n",
        "        theta = np.random.rand()\n",
        "        spike_times[:, i] = np.sin(2 * np.pi * (X + theta)) * alpha\n",
        "    spike_times = np.clip(spike_times, 0, 50)\n",
        "    return torch.tensor(spike_times, dtype=torch.float32)\n",
        "\n",
        "# Improved Encoding: Probability-based spike generation\n",
        "def convert_to_spike_trains(spike_times, num_time_steps=50):\n",
        "    num_samples, num_neurons = spike_times.shape\n",
        "    spike_trains = torch.zeros((num_samples, num_neurons, num_time_steps))\n",
        "    for t in range(num_time_steps):\n",
        "        spike_trains[:, :, t] = torch.exp(-((spike_times - t) ** 2) / 2).float()\n",
        "    return spike_trains\n",
        "\n",
        "# Generate training and testing data\n",
        "num_samples = 1000\n",
        "num_neurons = 100\n",
        "train_spikes = generate_manifold_data(num_samples=num_samples, num_neurons=num_neurons)\n",
        "test_spikes = generate_manifold_data(num_samples=200, num_neurons=num_neurons)\n",
        "\n",
        "train_spike_trains = convert_to_spike_trains(train_spikes)\n",
        "test_spike_trains = convert_to_spike_trains(test_spikes)\n",
        "\n",
        "train_labels = torch.randint(0, 10, (num_samples,))\n",
        "test_labels = torch.randint(0, 10, (200,))\n",
        "\n",
        "# Define Improved SNN Model\n",
        "class SNN(nn.Module):\n",
        "    def __init__(self, num_inputs=100, num_hidden=256, num_outputs=10, beta=0.9):\n",
        "        super(SNN, self).__init__()\n",
        "        self.fc1 = nn.Linear(num_inputs, num_hidden)\n",
        "        self.bn1 = nn.BatchNorm1d(num_hidden)\n",
        "        self.lif1 = snn.Leaky(beta=beta, learn_beta=True, threshold=0.9,\n",
        "                              spike_grad=surrogate.fast_sigmoid(slope=25))\n",
        "\n",
        "        self.fc2 = nn.Linear(num_hidden, num_hidden)\n",
        "        self.bn2 = nn.BatchNorm1d(num_hidden)\n",
        "        self.lif2 = snn.Leaky(beta=beta, learn_beta=True, threshold=0.9,\n",
        "                              spike_grad=surrogate.fast_sigmoid(slope=25))\n",
        "\n",
        "        self.fc3 = nn.Linear(num_hidden, num_outputs)\n",
        "        self.lif3 = snn.Leaky(beta=beta, learn_beta=True, threshold=0.9,\n",
        "                              spike_grad=surrogate.fast_sigmoid(slope=25))\n",
        "\n",
        "        self.dropout = nn.Dropout(0.2)  # Prevent overfitting\n",
        "\n",
        "        # Xavier Normal Initialization\n",
        "        for m in self.modules():\n",
        "            if isinstance(m, nn.Linear):\n",
        "                nn.init.xavier_normal_(m.weight)\n",
        "                nn.init.zeros_(m.bias)\n",
        "\n",
        "    def forward(self, x):\n",
        "        batch_size, num_neurons, time_steps = x.shape\n",
        "        x = x.permute(2, 0, 1)  # (time, batch, neurons)\n",
        "\n",
        "        mem1, mem2, mem3 = [torch.zeros(batch_size, layer.out_features, device=x.device)\n",
        "                             for layer in [self.fc1, self.fc2, self.fc3]]\n",
        "        spk3_rec = []\n",
        "\n",
        "        for t in range(time_steps):\n",
        "            spk1, mem1 = self.lif1(self.bn1(self.fc1(x[t])), mem1)\n",
        "            spk2, mem2 = self.lif2(self.bn2(self.fc2(spk1) + spk1), mem2)  # Residual Connection\n",
        "            spk2 = self.dropout(spk2)\n",
        "            spk3, mem3 = self.lif3(self.fc3(spk2), mem3)\n",
        "            spk3_rec.append(spk3)\n",
        "\n",
        "        spk3_rec = torch.stack(spk3_rec, dim=0).mean(0)  # Max-over-time readout\n",
        "        return spk3_rec\n",
        "\n",
        "# Instantiate Model\n",
        "model = SNN()\n",
        "criterion = nn.CrossEntropyLoss()\n",
        "optimizer = torch.optim.Adam(model.parameters(), lr=0.005)\n",
        "scheduler = lr_scheduler.ReduceLROnPlateau(optimizer, mode='min', factor=0.5, patience=5)\n",
        "\n",
        "# Data Loaders\n",
        "batch_size = 64\n",
        "train_loader = torch.utils.data.DataLoader(\n",
        "    list(zip(train_spike_trains, train_labels)), batch_size=batch_size, shuffle=True\n",
        ")\n",
        "test_loader = torch.utils.data.DataLoader(\n",
        "    list(zip(test_spike_trains, test_labels)), batch_size=batch_size, shuffle=False\n",
        ")\n",
        "\n",
        "# Training Loop\n",
        "num_epochs = 50\n",
        "torch.autograd.set_detect_anomaly(True)\n",
        "\n",
        "for epoch in range(num_epochs):\n",
        "    model.train()\n",
        "    running_loss = 0.0\n",
        "    for inputs, labels in train_loader:\n",
        "        optimizer.zero_grad()\n",
        "        outputs = model(inputs)\n",
        "        loss = criterion(outputs, labels)\n",
        "        loss.backward()\n",
        "        optimizer.step()\n",
        "        running_loss += loss.item()\n",
        "\n",
        "    avg_loss = running_loss / len(train_loader)\n",
        "    scheduler.step(avg_loss)  # Adjust learning rate dynamically\n",
        "    print(f\"Epoch [{epoch + 1}/{num_epochs}], Loss: {avg_loss:.4f}\")\n",
        "\n",
        "# Testing Loop\n",
        "model.eval()\n",
        "correct = 0\n",
        "total = 0\n",
        "with torch.no_grad():\n",
        "    for inputs, labels in test_loader:\n",
        "        outputs = model(inputs)\n",
        "        _, predicted = torch.max(outputs, 1)\n",
        "        total += labels.size(0)\n",
        "        correct += (predicted == labels).sum().item()\n",
        "\n",
        "accuracy = correct / total\n",
        "print(f\"Test Accuracy: {accuracy * 100:.2f}%\")\n"
      ]
    },
    {
      "cell_type": "markdown",
      "metadata": {
        "id": "p2Emht6KEh8x"
      },
      "source": [
        "## Spiking Heidelberg Digits (SHD) Data Set\n",
        "- Failing at reading dataset"
      ]
    },
    {
      "cell_type": "code",
      "execution_count": null,
      "metadata": {
        "colab": {
          "base_uri": "https://localhost:8080/"
        },
        "id": "CflcZ73wEtpw",
        "outputId": "945344e3-dfef-4722-8464-cf686a52c3aa"
      },
      "outputs": [
        {
          "name": "stdout",
          "output_type": "stream",
          "text": [
            "Requirement already satisfied: h5py in /usr/local/lib/python3.11/dist-packages (3.12.1)\n",
            "Requirement already satisfied: numpy>=1.19.3 in /usr/local/lib/python3.11/dist-packages (from h5py) (1.26.4)\n"
          ]
        }
      ],
      "source": [
        "! pip install h5py"
      ]
    },
    {
      "cell_type": "code",
      "execution_count": null,
      "metadata": {
        "id": "Ht1QW0gylv1W"
      },
      "outputs": [],
      "source": [
        "import torch\n",
        "import h5py\n",
        "import numpy as np\n",
        "import spikingjelly.activation_based as sj"
      ]
    },
    {
      "cell_type": "code",
      "execution_count": null,
      "metadata": {
        "colab": {
          "base_uri": "https://localhost:8080/"
        },
        "id": "F4pdh8rTmGkB",
        "outputId": "ff7a5921-741f-4cc7-8b79-2c339165d129"
      },
      "outputs": [
        {
          "name": "stdout",
          "output_type": "stream",
          "text": [
            "Downloaded shd_train.h5.gz\n",
            "Decompressed to /content/shd_train.h5\n",
            "Removed /content/shd_train.h5.gz\n",
            "Downloaded shd_test.h5.gz\n",
            "Decompressed to /content/shd_test.h5\n",
            "Removed /content/shd_test.h5.gz\n"
          ]
        }
      ],
      "source": [
        "import os\n",
        "import urllib.request\n",
        "import gzip\n",
        "import shutil\n",
        "\n",
        "# Define the base URL and filenames\n",
        "base_url = \"https://zenkelab.org/datasets\"\n",
        "files = [\"shd_train.h5.gz\", \"shd_test.h5.gz\"]\n",
        "\n",
        "# Function to download and decompress the dataset\n",
        "def download_and_decompress(filename):\n",
        "    url = f\"{base_url}/{filename}\"\n",
        "    gz_file_path = os.path.join(\"/content\", filename)\n",
        "    hdf5_file_path = gz_file_path[:-3]\n",
        "\n",
        "    # Download the compressed dataset\n",
        "    urllib.request.urlretrieve(url, gz_file_path)\n",
        "    print(f\"Downloaded {filename}\")\n",
        "\n",
        "    # Decompress the dataset\n",
        "    with gzip.open(gz_file_path, 'rb') as f_in:\n",
        "        with open(hdf5_file_path, 'wb') as f_out:\n",
        "            shutil.copyfileobj(f_in, f_out)\n",
        "    print(f\"Decompressed to {hdf5_file_path}\")\n",
        "\n",
        "    # Remove the compressed file\n",
        "    os.remove(gz_file_path)\n",
        "    print(f\"Removed {gz_file_path}\")\n",
        "\n",
        "# Download and decompress each file\n",
        "for file in files:\n",
        "    download_and_decompress(file)\n"
      ]
    },
    {
      "cell_type": "code",
      "execution_count": null,
      "metadata": {
        "colab": {
          "base_uri": "https://localhost:8080/"
        },
        "id": "Rb-VcsaGmuu2",
        "outputId": "aaa0d735-bd22-4cc1-93ed-ada9ff6e3e34"
      },
      "outputs": [
        {
          "name": "stdout",
          "output_type": "stream",
          "text": [
            "Available keys in dataset: ['extra', 'labels', 'spikes']\n",
            "Available keys in dataset: ['extra', 'labels', 'spikes']\n"
          ]
        }
      ],
      "source": [
        "def inspect_hdf5(file_path):\n",
        "    with h5py.File(file_path, 'r') as f:\n",
        "        print(\"Available keys in dataset:\", list(f.keys()))\n",
        "\n",
        "inspect_hdf5(\"/content/shd_train.h5\")\n",
        "inspect_hdf5(\"/content/shd_test.h5\")"
      ]
    },
    {
      "cell_type": "code",
      "execution_count": null,
      "metadata": {
        "colab": {
          "base_uri": "https://localhost:8080/"
        },
        "id": "Bkh5R_AblszJ",
        "outputId": "c02726a3-53e8-4022-9636-696c048810f3"
      },
      "outputs": [
        {
          "name": "stdout",
          "output_type": "stream",
          "text": [
            "<bound method MappingHDF5.keys of <HDF5 file \"shd_train.h5\" (mode r)>>\n",
            "<bound method MappingHDF5.keys of <HDF5 file \"shd_test.h5\" (mode r)>>\n"
          ]
        }
      ],
      "source": [
        "def load_shd_data(file_path):\n",
        "    with h5py.File(file_path, 'r') as f:\n",
        "        print(f.keys)\n",
        "        return 1,1\n",
        "        # labels = f['labels'][]  # Class labels\n",
        "        # spikes = f['spikes'][]  # Spike times\n",
        "        # return spikes, labels\n",
        "\n",
        "# Download SHD dataset from SpikingJelly\n",
        "train_data, train_labels = load_shd_data(\"shd_train.h5\")\n",
        "test_data, test_labels = load_shd_data(\"shd_test.h5\")"
      ]
    },
    {
      "cell_type": "code",
      "execution_count": null,
      "metadata": {
        "id": "1x5c4Ko1ExK4"
      },
      "outputs": [],
      "source": [
        "def convert_to_tensor(spike_data, labels, time_window=100):\n",
        "    num_samples = len(spike_data)\n",
        "    num_neurons = 700  # SHD input size\n",
        "    spike_tensor = torch.zeros((num_samples, num_neurons, time_window))\n",
        "\n",
        "    for i, spikes in enumerate(spike_data):\n",
        "        for neuron_id, spike_time in spikes:\n",
        "            if spike_time < time_window:\n",
        "                spike_tensor[i, neuron_id, int(spike_time)] = 1  # Set spike at correct time\n",
        "\n",
        "    return spike_tensor, torch.tensor(labels, dtype=torch.long)\n",
        "\n",
        "# Convert SHD data\n",
        "time_window = 100  # Simulation time steps\n",
        "train_spikes, train_labels = convert_to_tensor(train_data, train_labels, time_window)\n",
        "test_spikes, test_labels = convert_to_tensor(test_data, test_labels, time_window)"
      ]
    },
    {
      "cell_type": "code",
      "execution_count": null,
      "metadata": {
        "id": "qYt-BJXNoSzh"
      },
      "outputs": [],
      "source": [
        "class SNN(nn.Module):\n",
        "    def __init__(self, num_inputs=700, num_hidden=256, num_outputs=20):\n",
        "        super(SNN, self).__init__()\n",
        "        self.fc1 = nn.Linear(num_inputs, num_hidden)\n",
        "        self.lif1 = neuron.LIFNode(surrogate_function=surrogate.Sigmoid())\n",
        "        self.fc2 = nn.Linear(num_hidden, num_outputs)\n",
        "        self.lif2 = neuron.LIFNode(surrogate_function=surrogate.Sigmoid())\n",
        "\n",
        "    def forward(self, x):\n",
        "        batch_size, num_neurons, time_steps = x.shape\n",
        "        x = x.permute(2, 0, 1)  # (time, batch, neurons)\n",
        "        mem1 = torch.zeros(batch_size, 256, device=x.device)\n",
        "        mem2 = torch.zeros(batch_size, 20, device=x.device)\n",
        "\n",
        "        for t in range(time_steps):\n",
        "            mem1 = self.lif1(self.fc1(x[t]))\n",
        "            mem2 = self.lif2(self.fc2(mem1))\n",
        "\n",
        "        return mem2  # Output as final membrane potential\n",
        "\n",
        "# Initialize Model\n",
        "model = SNN()"
      ]
    },
    {
      "cell_type": "code",
      "execution_count": null,
      "metadata": {
        "id": "SfYiJzyioULT"
      },
      "outputs": [],
      "source": [
        "criterion = nn.CrossEntropyLoss()\n",
        "optimizer = torch.optim.Adam(model.parameters(), lr=0.001)"
      ]
    },
    {
      "cell_type": "code",
      "execution_count": null,
      "metadata": {
        "colab": {
          "base_uri": "https://localhost:8080/",
          "height": 207
        },
        "id": "G_6YoSgdoV33",
        "outputId": "e4f7f4be-d3b5-464a-ac6d-f845c733e528"
      },
      "outputs": [
        {
          "ename": "NameError",
          "evalue": "name 'train_spikes' is not defined",
          "output_type": "error",
          "traceback": [
            "\u001b[0;31m---------------------------------------------------------------------------\u001b[0m",
            "\u001b[0;31mNameError\u001b[0m                                 Traceback (most recent call last)",
            "\u001b[0;32m<ipython-input-40-38b304f7d44b>\u001b[0m in \u001b[0;36m<cell line: 0>\u001b[0;34m()\u001b[0m\n\u001b[1;32m      3\u001b[0m \u001b[0;34m\u001b[0m\u001b[0m\n\u001b[1;32m      4\u001b[0m train_loader = torch.utils.data.DataLoader(\n\u001b[0;32m----> 5\u001b[0;31m     \u001b[0mlist\u001b[0m\u001b[0;34m(\u001b[0m\u001b[0mzip\u001b[0m\u001b[0;34m(\u001b[0m\u001b[0mtrain_spikes\u001b[0m\u001b[0;34m,\u001b[0m \u001b[0mtrain_labels\u001b[0m\u001b[0;34m)\u001b[0m\u001b[0;34m)\u001b[0m\u001b[0;34m,\u001b[0m \u001b[0mbatch_size\u001b[0m\u001b[0;34m=\u001b[0m\u001b[0mbatch_size\u001b[0m\u001b[0;34m,\u001b[0m \u001b[0mshuffle\u001b[0m\u001b[0;34m=\u001b[0m\u001b[0;32mTrue\u001b[0m\u001b[0;34m\u001b[0m\u001b[0;34m\u001b[0m\u001b[0m\n\u001b[0m\u001b[1;32m      6\u001b[0m )\n\u001b[1;32m      7\u001b[0m \u001b[0;34m\u001b[0m\u001b[0m\n",
            "\u001b[0;31mNameError\u001b[0m: name 'train_spikes' is not defined"
          ]
        }
      ],
      "source": [
        "num_epochs = 10\n",
        "batch_size = 64\n",
        "\n",
        "train_loader = torch.utils.data.DataLoader(\n",
        "    list(zip(train_spikes, train_labels)), batch_size=batch_size, shuffle=True\n",
        ")\n",
        "\n",
        "test_loader = torch.utils.data.DataLoader(\n",
        "    list(zip(test_spikes, test_labels)), batch_size=batch_size, shuffle=False\n",
        ")\n",
        "\n",
        "for epoch in range(num_epochs):\n",
        "    running_loss = 0.0\n",
        "    for inputs, labels in train_loader:\n",
        "        optimizer.zero_grad()\n",
        "        functional.reset_net(model)  # Reset neuron states\n",
        "\n",
        "        outputs = model(inputs)\n",
        "        loss = criterion(outputs, labels)\n",
        "        loss.backward()\n",
        "        optimizer.step()\n",
        "\n",
        "        running_loss += loss.item()\n",
        "\n",
        "    print(f\"Epoch {epoch+1}, Loss: {running_loss/len(train_loader)}\")"
      ]
    },
    {
      "cell_type": "code",
      "execution_count": null,
      "metadata": {
        "id": "XV2IwY-uoXuw"
      },
      "outputs": [],
      "source": [
        "correct = 0\n",
        "total = 0\n",
        "\n",
        "with torch.no_grad():\n",
        "    for inputs, labels in test_loader:\n",
        "        functional.reset_net(model)  # Reset states\n",
        "\n",
        "        outputs = model(inputs)\n",
        "        _, predicted = torch.max(outputs, 1)\n",
        "        total += labels.size(0)\n",
        "        correct += (predicted == labels).sum().item()\n",
        "\n",
        "accuracy = correct / total\n",
        "print(f\"Test Accuracy: {accuracy * 100:.2f}%\")"
      ]
    }
  ],
  "metadata": {
    "colab": {
      "collapsed_sections": [
        "M5xBtmPhE60p",
        "uqxoFyEr83Tb",
        "j9zVbkRR9WG1",
        "p2Emht6KEh8x"
      ],
      "provenance": [],
      "authorship_tag": "ABX9TyMf/ketF7F7XyAmdOszCYcH",
      "include_colab_link": true
    },
    "kernelspec": {
      "display_name": "Python 3",
      "name": "python3"
    },
    "language_info": {
      "name": "python"
    }
  },
  "nbformat": 4,
  "nbformat_minor": 0
}