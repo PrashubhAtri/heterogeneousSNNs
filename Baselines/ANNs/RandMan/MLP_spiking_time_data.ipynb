{
 "cells": [
  {
   "cell_type": "code",
   "execution_count": 9,
   "metadata": {},
   "outputs": [],
   "source": [
    "import numpy as np\n",
    "import pandas as pd\n",
    "import torch\n",
    "import torch.nn as nn\n",
    "import torch.optim as optim\n",
    "import matplotlib.pyplot as plt\n",
    "from torch.utils.data import DataLoader, TensorDataset, random_split\n",
    "\n",
    "# ========== 1. read data ==========\n",
    "df = pd.read_csv(\"spiking_time_dataset.csv\")\n",
    "\n",
    "# Extract features and labels\n",
    "X = df.iloc[:, 1:].values  # Exclude the first column (labels)\n",
    "y = df.iloc[:, 0].values   # Labels\n",
    "\n",
    "# Convert to PyTorch tensors\n",
    "X_tensor = torch.tensor(X, dtype=torch.float32)\n",
    "y_tensor = torch.tensor(y, dtype=torch.long)  # Long for classification"
   ]
  },
  {
   "cell_type": "code",
   "execution_count": 10,
   "metadata": {},
   "outputs": [],
   "source": [
    "# ========== 2. split dataset (train 1600, val 200, test 200) ==========\n",
    "train_size = 1600\n",
    "val_size = 200\n",
    "test_size = 200\n",
    "\n",
    "train_data, val_data, test_data = random_split(\n",
    "    TensorDataset(X_tensor, y_tensor), [train_size, val_size, test_size]\n",
    ")"
   ]
  },
  {
   "cell_type": "code",
   "execution_count": 11,
   "metadata": {},
   "outputs": [],
   "source": [
    "# ========== 3. DataLoader ==========\n",
    "batch_size = 32\n",
    "train_loader = DataLoader(train_data, batch_size=batch_size, shuffle=True)\n",
    "val_loader = DataLoader(val_data, batch_size=batch_size, shuffle=False)\n",
    "test_loader = DataLoader(test_data, batch_size=batch_size, shuffle=False)"
   ]
  },
  {
   "cell_type": "code",
   "execution_count": 13,
   "metadata": {},
   "outputs": [],
   "source": [
    "# ========== 4. MLP model ==========\n",
    "class MLPClassifier(nn.Module):\n",
    "    def __init__(self, input_dim, hidden_dim=32, output_dim=2):\n",
    "        super(MLPClassifier, self).__init__()\n",
    "        self.fc1 = nn.Linear(input_dim, hidden_dim)\n",
    "        self.relu1 = nn.ReLU()\n",
    "        # self.fc2 = nn.Linear(hidden_dim, hidden_dim)\n",
    "        # self.relu2 = nn.ReLU()\n",
    "        self.fc3 = nn.Linear(hidden_dim, output_dim)\n",
    "\n",
    "    def forward(self, x):\n",
    "        x = x.view(x.shape[0], -1)  # input shall be (batch_size, 30)\n",
    "        x = self.fc1(x)\n",
    "        x = self.relu1(x)\n",
    "        # x = self.fc2(x)\n",
    "        # x = self.relu2(x)\n",
    "        x = self.fc3(x)\n",
    "        return x\n",
    "\n",
    "# input size = 30\n",
    "input_dim = X_tensor.shape[1]\n",
    "\n",
    "# initialize model\n",
    "model = MLPClassifier(input_dim=input_dim)\n",
    "criterion = nn.CrossEntropyLoss()\n",
    "optimizer = optim.Adam(model.parameters(), lr=0.001)\n"
   ]
  },
  {
   "cell_type": "code",
   "execution_count": 14,
   "metadata": {},
   "outputs": [
    {
     "name": "stdout",
     "output_type": "stream",
     "text": [
      "Epoch 1/50 - Train Loss: 1.5367,           Train Acc: 0.7450 | Val Loss: 0.0927,            Val Acc: 0.9750\n",
      "Epoch 2/50 - Train Loss: 0.0267,           Train Acc: 0.9975 | Val Loss: 0.0127,            Val Acc: 1.0000\n",
      "Epoch 3/50 - Train Loss: 0.0091,           Train Acc: 1.0000 | Val Loss: 0.0082,            Val Acc: 1.0000\n",
      "Epoch 4/50 - Train Loss: 0.0062,           Train Acc: 1.0000 | Val Loss: 0.0059,            Val Acc: 1.0000\n",
      "Epoch 5/50 - Train Loss: 0.0046,           Train Acc: 1.0000 | Val Loss: 0.0044,            Val Acc: 1.0000\n",
      "Epoch 6/50 - Train Loss: 0.0036,           Train Acc: 1.0000 | Val Loss: 0.0034,            Val Acc: 1.0000\n",
      "Epoch 7/50 - Train Loss: 0.0029,           Train Acc: 1.0000 | Val Loss: 0.0028,            Val Acc: 1.0000\n",
      "Epoch 8/50 - Train Loss: 0.0024,           Train Acc: 1.0000 | Val Loss: 0.0024,            Val Acc: 1.0000\n",
      "Epoch 9/50 - Train Loss: 0.0020,           Train Acc: 1.0000 | Val Loss: 0.0021,            Val Acc: 1.0000\n",
      "Epoch 10/50 - Train Loss: 0.0017,           Train Acc: 1.0000 | Val Loss: 0.0018,            Val Acc: 1.0000\n",
      "Epoch 11/50 - Train Loss: 0.0015,           Train Acc: 1.0000 | Val Loss: 0.0016,            Val Acc: 1.0000\n",
      "Epoch 12/50 - Train Loss: 0.0013,           Train Acc: 1.0000 | Val Loss: 0.0014,            Val Acc: 1.0000\n",
      "Epoch 13/50 - Train Loss: 0.0012,           Train Acc: 1.0000 | Val Loss: 0.0013,            Val Acc: 1.0000\n",
      "Epoch 14/50 - Train Loss: 0.0011,           Train Acc: 1.0000 | Val Loss: 0.0011,            Val Acc: 1.0000\n",
      "Epoch 15/50 - Train Loss: 0.0010,           Train Acc: 1.0000 | Val Loss: 0.0010,            Val Acc: 1.0000\n",
      "Epoch 16/50 - Train Loss: 0.0009,           Train Acc: 1.0000 | Val Loss: 0.0009,            Val Acc: 1.0000\n",
      "Epoch 17/50 - Train Loss: 0.0008,           Train Acc: 1.0000 | Val Loss: 0.0008,            Val Acc: 1.0000\n",
      "Epoch 18/50 - Train Loss: 0.0007,           Train Acc: 1.0000 | Val Loss: 0.0008,            Val Acc: 1.0000\n",
      "Epoch 19/50 - Train Loss: 0.0007,           Train Acc: 1.0000 | Val Loss: 0.0007,            Val Acc: 1.0000\n",
      "Epoch 20/50 - Train Loss: 0.0006,           Train Acc: 1.0000 | Val Loss: 0.0007,            Val Acc: 1.0000\n",
      "Epoch 21/50 - Train Loss: 0.0006,           Train Acc: 1.0000 | Val Loss: 0.0006,            Val Acc: 1.0000\n",
      "Epoch 22/50 - Train Loss: 0.0005,           Train Acc: 1.0000 | Val Loss: 0.0006,            Val Acc: 1.0000\n",
      "Epoch 23/50 - Train Loss: 0.0005,           Train Acc: 1.0000 | Val Loss: 0.0005,            Val Acc: 1.0000\n",
      "Epoch 24/50 - Train Loss: 0.0004,           Train Acc: 1.0000 | Val Loss: 0.0005,            Val Acc: 1.0000\n",
      "Epoch 25/50 - Train Loss: 0.0004,           Train Acc: 1.0000 | Val Loss: 0.0005,            Val Acc: 1.0000\n",
      "Epoch 26/50 - Train Loss: 0.0004,           Train Acc: 1.0000 | Val Loss: 0.0004,            Val Acc: 1.0000\n",
      "Epoch 27/50 - Train Loss: 0.0004,           Train Acc: 1.0000 | Val Loss: 0.0004,            Val Acc: 1.0000\n",
      "Epoch 28/50 - Train Loss: 0.0003,           Train Acc: 1.0000 | Val Loss: 0.0004,            Val Acc: 1.0000\n",
      "Epoch 29/50 - Train Loss: 0.0003,           Train Acc: 1.0000 | Val Loss: 0.0004,            Val Acc: 1.0000\n",
      "Epoch 30/50 - Train Loss: 0.0003,           Train Acc: 1.0000 | Val Loss: 0.0003,            Val Acc: 1.0000\n",
      "Epoch 31/50 - Train Loss: 0.0003,           Train Acc: 1.0000 | Val Loss: 0.0003,            Val Acc: 1.0000\n",
      "Epoch 32/50 - Train Loss: 0.0003,           Train Acc: 1.0000 | Val Loss: 0.0003,            Val Acc: 1.0000\n",
      "Epoch 33/50 - Train Loss: 0.0002,           Train Acc: 1.0000 | Val Loss: 0.0003,            Val Acc: 1.0000\n",
      "Epoch 34/50 - Train Loss: 0.0002,           Train Acc: 1.0000 | Val Loss: 0.0003,            Val Acc: 1.0000\n",
      "Epoch 35/50 - Train Loss: 0.0002,           Train Acc: 1.0000 | Val Loss: 0.0003,            Val Acc: 1.0000\n",
      "Epoch 36/50 - Train Loss: 0.0002,           Train Acc: 1.0000 | Val Loss: 0.0002,            Val Acc: 1.0000\n",
      "Epoch 37/50 - Train Loss: 0.0002,           Train Acc: 1.0000 | Val Loss: 0.0002,            Val Acc: 1.0000\n",
      "Epoch 38/50 - Train Loss: 0.0002,           Train Acc: 1.0000 | Val Loss: 0.0002,            Val Acc: 1.0000\n",
      "Epoch 39/50 - Train Loss: 0.0002,           Train Acc: 1.0000 | Val Loss: 0.0002,            Val Acc: 1.0000\n",
      "Epoch 40/50 - Train Loss: 0.0002,           Train Acc: 1.0000 | Val Loss: 0.0002,            Val Acc: 1.0000\n",
      "Epoch 41/50 - Train Loss: 0.0002,           Train Acc: 1.0000 | Val Loss: 0.0002,            Val Acc: 1.0000\n",
      "Epoch 42/50 - Train Loss: 0.0002,           Train Acc: 1.0000 | Val Loss: 0.0002,            Val Acc: 1.0000\n",
      "Epoch 43/50 - Train Loss: 0.0001,           Train Acc: 1.0000 | Val Loss: 0.0002,            Val Acc: 1.0000\n",
      "Epoch 44/50 - Train Loss: 0.0001,           Train Acc: 1.0000 | Val Loss: 0.0002,            Val Acc: 1.0000\n",
      "Epoch 45/50 - Train Loss: 0.0001,           Train Acc: 1.0000 | Val Loss: 0.0002,            Val Acc: 1.0000\n",
      "Epoch 46/50 - Train Loss: 0.0001,           Train Acc: 1.0000 | Val Loss: 0.0001,            Val Acc: 1.0000\n",
      "Epoch 47/50 - Train Loss: 0.0001,           Train Acc: 1.0000 | Val Loss: 0.0001,            Val Acc: 1.0000\n",
      "Epoch 48/50 - Train Loss: 0.0001,           Train Acc: 1.0000 | Val Loss: 0.0001,            Val Acc: 1.0000\n",
      "Epoch 49/50 - Train Loss: 0.0001,           Train Acc: 1.0000 | Val Loss: 0.0001,            Val Acc: 1.0000\n",
      "Epoch 50/50 - Train Loss: 0.0001,           Train Acc: 1.0000 | Val Loss: 0.0001,            Val Acc: 1.0000\n"
     ]
    }
   ],
   "source": [
    "# ========== 5. train MLP ==========\n",
    "num_epochs = 50\n",
    "train_losses, val_losses = [], []\n",
    "train_accs, val_accs = [], []\n",
    "\n",
    "for epoch in range(num_epochs):\n",
    "    model.train()\n",
    "    train_loss, correct, total = 0, 0, 0\n",
    "    \n",
    "    for batch_x, batch_y in train_loader:\n",
    "        optimizer.zero_grad()\n",
    "        outputs = model(batch_x)\n",
    "        loss = criterion(outputs, batch_y)\n",
    "        loss.backward()\n",
    "        optimizer.step()\n",
    "        \n",
    "        train_loss += loss.item()\n",
    "        _, predicted = outputs.max(1)\n",
    "        total += batch_y.size(0)\n",
    "        correct += predicted.eq(batch_y).sum().item()\n",
    "    \n",
    "    train_losses.append(train_loss / len(train_loader))\n",
    "    train_accs.append(correct / total)\n",
    "\n",
    "    # validation\n",
    "    model.eval()\n",
    "    val_loss, correct, total = 0, 0, 0\n",
    "    with torch.no_grad():\n",
    "        for batch_x, batch_y in val_loader:\n",
    "            outputs = model(batch_x)\n",
    "            loss = criterion(outputs, batch_y)\n",
    "            val_loss += loss.item()\n",
    "            _, predicted = outputs.max(1)\n",
    "            total += batch_y.size(0)\n",
    "            correct += predicted.eq(batch_y).sum().item()\n",
    "    \n",
    "    val_losses.append(val_loss / len(val_loader))\n",
    "    val_accs.append(correct / total)\n",
    "    \n",
    "    print(f\"Epoch {epoch+1}/{num_epochs} - Train Loss: {train_losses[-1]:.4f},\\\n",
    "           Train Acc: {train_accs[-1]:.4f} | Val Loss: {val_losses[-1]:.4f},\\\n",
    "            Val Acc: {val_accs[-1]:.4f}\")"
   ]
  },
  {
   "cell_type": "code",
   "execution_count": 15,
   "metadata": {},
   "outputs": [
    {
     "name": "stdout",
     "output_type": "stream",
     "text": [
      "Test Accuracy: 1.0000\n",
      "Test MSE: 0.0000\n",
      "Test R² Score: 1.0000\n"
     ]
    }
   ],
   "source": [
    "# ========== 6. test ==========\n",
    "from sklearn.metrics import accuracy_score, mean_squared_error, r2_score\n",
    "\n",
    "model.eval()\n",
    "y_true, y_pred = [], []\n",
    "\n",
    "with torch.no_grad():\n",
    "    for batch_x, batch_y in test_loader:\n",
    "        outputs = model(batch_x)\n",
    "        _, predicted = outputs.max(1)\n",
    "        y_true.extend(batch_y.tolist())\n",
    "        y_pred.extend(predicted.tolist())\n",
    "\n",
    "# R², MSE, Accuracy\n",
    "accuracy = accuracy_score(y_true, y_pred)\n",
    "mse = mean_squared_error(y_true, y_pred)\n",
    "r2 = r2_score(y_true, y_pred)\n",
    "\n",
    "print(f\"Test Accuracy: {accuracy:.4f}\")\n",
    "print(f\"Test MSE: {mse:.4f}\")\n",
    "print(f\"Test R² Score: {r2:.4f}\")"
   ]
  },
  {
   "cell_type": "code",
   "execution_count": 16,
   "metadata": {},
   "outputs": [
    {
     "data": {
      "image/png": "[encoded data removed]",
      "text/plain": [
       "<Figure size 1200x400 with 2 Axes>"
      ]
     },
     "metadata": {},
     "output_type": "display_data"
    }
   ],
   "source": [
    "# ========== 7. train visualization ==========\n",
    "plt.figure(figsize=(12, 4))\n",
    "plt.subplot(1, 2, 1)\n",
    "plt.plot(train_losses, label='Train Loss')\n",
    "plt.plot(val_losses, label='Val Loss')\n",
    "plt.xlabel('Epoch')\n",
    "plt.ylabel('Loss')\n",
    "plt.title('Training & Validation Loss')\n",
    "plt.legend()\n",
    "\n",
    "plt.subplot(1, 2, 2)\n",
    "plt.plot(train_accs, label='Train Acc')\n",
    "plt.plot(val_accs, label='Val Acc')\n",
    "plt.xlabel('Epoch')\n",
    "plt.ylabel('Accuracy')\n",
    "plt.title('Training & Validation Accuracy')\n",
    "plt.legend()\n",
    "\n",
    "plt.show()"
   ]
  }
 ],
 "metadata": {
  "kernelspec": {
   "display_name": "DL",
   "language": "python",
   "name": "python3"
  },
  "language_info": {
   "codemirror_mode": {
    "name": "ipython",
    "version": 3
   },
   "file_extension": ".py",
   "mimetype": "text/x-python",
   "name": "python",
   "nbconvert_exporter": "python",
   "pygments_lexer": "ipython3",
   "version": "3.9.17"
  }
 },
 "nbformat": 4,
 "nbformat_minor": 2
}
