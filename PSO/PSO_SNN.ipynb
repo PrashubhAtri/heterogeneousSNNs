{
  "cells": [
    {
      "cell_type": "markdown",
      "metadata": {
        "id": "view-in-github",
        "colab_type": "text"
      },
      "source": [
        "<a href=\"https://colab.research.google.com/github/PrashubhAtri/heterogeneousSNNs/blob/main/Baselines/SNNs/PSO/PSO_SNN.ipynb\" target=\"_parent\"><img src=\"https://colab.research.google.com/assets/colab-badge.svg\" alt=\"Open In Colab\"/></a>"
      ]
    },
    {
      "cell_type": "code",
      "execution_count": 1,
      "metadata": {
        "colab": {
          "base_uri": "https://localhost:8080/"
        },
        "id": "TxR1B4hnWgAt",
        "outputId": "8671ff6e-c238-4c0b-b98f-dfffbd09b1d5"
      },
      "outputs": [
        {
          "output_type": "stream",
          "name": "stdout",
          "text": [
            "Collecting snntorch\n",
            "  Downloading snntorch-0.9.4-py2.py3-none-any.whl.metadata (15 kB)\n",
            "Requirement already satisfied: wandb in /usr/local/lib/python3.11/dist-packages (0.19.9)\n",
            "Requirement already satisfied: click!=8.0.0,>=7.1 in /usr/local/lib/python3.11/dist-packages (from wandb) (8.1.8)\n",
            "Requirement already satisfied: docker-pycreds>=0.4.0 in /usr/local/lib/python3.11/dist-packages (from wandb) (0.4.0)\n",
            "Requirement already satisfied: gitpython!=3.1.29,>=1.0.0 in /usr/local/lib/python3.11/dist-packages (from wandb) (3.1.44)\n",
            "Requirement already satisfied: platformdirs in /usr/local/lib/python3.11/dist-packages (from wandb) (4.3.7)\n",
            "Requirement already satisfied: protobuf!=4.21.0,!=5.28.0,<6,>=3.19.0 in /usr/local/lib/python3.11/dist-packages (from wandb) (5.29.4)\n",
            "Requirement already satisfied: psutil>=5.0.0 in /usr/local/lib/python3.11/dist-packages (from wandb) (5.9.5)\n",
            "Requirement already satisfied: pydantic<3 in /usr/local/lib/python3.11/dist-packages (from wandb) (2.11.3)\n",
            "Requirement already satisfied: pyyaml in /usr/local/lib/python3.11/dist-packages (from wandb) (6.0.2)\n",
            "Requirement already satisfied: requests<3,>=2.0.0 in /usr/local/lib/python3.11/dist-packages (from wandb) (2.32.3)\n",
            "Requirement already satisfied: sentry-sdk>=2.0.0 in /usr/local/lib/python3.11/dist-packages (from wandb) (2.26.1)\n",
            "Requirement already satisfied: setproctitle in /usr/local/lib/python3.11/dist-packages (from wandb) (1.3.5)\n",
            "Requirement already satisfied: setuptools in /usr/local/lib/python3.11/dist-packages (from wandb) (75.2.0)\n",
            "Requirement already satisfied: typing-extensions<5,>=4.4 in /usr/local/lib/python3.11/dist-packages (from wandb) (4.13.2)\n",
            "Requirement already satisfied: six>=1.4.0 in /usr/local/lib/python3.11/dist-packages (from docker-pycreds>=0.4.0->wandb) (1.17.0)\n",
            "Requirement already satisfied: gitdb<5,>=4.0.1 in /usr/local/lib/python3.11/dist-packages (from gitpython!=3.1.29,>=1.0.0->wandb) (4.0.12)\n",
            "Requirement already satisfied: annotated-types>=0.6.0 in /usr/local/lib/python3.11/dist-packages (from pydantic<3->wandb) (0.7.0)\n",
            "Requirement already satisfied: pydantic-core==2.33.1 in /usr/local/lib/python3.11/dist-packages (from pydantic<3->wandb) (2.33.1)\n",
            "Requirement already satisfied: typing-inspection>=0.4.0 in /usr/local/lib/python3.11/dist-packages (from pydantic<3->wandb) (0.4.0)\n",
            "Requirement already satisfied: charset-normalizer<4,>=2 in /usr/local/lib/python3.11/dist-packages (from requests<3,>=2.0.0->wandb) (3.4.1)\n",
            "Requirement already satisfied: idna<4,>=2.5 in /usr/local/lib/python3.11/dist-packages (from requests<3,>=2.0.0->wandb) (3.10)\n",
            "Requirement already satisfied: urllib3<3,>=1.21.1 in /usr/local/lib/python3.11/dist-packages (from requests<3,>=2.0.0->wandb) (2.3.0)\n",
            "Requirement already satisfied: certifi>=2017.4.17 in /usr/local/lib/python3.11/dist-packages (from requests<3,>=2.0.0->wandb) (2025.1.31)\n",
            "Requirement already satisfied: smmap<6,>=3.0.1 in /usr/local/lib/python3.11/dist-packages (from gitdb<5,>=4.0.1->gitpython!=3.1.29,>=1.0.0->wandb) (5.0.2)\n",
            "Downloading snntorch-0.9.4-py2.py3-none-any.whl (125 kB)\n",
            "\u001b[2K   \u001b[90m━━━━━━━━━━━━━━━━━━━━━━━━━━━━━━━━━━━━━━━━\u001b[0m \u001b[32m125.6/125.6 kB\u001b[0m \u001b[31m2.6 MB/s\u001b[0m eta \u001b[36m0:00:00\u001b[0m\n",
            "\u001b[?25hInstalling collected packages: snntorch\n",
            "Successfully installed snntorch-0.9.4\n"
          ]
        }
      ],
      "source": [
        "! pip install snntorch wandb"
      ]
    },
    {
      "cell_type": "code",
      "execution_count": 2,
      "metadata": {
        "colab": {
          "base_uri": "https://localhost:8080/"
        },
        "id": "COs_AU2bbVFP",
        "outputId": "3697b261-2188-473f-aef6-3b843409583a"
      },
      "outputs": [
        {
          "output_type": "stream",
          "name": "stdout",
          "text": [
            "Cloning into 'randman'...\n",
            "remote: Enumerating objects: 104, done.\u001b[K\n",
            "remote: Counting objects: 100% (45/45), done.\u001b[K\n",
            "remote: Compressing objects: 100% (35/35), done.\u001b[K\n",
            "remote: Total 104 (delta 16), reused 34 (delta 8), pack-reused 59 (from 1)\u001b[K\n",
            "Receiving objects: 100% (104/104), 683.31 KiB | 5.26 MiB/s, done.\n",
            "Resolving deltas: 100% (31/31), done.\n"
          ]
        }
      ],
      "source": [
        "!git clone https://github.com/fzenke/randman"
      ]
    },
    {
      "cell_type": "code",
      "execution_count": 3,
      "metadata": {
        "id": "cQ7AjswvdNAV"
      },
      "outputs": [],
      "source": [
        "import sys\n",
        "sys.path.append('/content/randman')"
      ]
    },
    {
      "cell_type": "code",
      "execution_count": 4,
      "metadata": {
        "id": "NTn9_PTdWkUt"
      },
      "outputs": [],
      "source": [
        "import numpy as np\n",
        "import torch\n",
        "import torch.nn as nn\n",
        "import snntorch as snn\n",
        "from snntorch import surrogate\n",
        "import torch.optim.lr_scheduler as lr_scheduler\n",
        "import pandas as pd\n",
        "import randman\n",
        "from randman import Randman\n",
        "from torch.utils.data import TensorDataset, DataLoader\n",
        "from sklearn.model_selection import train_test_split"
      ]
    },
    {
      "cell_type": "code",
      "execution_count": 5,
      "metadata": {
        "id": "UNLAszk4dYWW"
      },
      "outputs": [],
      "source": [
        "device = torch.device(\"cuda\") if torch.cuda.is_available() else torch.device(\"cpu\")"
      ]
    },
    {
      "cell_type": "code",
      "execution_count": 6,
      "metadata": {
        "id": "hr_J65_vaDZl"
      },
      "outputs": [],
      "source": [
        "# Constants for data generation\n",
        "# input features\n",
        "nb_inputs  = 50\n",
        "# hidden_states\n",
        "nb_hidden  = 50\n",
        "# output data classes\n",
        "nb_outputs = 2\n",
        "# time stamps in data\n",
        "nb_steps  = 100\n",
        "# no of samples\n",
        "n_samples = 1000\n",
        "\n",
        "time_step = 1e-3\n",
        "batch_size = 32\n",
        "\n",
        "# SEED for model randomness\n",
        "SEED = 42"
      ]
    },
    {
      "cell_type": "code",
      "execution_count": 7,
      "metadata": {
        "id": "KG0Rc_djW3__"
      },
      "outputs": [],
      "source": [
        "def standardize(x,eps=1e-7):\n",
        "    # x's (which is actually y in the following code) shape will be [samples, units]\n",
        "    # Therefore, 0-axis shows that the author standardize across all samples for each units\n",
        "    mi,_ = x.min(0)\n",
        "    ma,_ = x.max(0)\n",
        "    return (x-mi)/(ma-mi+eps)"
      ]
    },
    {
      "cell_type": "code",
      "execution_count": 8,
      "metadata": {
        "id": "fgM4VZv6W_dI"
      },
      "outputs": [],
      "source": [
        "def make_spiking_dataset(nb_classes=10, nb_units=100, nb_steps=100, step_frac=1.0, dim_manifold=2, nb_spikes=1, nb_samples=1000, alpha=2.0, shuffle=True, classification=True, seed=None):\n",
        "    \"\"\" Generates event-based generalized spiking randman classification/regression dataset.\n",
        "    In this dataset each unit fires a fixed number of spikes. So ratebased or spike count based decoding won't work.\n",
        "    All the information is stored in the relative timing between spikes.\n",
        "    For regression datasets the intrinsic manifold coordinates are returned for each target.\n",
        "    Args:\n",
        "        nb_classes: The number of classes to generate\n",
        "        nb_units: The number of units to assume\n",
        "        nb_steps: The number of time steps to assume\n",
        "        step_frac: Fraction of time steps from beginning of each to contain spikes (default 1.0)\n",
        "        nb_spikes: The number of spikes per unit\n",
        "        nb_samples: Number of samples from each manifold per class\n",
        "        alpha: Randman smoothness parameter\n",
        "        shuffe: Whether to shuffle the dataset\n",
        "        classification: Whether to generate a classification (default) or regression dataset\n",
        "        seed: The random seed (default: None)\n",
        "    Returns:\n",
        "        A tuple of data,labels. The data is structured as numpy array\n",
        "        (sample x event x 2 ) where the last dimension contains\n",
        "        the relative [0,1] (time,unit) coordinates and labels.\n",
        "    \"\"\"\n",
        "\n",
        "    data = []\n",
        "    labels = []\n",
        "    targets = []\n",
        "\n",
        "    if SEED is not None:\n",
        "        np.random.seed(SEED)\n",
        "\n",
        "    max_value = np.iinfo(int).max\n",
        "    randman_seeds = np.random.randint(max_value, size=(nb_classes,nb_spikes) )\n",
        "\n",
        "    for k in range(nb_classes):\n",
        "        x = np.random.rand(nb_samples,dim_manifold)\n",
        "\n",
        "        # The following code shows that if more than one spike, different spikes, even for the same unit, are generated by independent mappings\n",
        "        submans = [ randman.Randman(nb_units, dim_manifold, alpha=alpha, seed=randman_seeds[k,i]) for i in range(nb_spikes) ]\n",
        "        units = []\n",
        "        times = []\n",
        "        for i,rm in enumerate(submans):\n",
        "            y = rm.eval_manifold(x)\n",
        "            y = standardize(y)\n",
        "            units.append(np.repeat(np.arange(nb_units).reshape(1,-1),nb_samples,axis=0))\n",
        "            times.append(y.numpy())\n",
        "\n",
        "        units = np.concatenate(units,axis=1)\n",
        "        times = np.concatenate(times,axis=1)\n",
        "        events = np.stack([times,units],axis=2)\n",
        "        data.append(events)\n",
        "        labels.append(k*np.ones(len(units)))\n",
        "        targets.append(x)\n",
        "\n",
        "    data = np.concatenate(data, axis=0)\n",
        "    labels = np.array(np.concatenate(labels, axis=0), dtype=int)\n",
        "    targets = np.concatenate(targets, axis=0)\n",
        "\n",
        "    if shuffle:\n",
        "        idx = np.arange(len(data))\n",
        "        np.random.shuffle(idx)\n",
        "        data = data[idx]\n",
        "        labels = labels[idx]\n",
        "        targets = targets[idx]\n",
        "\n",
        "    data[:,:,0] *= nb_steps*step_frac\n",
        "    # data = np.array(data, dtype=int)\n",
        "\n",
        "    if classification:\n",
        "        return data, labels\n",
        "    else:\n",
        "        return data, targets"
      ]
    },
    {
      "cell_type": "code",
      "execution_count": 9,
      "metadata": {
        "id": "1YXDm2hyXCpw"
      },
      "outputs": [],
      "source": [
        "def events_to_spike_train(data):\n",
        "    \"\"\"convert the data generated from manifold to spike train form\n",
        "\n",
        "    Args:\n",
        "        data (array): shape is [samples, nb_events, 2]\n",
        "\n",
        "    Returns:\n",
        "        spike_train: shape is [nb_samples, nb_time_steps, units]\n",
        "    \"\"\"\n",
        "\n",
        "    # astyle() will discard the decimal to give integer timestep\n",
        "    spike_steps = data[:, :, 0].astype(int)\n",
        "    spike_units = data[:, :, 1].astype(int)\n",
        "    # These will be the indices to entrices in the spike train to be set to 1\n",
        "\n",
        "    # Use the index on spike train matrix [samples, steps, units]\n",
        "    spike_train = np.zeros((data.shape[0], nb_steps, nb_inputs))\n",
        "    sample_indicies = np.expand_dims(np.arange(data.shape[0]), -1)\n",
        "    spike_train[sample_indicies, spike_steps, spike_units] = 1\n",
        "\n",
        "    return spike_train"
      ]
    },
    {
      "cell_type": "code",
      "execution_count": 10,
      "metadata": {
        "id": "glHckWSHXG0X"
      },
      "outputs": [],
      "source": [
        "def get_randman_dataset():\n",
        "    \"\"\"generate a TensorDataset encapsulated x and y, where x is spike trains\n",
        "\n",
        "    Returns:\n",
        "        TensorDataset: [nb_samples, time_steps, units] and [nb_samples]\n",
        "    \"\"\"\n",
        "    data, label = make_spiking_dataset(nb_classes=nb_outputs, nb_units=nb_inputs, nb_steps=nb_steps, dim_manifold=3, seed=SEED, nb_samples=n_samples)\n",
        "    spike_train = events_to_spike_train(data)\n",
        "\n",
        "    spike_train = torch.Tensor(spike_train).to(device)\n",
        "    label = torch.Tensor(label).to(device)\n",
        "\n",
        "    # encapulate using Torch.Dataset\n",
        "    dataset = TensorDataset(spike_train, label)\n",
        "\n",
        "    return dataset"
      ]
    },
    {
      "cell_type": "code",
      "execution_count": 11,
      "metadata": {
        "id": "HE_jYj9-Z_rW"
      },
      "outputs": [],
      "source": [
        "spike_trains = get_randman_dataset()"
      ]
    },
    {
      "cell_type": "code",
      "execution_count": 12,
      "metadata": {
        "colab": {
          "base_uri": "https://localhost:8080/"
        },
        "id": "csaf0dxCbKbE",
        "outputId": "638ecd41-b904-4022-9f22-b5121ee78a12"
      },
      "outputs": [
        {
          "output_type": "stream",
          "name": "stdout",
          "text": [
            "Sample shape: torch.Size([100, 50])\n",
            "Label: 1.0\n"
          ]
        }
      ],
      "source": [
        "sample, label = spike_trains[0]  # Access the first sample\n",
        "print(f\"Sample shape: {sample.shape}\")\n",
        "print(f\"Label: {label}\")"
      ]
    },
    {
      "cell_type": "code",
      "execution_count": 13,
      "metadata": {
        "colab": {
          "base_uri": "https://localhost:8080/"
        },
        "id": "2c1SEYzUKnyC",
        "outputId": "0ad68e8b-c4ed-4ff1-d943-a66c3cb87b96"
      },
      "outputs": [
        {
          "output_type": "execute_result",
          "data": {
            "text/plain": [
              "2000"
            ]
          },
          "metadata": {},
          "execution_count": 13
        }
      ],
      "source": [
        "len(spike_trains)"
      ]
    },
    {
      "cell_type": "code",
      "execution_count": 14,
      "metadata": {
        "id": "yCDWVxp0eHdI"
      },
      "outputs": [],
      "source": [
        "# Split into ttv sets\n",
        "train, test, validation = 0.8, 0.1, 0.1\n",
        "\n",
        "all_labels = [spike_trains[i][1] for i in range(len(spike_trains))]\n",
        "\n",
        "# First split: train (80%) and temp (20%)\n",
        "train_idx, temp_idx = train_test_split(\n",
        "    np.arange(len(spike_trains)),\n",
        "    test_size=test,\n",
        "    stratify=all_labels,\n",
        "    random_state=SEED,\n",
        "    shuffle=True\n",
        ")\n",
        "\n",
        "# Second split: val (10%) and test (10%) from temp\n",
        "val_idx, test_idx = train_test_split(\n",
        "    temp_idx,\n",
        "    test_size=0.5,\n",
        "    stratify=[all_labels[i] for i in temp_idx],\n",
        "    random_state=SEED,\n",
        "    shuffle=True\n",
        ")\n",
        "\n",
        "from torch.utils.data import Subset\n",
        "train_dataset = Subset(spike_trains, train_idx)\n",
        "val_dataset = Subset(spike_trains, val_idx)\n",
        "test_dataset = Subset(spike_trains, test_idx)\n",
        "\n",
        "#Batch_size = 32\n",
        "batch_size = 32\n",
        "\n",
        "train_loader = DataLoader(train_dataset,batch_size=batch_size,shuffle=True)\n",
        "val_loader = DataLoader(val_dataset, batch_size=batch_size)\n",
        "test_loader = DataLoader(test_dataset, batch_size=batch_size)\n",
        "\n",
        "train_labels = [spike_trains[i][1] for i in train_dataset.indices]\n",
        "test_labels = [spike_trains[i][1] for i in test_dataset.indices]\n",
        "val_labels = [spike_trains[i][1] for i in val_dataset.indices]"
      ]
    },
    {
      "cell_type": "code",
      "execution_count": 15,
      "metadata": {
        "colab": {
          "base_uri": "https://localhost:8080/"
        },
        "id": "5YmZ9Ku0Kufw",
        "outputId": "bb907d94-daa7-45c4-9a66-a791bdefc982"
      },
      "outputs": [
        {
          "output_type": "execute_result",
          "data": {
            "text/plain": [
              "(1800, 100, 100)"
            ]
          },
          "metadata": {},
          "execution_count": 15
        }
      ],
      "source": [
        "len(train_idx), len(val_idx), len(test_idx)"
      ]
    },
    {
      "cell_type": "code",
      "execution_count": 16,
      "metadata": {
        "colab": {
          "base_uri": "https://localhost:8080/"
        },
        "id": "pPxAh_lahBYS",
        "outputId": "88a031a0-6276-4b73-8672-6d52b04a1649"
      },
      "outputs": [
        {
          "output_type": "stream",
          "name": "stdout",
          "text": [
            "Batch data shape: torch.Size([32, 100, 50])\n",
            "Batch labels: tensor([0., 0., 0., 1., 0., 0., 0., 1., 0., 0., 1., 0., 0., 0., 0., 1., 1., 1.,\n",
            "        1., 1., 1., 0., 0., 0., 0., 0., 1., 1., 0., 0., 0., 0.])\n"
          ]
        }
      ],
      "source": [
        "# Example: Iterate through the training DataLoader\n",
        "for batch_data, batch_labels in train_loader:\n",
        "    print(f\"Batch data shape: {batch_data.shape}\")\n",
        "    print(f\"Batch labels: {batch_labels}\")\n",
        "    break"
      ]
    },
    {
      "cell_type": "code",
      "execution_count": 17,
      "metadata": {
        "colab": {
          "base_uri": "https://localhost:8080/"
        },
        "id": "RxdCHoCrCzAg",
        "outputId": "9d8a6082-b133-4f3c-e54f-b9cf01b969ad"
      },
      "outputs": [
        {
          "output_type": "execute_result",
          "data": {
            "text/plain": [
              "(4, 57, 4)"
            ]
          },
          "metadata": {},
          "execution_count": 17
        }
      ],
      "source": [
        "len(test_loader), len(train_loader), len(val_loader)"
      ]
    },
    {
      "cell_type": "code",
      "execution_count": 18,
      "metadata": {
        "colab": {
          "base_uri": "https://localhost:8080/"
        },
        "id": "HRaoVRONCy1y",
        "outputId": "686f9531-5861-4d52-eb7f-bfa3900bacd6"
      },
      "outputs": [
        {
          "output_type": "stream",
          "name": "stdout",
          "text": [
            "Counter({1: 900, 0: 900})\n",
            "Counter({1: 50, 0: 50})\n",
            "Counter({0: 50, 1: 50})\n"
          ]
        }
      ],
      "source": [
        "# Visualize class distribution\n",
        "from collections import Counter\n",
        "labels = [int(label) for label in train_labels]\n",
        "print(Counter(labels))\n",
        "labels = [int(label) for label in test_labels]\n",
        "print(Counter(labels))\n",
        "labels = [int(label) for label in val_labels]\n",
        "print(Counter(labels))"
      ]
    },
    {
      "cell_type": "code",
      "execution_count": 19,
      "metadata": {
        "id": "a6EIrrl6CyzL"
      },
      "outputs": [],
      "source": [
        "class SNN(nn.Module):\n",
        "    def __init__(self, num_inputs=nb_inputs, num_hidden=nb_hidden, num_outputs=nb_outputs, beta=0.95):\n",
        "        super(SNN, self).__init__()\n",
        "        self.fc1 = nn.Linear(num_inputs, num_hidden)\n",
        "        self.lif1 = snn.Leaky(beta=beta)\n",
        "\n",
        "        self.fc2 = nn.Linear(num_hidden, num_outputs)\n",
        "        self.lif2 = snn.Leaky(beta=beta, reset_mechanism=\"none\")\n",
        "\n",
        "        for m in self.modules():\n",
        "            if isinstance(m, nn.Linear):\n",
        "                nn.init.xavier_uniform_(m.weight)\n",
        "                nn.init.zeros_(m.bias)\n",
        "\n",
        "    def forward(self, x):\n",
        "        # import pdb; pdb.set_trace()\n",
        "        batch_size, time_steps, num_neurons = x.shape\n",
        "        x = x.permute(1, 0, 2)  # (time, batch, neurons)\n",
        "\n",
        "        mem1, mem2 = [torch.zeros(batch_size, layer.out_features, device=x.device)\n",
        "                      for layer in [self.fc1, self.fc2]]\n",
        "\n",
        "        mem2_rec = []\n",
        "\n",
        "        for t in range(time_steps):\n",
        "            spk1, mem1 = self.lif1(self.fc1(x[t]), mem1)\n",
        "            _, mem2 = self.lif2(self.fc2(spk1), mem2)\n",
        "            mem2_rec.append(mem2)\n",
        "\n",
        "        return torch.stack(mem2_rec, dim=0)  # (time_steps, batch_size, num_outputs)"
      ]
    },
    {
      "cell_type": "code",
      "execution_count": 20,
      "metadata": {
        "id": "22QGqJDtNIZ5"
      },
      "outputs": [],
      "source": [
        "def losscustom(mem, labels):\n",
        "  # batch, classes, time_steps\n",
        "  # import pdb; pdb.set_trace()\n",
        "  labels = labels.long()\n",
        "  non_labels = 1-labels\n",
        "\n",
        "  batch_idx = torch.arange(mem.shape[0])\n",
        "\n",
        "  correct = mem[batch_idx, labels]\n",
        "  non_correct = mem[batch_idx, non_labels]\n",
        "\n",
        "  diff = non_correct - correct\n",
        "  diff_activated = torch.where(diff > 0, diff, torch.zeros_like(diff))\n",
        "  return (diff_activated).mean()\n",
        "\n",
        "# def losscustom_temporal(mem, labels):\n",
        "#     # Shape: batch, classes, time\n",
        "#     labels = labels.long()\n",
        "#     non_labels = 1 - labels\n",
        "#     batch_idx = torch.arange(mem.shape[0])\n",
        "\n",
        "#     # Focus on final time slice or weighted sum over time\n",
        "#     final_mem = mem[:, :, -1]  # try end time step\n",
        "\n",
        "#     correct = final_mem[batch_idx, labels]\n",
        "#     non_correct = final_mem[batch_idx, non_labels]\n",
        "#     diff = non_correct - correct\n",
        "#     diff_activated = torch.where(diff > 0, diff, torch.zeros_like(diff))\n",
        "\n",
        "#     return diff_activated.mean()\n"
      ]
    },
    {
      "cell_type": "code",
      "execution_count": 21,
      "metadata": {
        "id": "_wtxeXFL_66P"
      },
      "outputs": [],
      "source": [
        "from tqdm import tqdm"
      ]
    },
    {
      "cell_type": "code",
      "source": [
        "criterion = nn.CrossEntropyLoss()"
      ],
      "metadata": {
        "id": "uKv169ZkalOT"
      },
      "execution_count": 22,
      "outputs": []
    },
    {
      "cell_type": "code",
      "execution_count": 23,
      "metadata": {
        "id": "VnJdNx6KCPvI"
      },
      "outputs": [],
      "source": [
        "class PSO:\n",
        "    def __init__(self, fitness_fn, dim, bounds, num_particles=100, max_iter=50,\n",
        "                 w=0.5, c1=1.25, c2=1.5):\n",
        "        self.fitness_fn = fitness_fn\n",
        "        self.dim = dim\n",
        "        self.bounds = bounds\n",
        "        self.num_particles = num_particles\n",
        "        self.max_iter = max_iter\n",
        "        self.w = w\n",
        "        self.c1 = c1\n",
        "        self.c2 = c2\n",
        "\n",
        "        self.X = np.random.uniform(bounds[0], bounds[1], (num_particles, dim))\n",
        "        self.V = np.zeros_like(self.X)\n",
        "        self.pbest = self.X.copy()\n",
        "        self.pbest_val = np.array([fitness_fn(x) for x in self.X])\n",
        "        self.gbest = self.pbest[np.argmin(self.pbest_val)]\n",
        "\n",
        "    def optimize(self):\n",
        "        for i in range(self.max_iter):\n",
        "            for j in range(self.num_particles):\n",
        "                r1, r2 = np.random.rand(), np.random.rand()\n",
        "                self.V[j] = (\n",
        "                    self.w * self.V[j] +\n",
        "                    self.c1 * r1 * (self.pbest[j] - self.X[j]) +\n",
        "                    self.c2 * r2 * (self.gbest - self.X[j])\n",
        "                )\n",
        "                self.X[j] += self.V[j]\n",
        "                # self.c1=0.95*self.c1\n",
        "                # self.c2=1.05*self.c2\n",
        "\n",
        "                # Apply bounds\n",
        "                self.X[j] = np.clip(self.X[j], self.bounds[0], self.bounds[1])\n",
        "\n",
        "                fitness = self.fitness_fn(self.X[j])\n",
        "                if fitness < self.pbest_val[j]:\n",
        "                    self.pbest[j] = self.X[j]\n",
        "                    self.pbest_val[j] = fitness\n",
        "                    if fitness < self.fitness_fn(self.gbest):\n",
        "                        self.gbest = self.X[j]\n",
        "\n",
        "            print(f\"Iteration {i+1}/{self.max_iter}, Best Loss: {self.fitness_fn(self.gbest):.4f}\")\n",
        "\n",
        "        return self.gbest"
      ]
    },
    {
      "cell_type": "code",
      "execution_count": 24,
      "metadata": {
        "id": "RQ697C7pCPsi"
      },
      "outputs": [],
      "source": [
        "def get_flat_weights(model):\n",
        "    return torch.cat([p.data.view(-1) for p in model.parameters()])\n",
        "\n",
        "def set_flat_weights(model, flat_vector):\n",
        "    pointer = 0\n",
        "    for param in model.parameters():\n",
        "        numel = param.numel()\n",
        "        values = flat_vector[pointer:pointer+numel]\n",
        "        param.data.copy_(values.view_as(param))\n",
        "        pointer += numel"
      ]
    },
    {
      "cell_type": "code",
      "execution_count": 25,
      "metadata": {
        "id": "a7mUwGRFf5Dd"
      },
      "outputs": [],
      "source": [
        "def compute_l2_penalty(model):\n",
        "    return sum((param**2).sum() for param in model.parameters())"
      ]
    },
    {
      "cell_type": "code",
      "execution_count": 26,
      "metadata": {
        "id": "HnyxD2fdg0tI"
      },
      "outputs": [],
      "source": [
        "def temporal_smoothness(mem):\n",
        "    # mem: shape (time, batch, outputs)\n",
        "    diffs = mem[1:] - mem[:-1]\n",
        "    return diffs.pow(2).mean()"
      ]
    },
    {
      "cell_type": "code",
      "execution_count": 27,
      "metadata": {
        "id": "PM3WpZyOCPqM"
      },
      "outputs": [],
      "source": [
        "def fitness_function(weight_vector_np):\n",
        "    model = SNN(num_inputs=nb_inputs, num_hidden=nb_hidden, num_outputs=nb_outputs).to(device)\n",
        "    flat_tensor = torch.tensor(weight_vector_np, dtype=torch.float32).to(device)\n",
        "    set_flat_weights(model, flat_tensor)\n",
        "\n",
        "    model.eval()\n",
        "    total_loss = 0\n",
        "    # correct = 0\n",
        "    # total = 0\n",
        "    with torch.no_grad():\n",
        "        for val_data, val_labels in val_loader:\n",
        "            # import pdb; pdb.set_trace()\n",
        "            val_data, val_labels = val_data.to(device), val_labels.to(device)\n",
        "\n",
        "            mem = model(val_data)\n",
        "            mem = mem.permute(1,2, 0)\n",
        "            # val_labels = val_labels.long()\n",
        "            # mem = torch.max(mem, dim = -1)[0]\n",
        "            # loss = criterion(mem, val_labels)\n",
        "            reg_term = 1e-5 * compute_l2_penalty(model)\n",
        "            loss = losscustom(mem, val_labels)\n",
        "            # total_loss += loss.item()\n",
        "            smoothness = temporal_smoothness(mem)\n",
        "            total_loss += (loss + 1e-5 * reg_term + 1e-3 * smoothness).item()\n",
        "            # mem = model(val_data).mean(dim=0)\n",
        "            # preds = mem.argmax(dim=1)\n",
        "            # correct += (preds == val_labels).sum().item()\n",
        "            # total += val_labels.size(0)\n",
        "\n",
        "    return total_loss / len(val_loader)\n",
        "    # accuracy = correct / total\n",
        "    # return -accuracy"
      ]
    },
    {
      "cell_type": "code",
      "execution_count": 28,
      "metadata": {
        "colab": {
          "base_uri": "https://localhost:8080/"
        },
        "id": "Pp3Q8XpqCPnU",
        "outputId": "651e96f3-3787-491f-a5cd-148fafd1c69d"
      },
      "outputs": [
        {
          "output_type": "stream",
          "name": "stdout",
          "text": [
            "Iteration 1/20, Best Loss: 0.3901\n",
            "Iteration 2/20, Best Loss: 0.3416\n",
            "Iteration 3/20, Best Loss: 0.3864\n",
            "Iteration 4/20, Best Loss: 0.3827\n",
            "Iteration 5/20, Best Loss: 0.2450\n",
            "Iteration 6/20, Best Loss: 0.2068\n",
            "Iteration 7/20, Best Loss: 0.1984\n",
            "Iteration 8/20, Best Loss: 0.1961\n",
            "Iteration 9/20, Best Loss: 0.1959\n",
            "Iteration 10/20, Best Loss: 0.1900\n",
            "Iteration 11/20, Best Loss: 0.1541\n",
            "Iteration 12/20, Best Loss: 0.1403\n",
            "Iteration 13/20, Best Loss: 0.1493\n",
            "Iteration 14/20, Best Loss: 0.1383\n",
            "Iteration 15/20, Best Loss: 0.1350\n",
            "Iteration 16/20, Best Loss: 0.1310\n",
            "Iteration 17/20, Best Loss: 0.1318\n",
            "Iteration 18/20, Best Loss: 0.1269\n",
            "Iteration 19/20, Best Loss: 0.1077\n",
            "Iteration 20/20, Best Loss: 0.1100\n"
          ]
        }
      ],
      "source": [
        "dummy_model = SNN(num_inputs=nb_inputs, num_hidden=nb_hidden, num_outputs=nb_outputs).to(device)\n",
        "dummy_weights = get_flat_weights(dummy_model)\n",
        "# min_w, max_w = dummy_weights.min().item(), dummy_weights.max().item()\n",
        "bounds = (-1.0, 1.0)\n",
        "dim = len(dummy_weights)\n",
        "\n",
        "pso = PSO(\n",
        "    fitness_fn=fitness_function,\n",
        "    dim=dim,\n",
        "    bounds=bounds,\n",
        "    num_particles=200,\n",
        "    max_iter=20\n",
        ")\n",
        "\n",
        "best_weights = pso.optimize()\n",
        "\n",
        "# Load best weights into a new model\n",
        "best_model = SNN(num_inputs=nb_inputs, num_hidden=nb_hidden, num_outputs=nb_outputs).to(device)\n",
        "set_flat_weights(best_model, torch.tensor(best_weights, dtype=torch.float32).to(device))"
      ]
    },
    {
      "cell_type": "code",
      "execution_count": 29,
      "metadata": {
        "id": "LGQqwxFCCoaB",
        "colab": {
          "base_uri": "https://localhost:8080/"
        },
        "outputId": "f4bd0ac2-609f-426a-dd23-cd4ffb8b6189"
      },
      "outputs": [
        {
          "output_type": "stream",
          "name": "stdout",
          "text": [
            "Test Loss: 0.1181, Accuracy: 63.00%\n"
          ]
        }
      ],
      "source": [
        "def evaluate_model(model, data_loader):\n",
        "    model.eval()\n",
        "    total_loss = 0\n",
        "    correct = 0\n",
        "    total = 0\n",
        "    with torch.no_grad():\n",
        "        for data, labels in data_loader:\n",
        "            data, labels = data.to(device), labels.to(device)\n",
        "            mem = model(data)\n",
        "            mem = mem.permute(1,2, 0)\n",
        "            loss = losscustom(mem, labels)\n",
        "            total_loss += loss.item()\n",
        "            mem_out_aux = torch.max(mem, dim = -1)[0]\n",
        "            preds = torch.argmax(mem_out_aux, dim=1)\n",
        "            correct += (preds == labels).sum().item()\n",
        "            total += labels.size(0)\n",
        "\n",
        "    print(f\"Test Loss: {total_loss / len(data_loader):.4f}, Accuracy: {100 * correct / total:.2f}%\")\n",
        "\n",
        "evaluate_model(best_model, test_loader)"
      ]
    },
    {
      "cell_type": "code",
      "execution_count": 30,
      "metadata": {
        "colab": {
          "base_uri": "https://localhost:8080/",
          "height": 564
        },
        "id": "HY7tSUf-CoW6",
        "outputId": "1500e467-9515-4395-e9fc-e9f4e871f56f"
      },
      "outputs": [
        {
          "output_type": "display_data",
          "data": {
            "text/plain": [
              "<Figure size 1000x600 with 1 Axes>"
            ],
            "image/png": "[encoded data removed]"
          },
          "metadata": {}
        }
      ],
      "source": [
        "import matplotlib.pyplot as plt\n",
        "\n",
        "# Select a batch for visualization\n",
        "inputs, labels = next(iter(test_loader))\n",
        "# inputs = torch.ones([1,100,100])\n",
        "mem_out = best_model(inputs)  # (time_steps, batch_size, num_outputs)\n",
        "\n",
        "# Select first sample in the batch\n",
        "mem_potentials = mem_out[:, 0, :].cpu().detach().numpy()  # Shape: (time_steps, num_outputs)\n",
        "time_steps = mem_potentials.shape[0]\n",
        "num_classes = mem_potentials.shape[1]\n",
        "\n",
        "# Plot membrane potential over time for each output class\n",
        "plt.figure(figsize=(10, 6))\n",
        "for class_idx in range(num_classes):\n",
        "    plt.plot(range(time_steps), mem_potentials[:, class_idx], label=f\"Class {class_idx}\")\n",
        "\n",
        "plt.xlabel(\"Time Step\")\n",
        "plt.ylabel(\"Membrane Potential\")\n",
        "plt.title(\"Membrane Potential Evolution Over Time\")\n",
        "plt.legend()\n",
        "plt.show()"
      ]
    },
    {
      "cell_type": "code",
      "execution_count": 31,
      "metadata": {
        "colab": {
          "base_uri": "https://localhost:8080/"
        },
        "id": "LVREZPU7Aej8",
        "outputId": "ece50c72-08cd-4656-d094-8a379d57f32e"
      },
      "outputs": [
        {
          "output_type": "stream",
          "name": "stdout",
          "text": [
            "torch.Size([100, 32, 2])\n",
            "torch.Size([32])\n",
            "torch.Size([32, 100, 50])\n"
          ]
        }
      ],
      "source": [
        "print(mem_out.shape)\n",
        "print(labels.shape)\n",
        "print(inputs.shape)"
      ]
    },
    {
      "cell_type": "code",
      "execution_count": 32,
      "metadata": {
        "colab": {
          "base_uri": "https://localhost:8080/"
        },
        "id": "Nf9WSzbGCoTy",
        "outputId": "c1113580-c6b6-46e0-bebf-87a1ecc48c44"
      },
      "outputs": [
        {
          "output_type": "stream",
          "name": "stdout",
          "text": [
            "0.003482694970443845\n"
          ]
        }
      ],
      "source": [
        "print(losscustom(mem_out.permute(1,2, 0), labels).item()/inputs.shape[0])"
      ]
    },
    {
      "cell_type": "code",
      "execution_count": null,
      "metadata": {
        "colab": {
          "base_uri": "https://localhost:8080/"
        },
        "id": "syJ4KRxpASxx",
        "outputId": "5051a3da-75bd-4917-da6e-6d90b0c160da"
      },
      "outputs": [
        {
          "data": {
            "text/plain": [
              "torch.Size([2652])"
            ]
          },
          "execution_count": 120,
          "metadata": {},
          "output_type": "execute_result"
        }
      ],
      "source": [
        "get_flat_weights(best_model).shape"
      ]
    },
    {
      "cell_type": "code",
      "execution_count": null,
      "metadata": {
        "colab": {
          "base_uri": "https://localhost:8080/"
        },
        "id": "8ZsoYwR_ASvK",
        "outputId": "a3a8425a-69f1-47c8-b799-6152611a3320"
      },
      "outputs": [
        {
          "data": {
            "text/plain": [
              "Parameter containing:\n",
              "tensor([[-0.3967, -0.1702, -0.1788,  ...,  0.6425,  0.3367,  0.5097],\n",
              "        [ 0.1297,  0.5911, -0.4952,  ..., -0.2442, -0.0606,  0.7421],\n",
              "        [ 0.7845,  0.1208,  0.0635,  ..., -0.3149,  0.2372,  0.2907],\n",
              "        ...,\n",
              "        [ 0.2519,  0.0447,  0.4045,  ..., -0.5563,  0.3051,  0.0519],\n",
              "        [ 0.8454,  0.0061,  0.2771,  ...,  0.7572, -0.3860, -0.1832],\n",
              "        [ 0.1718, -0.2241, -0.4335,  ..., -0.0078, -0.0687,  0.1098]],\n",
              "       requires_grad=True)"
            ]
          },
          "execution_count": 121,
          "metadata": {},
          "output_type": "execute_result"
        }
      ],
      "source": [
        "best_model.fc1.weight"
      ]
    },
    {
      "cell_type": "code",
      "execution_count": null,
      "metadata": {
        "id": "8GFCo_dPASsk"
      },
      "outputs": [],
      "source": []
    },
    {
      "cell_type": "code",
      "execution_count": null,
      "metadata": {
        "id": "1Ad4Z5WaASqO"
      },
      "outputs": [],
      "source": []
    },
    {
      "cell_type": "code",
      "execution_count": null,
      "metadata": {
        "id": "xYYit1dIASn4"
      },
      "outputs": [],
      "source": []
    },
    {
      "cell_type": "code",
      "execution_count": null,
      "metadata": {
        "id": "ot_0xgwvASlj"
      },
      "outputs": [],
      "source": []
    },
    {
      "cell_type": "code",
      "execution_count": null,
      "metadata": {
        "id": "QpM-OaOFASjL"
      },
      "outputs": [],
      "source": []
    },
    {
      "cell_type": "code",
      "execution_count": null,
      "metadata": {
        "id": "oGGbIQqFASg3"
      },
      "outputs": [],
      "source": []
    },
    {
      "cell_type": "code",
      "execution_count": null,
      "metadata": {
        "id": "lvj8TlmZASev"
      },
      "outputs": [],
      "source": []
    },
    {
      "cell_type": "code",
      "execution_count": null,
      "metadata": {
        "id": "x3TA9AIAASc9"
      },
      "outputs": [],
      "source": []
    },
    {
      "cell_type": "code",
      "execution_count": null,
      "metadata": {
        "id": "eUAXeeHjASaN"
      },
      "outputs": [],
      "source": []
    },
    {
      "cell_type": "code",
      "execution_count": null,
      "metadata": {
        "id": "EJzQ38iHCoQ4"
      },
      "outputs": [],
      "source": []
    },
    {
      "cell_type": "code",
      "execution_count": null,
      "metadata": {
        "id": "Vr6BDQhTCoNT"
      },
      "outputs": [],
      "source": []
    },
    {
      "cell_type": "code",
      "execution_count": null,
      "metadata": {
        "id": "iRE_KeIaCPkv"
      },
      "outputs": [],
      "source": []
    },
    {
      "cell_type": "code",
      "execution_count": null,
      "metadata": {
        "id": "ROTReIN2_GkH"
      },
      "outputs": [],
      "source": []
    }
  ],
  "metadata": {
    "colab": {
      "provenance": [],
      "authorship_tag": "ABX9TyO3AKULGi5J3SOiRzNOlLbL",
      "include_colab_link": true
    },
    "kernelspec": {
      "display_name": "Python 3",
      "name": "python3"
    },
    "language_info": {
      "name": "python"
    }
  },
  "nbformat": 4,
  "nbformat_minor": 0
}